{
 "cells": [
  {
   "cell_type": "markdown",
   "id": "1fbabddf",
   "metadata": {},
   "source": [
    "# CCF-C论文实验绘图使用(使用EA)"
   ]
  },
  {
   "cell_type": "markdown",
   "id": "76d3cfe0",
   "metadata": {
    "tags": []
   },
   "source": [
    "## 数据准备与加载"
   ]
  },
  {
   "cell_type": "code",
   "execution_count": 1,
   "id": "d8562b1a",
   "metadata": {},
   "outputs": [],
   "source": [
    "import joblib\n",
    "import math\n",
    "import copy\n",
    "import time\n",
    "import numpy as np\n",
    "import pandas as pd\n",
    "import matplotlib.pyplot as plt\n",
    "from tensorflow.keras.models import load_model \n",
    "from sklearn.model_selection import train_test_split\n",
    "from sklearn.metrics import mean_absolute_error, explained_variance_score, r2_score, mean_squared_error"
   ]
  },
  {
   "cell_type": "code",
   "execution_count": 2,
   "id": "33feaec8",
   "metadata": {},
   "outputs": [],
   "source": [
    "# 加载训练数据\n",
    "def load_data(path):\n",
    "    df = pd.read_csv(path)\n",
    "    dv = df.values\n",
    "    X = dv[:, 1:-2]\n",
    "    Y = dv[:, -2:]\n",
    "    return X[:, :, np.newaxis], Y\n",
    "\n",
    "# 数据准备\n",
    "X, y = load_data('./dataset/location_data.csv')\n",
    "X_train, X_test, y_train, y_test = train_test_split(X, y, test_size=0.2, random_state=2021)\n",
    "\n",
    "X02, y02 = load_data('./dataset/location_data02.csv')"
   ]
  },
  {
   "cell_type": "markdown",
   "id": "91206781-1249-44be-82cb-b65f32242ff1",
   "metadata": {
    "tags": []
   },
   "source": [
    "## 查看测试数据"
   ]
  },
  {
   "cell_type": "code",
   "execution_count": 3,
   "id": "72675c06-ee24-46df-a6a3-f8f01aa40cd3",
   "metadata": {},
   "outputs": [
    {
     "data": {
      "text/plain": [
       "(400, 100, 1)"
      ]
     },
     "execution_count": 3,
     "metadata": {},
     "output_type": "execute_result"
    }
   ],
   "source": [
    "X_test.shape"
   ]
  },
  {
   "cell_type": "code",
   "execution_count": 4,
   "id": "e0bafbfd-032e-4f29-a86d-13c9c49e3666",
   "metadata": {},
   "outputs": [
    {
     "data": {
      "text/plain": [
       "(400, 2)"
      ]
     },
     "execution_count": 4,
     "metadata": {},
     "output_type": "execute_result"
    }
   ],
   "source": [
    "y_test.shape"
   ]
  },
  {
   "cell_type": "code",
   "execution_count": 5,
   "id": "e48df5e6-927a-41e0-af20-ff58514cc1cb",
   "metadata": {},
   "outputs": [
    {
     "data": {
      "text/plain": [
       "array([[3.76, 3.77],\n",
       "       [1.57, 4.63],\n",
       "       [5.43, 6.77],\n",
       "       [9.67, 7.94],\n",
       "       [7.09, 8.28],\n",
       "       [8.59, 8.24],\n",
       "       [9.14, 2.22],\n",
       "       [3.66, 7.91],\n",
       "       [8.93, 1.86],\n",
       "       [2.38, 2.02]])"
      ]
     },
     "execution_count": 5,
     "metadata": {},
     "output_type": "execute_result"
    }
   ],
   "source": [
    "y_test[:10] # 输出前10个的坐标"
   ]
  },
  {
   "cell_type": "markdown",
   "id": "86561bba-9d4d-4e00-8245-4d4b871a6789",
   "metadata": {
    "tags": []
   },
   "source": [
    "## 创建展示结果"
   ]
  },
  {
   "cell_type": "code",
   "execution_count": 6,
   "id": "8828d937-0933-4121-9d0e-027084ca01c3",
   "metadata": {},
   "outputs": [
    {
     "data": {
      "text/html": [
       "<div>\n",
       "<style scoped>\n",
       "    .dataframe tbody tr th:only-of-type {\n",
       "        vertical-align: middle;\n",
       "    }\n",
       "\n",
       "    .dataframe tbody tr th {\n",
       "        vertical-align: top;\n",
       "    }\n",
       "\n",
       "    .dataframe thead th {\n",
       "        text-align: right;\n",
       "    }\n",
       "</style>\n",
       "<table border=\"1\" class=\"dataframe\">\n",
       "  <thead>\n",
       "    <tr style=\"text-align: right;\">\n",
       "      <th></th>\n",
       "      <th>MAE</th>\n",
       "      <th>RMSE</th>\n",
       "      <th>R2</th>\n",
       "      <th>TIME</th>\n",
       "    </tr>\n",
       "  </thead>\n",
       "  <tbody>\n",
       "    <tr>\n",
       "      <th>RNN</th>\n",
       "      <td>0</td>\n",
       "      <td>0</td>\n",
       "      <td>0</td>\n",
       "      <td>0</td>\n",
       "    </tr>\n",
       "    <tr>\n",
       "      <th>DNN</th>\n",
       "      <td>0</td>\n",
       "      <td>0</td>\n",
       "      <td>0</td>\n",
       "      <td>0</td>\n",
       "    </tr>\n",
       "    <tr>\n",
       "      <th>SVM</th>\n",
       "      <td>0</td>\n",
       "      <td>0</td>\n",
       "      <td>0</td>\n",
       "      <td>0</td>\n",
       "    </tr>\n",
       "    <tr>\n",
       "      <th>LSTM</th>\n",
       "      <td>0</td>\n",
       "      <td>0</td>\n",
       "      <td>0</td>\n",
       "      <td>0</td>\n",
       "    </tr>\n",
       "    <tr>\n",
       "      <th>GRU</th>\n",
       "      <td>0</td>\n",
       "      <td>0</td>\n",
       "      <td>0</td>\n",
       "      <td>0</td>\n",
       "    </tr>\n",
       "  </tbody>\n",
       "</table>\n",
       "</div>"
      ],
      "text/plain": [
       "      MAE  RMSE  R2  TIME\n",
       "RNN     0     0   0     0\n",
       "DNN     0     0   0     0\n",
       "SVM     0     0   0     0\n",
       "LSTM    0     0   0     0\n",
       "GRU     0     0   0     0"
      ]
     },
     "execution_count": 6,
     "metadata": {},
     "output_type": "execute_result"
    }
   ],
   "source": [
    "arr = np.zeros((5, 4), dtype=int)\n",
    "res = pd.DataFrame(arr, index = ['RNN', 'DNN', 'SVM', 'LSTM', 'GRU'], \n",
    "                   columns = ['MAE', 'RMSE', 'R2', 'TIME'])\n",
    "res"
   ]
  },
  {
   "cell_type": "markdown",
   "id": "6b049d03",
   "metadata": {
    "tags": []
   },
   "source": [
    "## 导入双SVR模型计算指标"
   ]
  },
  {
   "cell_type": "code",
   "execution_count": 7,
   "id": "1c46e0a0",
   "metadata": {},
   "outputs": [
    {
     "name": "stderr",
     "output_type": "stream",
     "text": [
      "/Users/frank/anaconda3/envs/tensorflow/lib/python3.7/site-packages/sklearn/base.py:315: UserWarning: Trying to unpickle estimator SVR from version 0.23.2 when using version 0.24.0. This might lead to breaking code or invalid results. Use at your own risk.\n",
      "  UserWarning)\n"
     ]
    }
   ],
   "source": [
    "# 加载坐标模型\n",
    "model_x = joblib.load('./models/SVR_x_2021.model')\n",
    "model_y = joblib.load('./models/SVR_y_2021.model')"
   ]
  },
  {
   "cell_type": "code",
   "execution_count": 8,
   "id": "b84485da",
   "metadata": {},
   "outputs": [
    {
     "name": "stdout",
     "output_type": "stream",
     "text": [
      "[[2.019872536804463, 1.1504658854707914], [1.9174415171418377, 4.857493601728745], [2.8777523461834495, 8.218324483304807], [4.3622108033891775, 0.6274118267515414], [4.055571006636194, 6.1590862433955], [5.350674626615138, 2.8127786337651046], [6.42470271360842, 8.819694579139078], [6.980132678366614, 5.587903226497848], [8.356732356614094, 1.3613988644955959], [9.286397538342719, 7.910289796490444]]\n",
      "MAE指标: 0.3727123714581049\n",
      "MSE指标: 0.21134940529974042\n",
      "RMSE指标: 0.45972753376292397\n",
      "r2指标: 0.9740350753248724\n",
      "ev指标: 0.9785745183118661\n",
      "time: 0.018345117568969727\n"
     ]
    }
   ],
   "source": [
    "start = time.time()\n",
    "# 预测结果分析\n",
    "px = model_x.predict(X02.reshape(20, 100))\n",
    "py = model_y.predict(X02.reshape(20, 100))\n",
    "pxy = [[xi, yi] for xi, yi in zip(px, py)]\n",
    "print(pxy[:10])\n",
    "print('MAE指标:', mean_absolute_error(y02, pxy))\n",
    "print('MSE指标:', mean_squared_error(y02, pxy))\n",
    "print('RMSE指标:', math.sqrt(mean_squared_error(y02, pxy)))\n",
    "print('r2指标:', r2_score(y02, pxy))\n",
    "print('ev指标:', explained_variance_score(y02, pxy))\n",
    "end = time.time()\n",
    "print('time:', end-start)"
   ]
  },
  {
   "cell_type": "code",
   "execution_count": 9,
   "id": "0cc14fcc-ac6d-49b9-b243-c7d596d7faaa",
   "metadata": {},
   "outputs": [],
   "source": [
    "res.loc['SVM','MAE'] = mean_absolute_error(y02, pxy)\n",
    "res.loc['SVM','RMSE'] = math.sqrt(mean_squared_error(y02, pxy))\n",
    "res.loc['SVM','R2'] = r2_score(y02, pxy)\n",
    "res.loc['SVM','TIME'] = end-start"
   ]
  },
  {
   "cell_type": "markdown",
   "id": "789114fa",
   "metadata": {
    "tags": []
   },
   "source": [
    "## 导入LSTM模型计算指标"
   ]
  },
  {
   "cell_type": "code",
   "execution_count": 10,
   "id": "bf61bbfa",
   "metadata": {},
   "outputs": [
    {
     "name": "stdout",
     "output_type": "stream",
     "text": [
      "WARNING:tensorflow:From /Users/frank/anaconda3/envs/tensorflow/lib/python3.7/site-packages/tensorflow_core/python/ops/resource_variable_ops.py:1630: calling BaseResourceVariable.__init__ (from tensorflow.python.ops.resource_variable_ops) with constraint is deprecated and will be removed in a future version.\n",
      "Instructions for updating:\n",
      "If using Keras pass *_constraint arguments to layers.\n",
      "Model: \"sequential_1\"\n",
      "_________________________________________________________________\n",
      "Layer (type)                 Output Shape              Param #   \n",
      "=================================================================\n",
      "lstm_1 (LSTM)                (None, 100)               40800     \n",
      "_________________________________________________________________\n",
      "dense_1 (Dense)              (None, 2)                 202       \n",
      "=================================================================\n",
      "Total params: 41,002\n",
      "Trainable params: 41,002\n",
      "Non-trainable params: 0\n",
      "_________________________________________________________________\n"
     ]
    },
    {
     "name": "stderr",
     "output_type": "stream",
     "text": [
      "2022-07-17 15:31:38.081002: I tensorflow/core/platform/cpu_feature_guard.cc:142] Your CPU supports instructions that this TensorFlow binary was not compiled to use: AVX2 FMA\n",
      "2022-07-17 15:31:38.097947: I tensorflow/compiler/xla/service/service.cc:168] XLA service 0x7fa80a645cf0 initialized for platform Host (this does not guarantee that XLA will be used). Devices:\n",
      "2022-07-17 15:31:38.097959: I tensorflow/compiler/xla/service/service.cc:176]   StreamExecutor device (0): Host, Default Version\n"
     ]
    }
   ],
   "source": [
    "# 加载预训练模型\n",
    "lstm = load_model('./models/LSTM_2021.h5', compile=False)\n",
    "lstm.summary()"
   ]
  },
  {
   "cell_type": "code",
   "execution_count": 11,
   "id": "82cff5b1",
   "metadata": {},
   "outputs": [
    {
     "name": "stdout",
     "output_type": "stream",
     "text": [
      "MAE指标: 0.30089942730590713\n",
      "MSE指标: 0.18007576287538785\n",
      "RMSE指标: 0.42435334672344444\n",
      "r2指标: 0.9750130443808189\n",
      "ev指标: 0.9780773859813376\n",
      "time: 0.23817086219787598\n"
     ]
    }
   ],
   "source": [
    "start = time.time()\n",
    "# 预测测试集计算指标\n",
    "pxy = lstm.predict(X_test)\n",
    "pxy = np.squeeze(pxy)\n",
    "print('MAE指标:', mean_absolute_error(y_test, pxy))\n",
    "print('MSE指标:', mean_squared_error(y_test, pxy))\n",
    "print('RMSE指标:', math.sqrt(mean_squared_error(y_test, pxy)))\n",
    "print('r2指标:', r2_score(y_test, pxy))\n",
    "print('ev指标:', explained_variance_score(y_test, pxy))\n",
    "end = time.time()\n",
    "print('time:', end-start)"
   ]
  },
  {
   "cell_type": "code",
   "execution_count": 12,
   "id": "48c899d6",
   "metadata": {},
   "outputs": [
    {
     "name": "stdout",
     "output_type": "stream",
     "text": [
      "MAE指标: 0.24164393723011016\n",
      "MSE指标: 0.1153694086472229\n",
      "RMSE指标: 0.33966072579446527\n",
      "r2指标: 0.9859137905547547\n",
      "ev指标: 0.987224027415267\n",
      "time: 0.018288135528564453\n"
     ]
    }
   ],
   "source": [
    "start = time.time()\n",
    "# 02数据预测计算指标\n",
    "pxy = lstm.predict(X02)\n",
    "pxy = np.squeeze(pxy)\n",
    "print('MAE指标:', mean_absolute_error(y02, pxy))\n",
    "print('MSE指标:', mean_squared_error(y02, pxy))\n",
    "print('RMSE指标:', math.sqrt(mean_squared_error(y02, pxy)))\n",
    "print('r2指标:', r2_score(y02, pxy))\n",
    "print('ev指标:', explained_variance_score(y02, pxy))\n",
    "end = time.time()\n",
    "print('time:', end-start)"
   ]
  },
  {
   "cell_type": "code",
   "execution_count": 13,
   "id": "b0a90bd7-5084-4c93-b7cf-39073b6d92d1",
   "metadata": {},
   "outputs": [],
   "source": [
    "res.loc['LSTM','MAE'] = mean_absolute_error(y02, pxy)\n",
    "res.loc['LSTM','RMSE'] = math.sqrt(mean_squared_error(y02, pxy))\n",
    "res.loc['LSTM','R2'] = r2_score(y02, pxy)\n",
    "res.loc['LSTM','TIME'] = end-start"
   ]
  },
  {
   "cell_type": "markdown",
   "id": "3fe11908-82a5-41af-bb2c-634bcd4a7216",
   "metadata": {
    "tags": []
   },
   "source": [
    "## 导入RNN模型计算指标"
   ]
  },
  {
   "cell_type": "code",
   "execution_count": 14,
   "id": "d3f40bec-9f24-40f9-adb6-51eafeda03e2",
   "metadata": {},
   "outputs": [
    {
     "name": "stdout",
     "output_type": "stream",
     "text": [
      "Model: \"sequential_1\"\n",
      "_________________________________________________________________\n",
      "Layer (type)                 Output Shape              Param #   \n",
      "=================================================================\n",
      "simple_rnn_1 (SimpleRNN)     (None, 100)               10200     \n",
      "_________________________________________________________________\n",
      "dense_1 (Dense)              (None, 2)                 202       \n",
      "=================================================================\n",
      "Total params: 10,402\n",
      "Trainable params: 10,402\n",
      "Non-trainable params: 0\n",
      "_________________________________________________________________\n"
     ]
    }
   ],
   "source": [
    "# 加载预训练模型\n",
    "rnn = load_model('./models/RNN_2021.h5', compile=False)\n",
    "rnn.summary()"
   ]
  },
  {
   "cell_type": "code",
   "execution_count": 15,
   "id": "9e8b96d9-6ed4-421e-bbf4-9e92c2324b88",
   "metadata": {},
   "outputs": [
    {
     "name": "stdout",
     "output_type": "stream",
     "text": [
      "MAE指标: 1.665695837825538\n",
      "MSE指标: 4.118840683054572\n",
      "RMSE指标: 2.029492715693893\n",
      "r2指标: 0.4394924213398795\n",
      "ev指标: 0.45112126666344743\n",
      "time: 0.1090078353881836\n"
     ]
    }
   ],
   "source": [
    "start = time.time()\n",
    "# 预测测试集计算指标\n",
    "pxy = rnn.predict(X_test)\n",
    "pxy = np.squeeze(pxy)\n",
    "print('MAE指标:', mean_absolute_error(y_test, pxy))\n",
    "print('MSE指标:', mean_squared_error(y_test, pxy))\n",
    "print('RMSE指标:', math.sqrt(mean_squared_error(y_test, pxy)))\n",
    "print('r2指标:', r2_score(y_test, pxy))\n",
    "print('ev指标:', explained_variance_score(y_test, pxy))\n",
    "end = time.time()\n",
    "print('time:', end-start)"
   ]
  },
  {
   "cell_type": "code",
   "execution_count": 16,
   "id": "e2a01955-cedb-4c65-9233-788dec53a2af",
   "metadata": {},
   "outputs": [
    {
     "name": "stdout",
     "output_type": "stream",
     "text": [
      "MAE指标: 1.7757721487283709\n",
      "MSE指标: 4.573417708400535\n",
      "RMSE指标: 2.1385550515244014\n",
      "r2指标: 0.4366425468830414\n",
      "ev指标: 0.46001652860202574\n",
      "time: 0.009209156036376953\n"
     ]
    }
   ],
   "source": [
    "start = time.time()\n",
    "# 02数据预测计算指标\n",
    "pxy = rnn.predict(X02)\n",
    "pxy = np.squeeze(pxy)\n",
    "print('MAE指标:', mean_absolute_error(y02, pxy))\n",
    "print('MSE指标:', mean_squared_error(y02, pxy))\n",
    "print('RMSE指标:', math.sqrt(mean_squared_error(y02, pxy)))\n",
    "print('r2指标:', r2_score(y02, pxy))\n",
    "print('ev指标:', explained_variance_score(y02, pxy))\n",
    "end = time.time()\n",
    "print('time:', end-start)"
   ]
  },
  {
   "cell_type": "code",
   "execution_count": 17,
   "id": "4eb9a2c6-bfdc-4369-acb7-eb407ccea0ab",
   "metadata": {},
   "outputs": [],
   "source": [
    "res.loc['RNN','MAE'] = mean_absolute_error(y02, pxy)\n",
    "res.loc['RNN','RMSE'] = math.sqrt(mean_squared_error(y02, pxy))\n",
    "res.loc['RNN','R2'] = r2_score(y02, pxy)\n",
    "res.loc['RNN','TIME'] = end-start"
   ]
  },
  {
   "cell_type": "markdown",
   "id": "3e53e089-5512-4402-a732-fee09a898070",
   "metadata": {
    "tags": []
   },
   "source": [
    "## 导入DNN模型计算指标"
   ]
  },
  {
   "cell_type": "code",
   "execution_count": 18,
   "id": "67b70ad1-6b97-4e26-ae44-a246b73ed297",
   "metadata": {},
   "outputs": [
    {
     "name": "stdout",
     "output_type": "stream",
     "text": [
      "Model: \"sequential_1\"\n",
      "_________________________________________________________________\n",
      "Layer (type)                 Output Shape              Param #   \n",
      "=================================================================\n",
      "dense_3 (Dense)              (None, 100)               10100     \n",
      "_________________________________________________________________\n",
      "dense_4 (Dense)              (None, 10)                1010      \n",
      "_________________________________________________________________\n",
      "dense_5 (Dense)              (None, 2)                 22        \n",
      "=================================================================\n",
      "Total params: 11,132\n",
      "Trainable params: 11,132\n",
      "Non-trainable params: 0\n",
      "_________________________________________________________________\n"
     ]
    }
   ],
   "source": [
    "# 加载预训练模型\n",
    "dnn = load_model('./models/DNN_2021.h5', compile=False)\n",
    "dnn.summary()"
   ]
  },
  {
   "cell_type": "code",
   "execution_count": 19,
   "id": "587b9077-7bb7-4cbf-920b-fbd3be2d691f",
   "metadata": {},
   "outputs": [
    {
     "name": "stdout",
     "output_type": "stream",
     "text": [
      "MAE指标: 0.5923504185073079\n",
      "MSE指标: 0.5842110479024896\n",
      "RMSE指标: 0.7643369989098326\n",
      "r2指标: 0.9210565716676742\n",
      "ev指标: 0.9299811005363616\n",
      "time: 0.03298616409301758\n"
     ]
    }
   ],
   "source": [
    "start = time.time()\n",
    "# 预测测试集计算指标\n",
    "pxy = dnn.predict(X_test.reshape(400, 100))\n",
    "pxy = np.squeeze(pxy)\n",
    "print('MAE指标:', mean_absolute_error(y_test, pxy))\n",
    "print('MSE指标:', mean_squared_error(y_test, pxy))\n",
    "print('RMSE指标:', math.sqrt(mean_squared_error(y_test, pxy)))\n",
    "print('r2指标:', r2_score(y_test, pxy))\n",
    "print('ev指标:', explained_variance_score(y_test, pxy))\n",
    "end = time.time()\n",
    "print('time:', end-start)"
   ]
  },
  {
   "cell_type": "code",
   "execution_count": 20,
   "id": "5bb13dc0-1656-4d67-aec0-8a32901d7be4",
   "metadata": {},
   "outputs": [
    {
     "name": "stdout",
     "output_type": "stream",
     "text": [
      "MAE指标: 0.4972196419835091\n",
      "MSE指标: 0.4285942016590419\n",
      "RMSE指标: 0.6546710637098924\n",
      "r2指标: 0.9472487192311967\n",
      "ev指标: 0.9538703052119051\n",
      "time: 0.005282163619995117\n"
     ]
    }
   ],
   "source": [
    "start = time.time()\n",
    "# 02数据预测计算指标\n",
    "pxy = dnn.predict(X02.reshape(20, 100))\n",
    "pxy = np.squeeze(pxy)\n",
    "print('MAE指标:', mean_absolute_error(y02, pxy))\n",
    "print('MSE指标:', mean_squared_error(y02, pxy))\n",
    "print('RMSE指标:', math.sqrt(mean_squared_error(y02, pxy)))\n",
    "print('r2指标:', r2_score(y02, pxy))\n",
    "print('ev指标:', explained_variance_score(y02, pxy))\n",
    "end = time.time()\n",
    "print('time:', end-start)"
   ]
  },
  {
   "cell_type": "code",
   "execution_count": 21,
   "id": "4e46a935-0b73-4e07-8d0d-129550d9ee37",
   "metadata": {},
   "outputs": [],
   "source": [
    "res.loc['DNN','MAE'] = mean_absolute_error(y02, pxy)\n",
    "res.loc['DNN','RMSE'] = math.sqrt(mean_squared_error(y02, pxy))\n",
    "res.loc['DNN','R2'] = r2_score(y02, pxy)\n",
    "res.loc['DNN','TIME'] = end-start"
   ]
  },
  {
   "cell_type": "markdown",
   "id": "ad1edabd-f7a0-4dec-83ae-e70d7493187b",
   "metadata": {
    "tags": []
   },
   "source": [
    "## 导入GRU模型计算指标"
   ]
  },
  {
   "cell_type": "code",
   "execution_count": 22,
   "id": "34cd0d2c-c50c-4d78-b1d8-d2ae49f023a9",
   "metadata": {},
   "outputs": [
    {
     "name": "stdout",
     "output_type": "stream",
     "text": [
      "Model: \"sequential\"\n",
      "_________________________________________________________________\n",
      "Layer (type)                 Output Shape              Param #   \n",
      "=================================================================\n",
      "gru (GRU)                    (None, 100)               30900     \n",
      "_________________________________________________________________\n",
      "dense (Dense)                (None, 2)                 202       \n",
      "=================================================================\n",
      "Total params: 31,102\n",
      "Trainable params: 31,102\n",
      "Non-trainable params: 0\n",
      "_________________________________________________________________\n"
     ]
    }
   ],
   "source": [
    "# 加载预训练模型\n",
    "gru = load_model('./models/GRU_2021.h5', compile=False)\n",
    "gru.summary()"
   ]
  },
  {
   "cell_type": "code",
   "execution_count": 23,
   "id": "89d7311e-1ad1-4442-90bf-3b3470517964",
   "metadata": {},
   "outputs": [
    {
     "name": "stdout",
     "output_type": "stream",
     "text": [
      "MAE指标: 0.2756354026518764\n",
      "MSE指标: 0.15056168779649812\n",
      "RMSE指标: 0.3880227928827096\n",
      "r2指标: 0.9791365169889139\n",
      "ev指标: 0.9791504839001594\n",
      "time: 0.1910109519958496\n"
     ]
    }
   ],
   "source": [
    "start = time.time()\n",
    "# 预测测试集计算指标\n",
    "pxy = gru.predict(X_test.reshape(400, 100, 1))\n",
    "pxy = np.squeeze(pxy)\n",
    "print('MAE指标:', mean_absolute_error(y_test, pxy))\n",
    "print('MSE指标:', mean_squared_error(y_test, pxy))\n",
    "print('RMSE指标:', math.sqrt(mean_squared_error(y_test, pxy)))\n",
    "print('r2指标:', r2_score(y_test, pxy))\n",
    "print('ev指标:', explained_variance_score(y_test, pxy))\n",
    "end = time.time()\n",
    "print('time:', end-start)"
   ]
  },
  {
   "cell_type": "markdown",
   "id": "a69f3ba1-e1cb-4342-9509-33c0ded268fe",
   "metadata": {},
   "source": [
    "## 对比坐标绘图"
   ]
  },
  {
   "cell_type": "code",
   "execution_count": 24,
   "id": "c0c8b2fd-6ef9-4820-ac8c-1fcc1c5f0e12",
   "metadata": {},
   "outputs": [
    {
     "data": {
      "text/plain": [
       "array([[2., 2.],\n",
       "       [2., 5.],\n",
       "       [3., 8.],\n",
       "       [4., 1.],\n",
       "       [4., 6.],\n",
       "       [5., 3.],\n",
       "       [6., 9.],\n",
       "       [7., 5.],\n",
       "       [8., 2.],\n",
       "       [9., 8.]])"
      ]
     },
     "execution_count": 24,
     "metadata": {},
     "output_type": "execute_result"
    }
   ],
   "source": [
    "l = y02[:10]\n",
    "l"
   ]
  },
  {
   "cell_type": "code",
   "execution_count": 25,
   "id": "1b806a27-fc1c-4613-a874-e9d6b87c1b63",
   "metadata": {},
   "outputs": [
    {
     "name": "stdout",
     "output_type": "stream",
     "text": [
      "MAE指标: 0.18800144487619397\n",
      "MSE指标: 0.06782031925738358\n",
      "RMSE指标: 0.2604233462218462\n",
      "r2指标: 0.9917356228378837\n",
      "ev指标: 0.9918645924919617\n",
      "time: 0.016742944717407227\n"
     ]
    }
   ],
   "source": [
    "tmp = []\n",
    "start = time.time()\n",
    "# 02数据预测计算指标\n",
    "pxy = gru.predict(X02.reshape(20, 100, 1))\n",
    "pxy = np.squeeze(pxy)\n",
    "tmp.append(pxy)\n",
    "print('MAE指标:', mean_absolute_error(y02, pxy))\n",
    "print('MSE指标:', mean_squared_error(y02, pxy))\n",
    "print('RMSE指标:', math.sqrt(mean_squared_error(y02, pxy)))\n",
    "print('r2指标:', r2_score(y02, pxy))\n",
    "print('ev指标:', explained_variance_score(y02, pxy))\n",
    "end = time.time()\n",
    "print('time:', end-start)"
   ]
  },
  {
   "cell_type": "code",
   "execution_count": 26,
   "id": "051712b1-9429-4226-88f9-38795ba04b92",
   "metadata": {},
   "outputs": [
    {
     "data": {
      "text/plain": [
       "array([[2.1486425, 1.5848514],\n",
       "       [2.0407417, 4.9888425],\n",
       "       [2.9635856, 8.085009 ],\n",
       "       [4.268954 , 0.9797909],\n",
       "       [3.9710217, 5.8493686],\n",
       "       [5.3100886, 3.135364 ],\n",
       "       [6.069646 , 8.577453 ],\n",
       "       [6.848046 , 5.5250945],\n",
       "       [7.8021884, 1.5381844],\n",
       "       [8.969224 , 8.019092 ]], dtype=float32)"
      ]
     },
     "execution_count": 26,
     "metadata": {},
     "output_type": "execute_result"
    }
   ],
   "source": [
    "tmp = np.squeeze(np.array(tmp))[:10]\n",
    "tmp"
   ]
  },
  {
   "cell_type": "code",
   "execution_count": 27,
   "id": "75e44368-d573-44d3-a994-6028368a479e",
   "metadata": {},
   "outputs": [
    {
     "data": {
      "text/html": [
       "<div>\n",
       "<style scoped>\n",
       "    .dataframe tbody tr th:only-of-type {\n",
       "        vertical-align: middle;\n",
       "    }\n",
       "\n",
       "    .dataframe tbody tr th {\n",
       "        vertical-align: top;\n",
       "    }\n",
       "\n",
       "    .dataframe thead th {\n",
       "        text-align: right;\n",
       "    }\n",
       "</style>\n",
       "<table border=\"1\" class=\"dataframe\">\n",
       "  <thead>\n",
       "    <tr style=\"text-align: right;\">\n",
       "      <th></th>\n",
       "      <th>X</th>\n",
       "      <th>y</th>\n",
       "      <th>PX</th>\n",
       "      <th>Py</th>\n",
       "    </tr>\n",
       "  </thead>\n",
       "  <tbody>\n",
       "    <tr>\n",
       "      <th>0</th>\n",
       "      <td>2.0</td>\n",
       "      <td>2.0</td>\n",
       "      <td>2.148643</td>\n",
       "      <td>1.584851</td>\n",
       "    </tr>\n",
       "    <tr>\n",
       "      <th>1</th>\n",
       "      <td>2.0</td>\n",
       "      <td>5.0</td>\n",
       "      <td>2.040742</td>\n",
       "      <td>4.988842</td>\n",
       "    </tr>\n",
       "    <tr>\n",
       "      <th>2</th>\n",
       "      <td>3.0</td>\n",
       "      <td>8.0</td>\n",
       "      <td>2.963586</td>\n",
       "      <td>8.085009</td>\n",
       "    </tr>\n",
       "    <tr>\n",
       "      <th>3</th>\n",
       "      <td>4.0</td>\n",
       "      <td>1.0</td>\n",
       "      <td>4.268954</td>\n",
       "      <td>0.979791</td>\n",
       "    </tr>\n",
       "    <tr>\n",
       "      <th>4</th>\n",
       "      <td>4.0</td>\n",
       "      <td>6.0</td>\n",
       "      <td>3.971022</td>\n",
       "      <td>5.849369</td>\n",
       "    </tr>\n",
       "    <tr>\n",
       "      <th>5</th>\n",
       "      <td>5.0</td>\n",
       "      <td>3.0</td>\n",
       "      <td>5.310089</td>\n",
       "      <td>3.135364</td>\n",
       "    </tr>\n",
       "    <tr>\n",
       "      <th>6</th>\n",
       "      <td>6.0</td>\n",
       "      <td>9.0</td>\n",
       "      <td>6.069646</td>\n",
       "      <td>8.577453</td>\n",
       "    </tr>\n",
       "    <tr>\n",
       "      <th>7</th>\n",
       "      <td>7.0</td>\n",
       "      <td>5.0</td>\n",
       "      <td>6.848046</td>\n",
       "      <td>5.525095</td>\n",
       "    </tr>\n",
       "    <tr>\n",
       "      <th>8</th>\n",
       "      <td>8.0</td>\n",
       "      <td>2.0</td>\n",
       "      <td>7.802188</td>\n",
       "      <td>1.538184</td>\n",
       "    </tr>\n",
       "    <tr>\n",
       "      <th>9</th>\n",
       "      <td>9.0</td>\n",
       "      <td>8.0</td>\n",
       "      <td>8.969224</td>\n",
       "      <td>8.019092</td>\n",
       "    </tr>\n",
       "  </tbody>\n",
       "</table>\n",
       "</div>"
      ],
      "text/plain": [
       "     X    y        PX        Py\n",
       "0  2.0  2.0  2.148643  1.584851\n",
       "1  2.0  5.0  2.040742  4.988842\n",
       "2  3.0  8.0  2.963586  8.085009\n",
       "3  4.0  1.0  4.268954  0.979791\n",
       "4  4.0  6.0  3.971022  5.849369\n",
       "5  5.0  3.0  5.310089  3.135364\n",
       "6  6.0  9.0  6.069646  8.577453\n",
       "7  7.0  5.0  6.848046  5.525095\n",
       "8  8.0  2.0  7.802188  1.538184\n",
       "9  9.0  8.0  8.969224  8.019092"
      ]
     },
     "execution_count": 27,
     "metadata": {},
     "output_type": "execute_result"
    }
   ],
   "source": [
    "# 预测坐标与实际坐标对比\n",
    "coor1 = pd.DataFrame(l)\n",
    "coor1.columns = ['X', 'y']\n",
    "\n",
    "coor2 = pd.DataFrame(tmp)\n",
    "coor2.columns = ['PX', 'Py']\n",
    "\n",
    "coor = pd.concat([coor1, coor2], axis=1)\n",
    "coor.to_csv('./doc/coordinate.csv')\n",
    "coor"
   ]
  },
  {
   "cell_type": "code",
   "execution_count": 28,
   "id": "401e5d3e-2e9e-431b-82f6-6dd39490b8c4",
   "metadata": {},
   "outputs": [
    {
     "data": {
      "image/png": "[encoded data removed]",
      "text/plain": [
       "<Figure size 720x720 with 1 Axes>"
      ]
     },
     "metadata": {
      "needs_background": "light"
     },
     "output_type": "display_data"
    }
   ],
   "source": [
    "plt.figure(figsize=[10, 10])\n",
    "plt.xlim((0, 10))\n",
    "plt.ylim((0, 10))\n",
    "plt.title('Coordinate Comparison with EA')\n",
    "# 画图-标准坐标\n",
    "plt.scatter(l[:, 0], l[:, 1], c='black', marker='x', label='real position')\n",
    "    \n",
    "# 画图-预测坐标\n",
    "plt.scatter(tmp[:, 0], tmp[:, 1], c='red', marker='x', label = 'predict position')\n",
    "plt.legend()\n",
    "plt.grid('True')\n",
    "plt.savefig('./doc/compare_coordinate.jpg')"
   ]
  },
  {
   "cell_type": "code",
   "execution_count": 29,
   "id": "79cb2c81-8a71-40d3-a420-e0135b2ef28f",
   "metadata": {},
   "outputs": [],
   "source": [
    "res.loc['GRU','MAE'] = mean_absolute_error(y02, pxy)\n",
    "res.loc['GRU','RMSE'] = math.sqrt(mean_squared_error(y02, pxy))\n",
    "res.loc['GRU','R2'] = r2_score(y02, pxy)\n",
    "res.loc['GRU','TIME'] = end-start"
   ]
  },
  {
   "cell_type": "markdown",
   "id": "6b16e54e-3b29-44be-bdd2-0abc46266cd6",
   "metadata": {},
   "source": [
    "## 查看统计结果并保存"
   ]
  },
  {
   "cell_type": "code",
   "execution_count": 30,
   "id": "dfcb036d-b6c8-4475-b3a1-d942b7927424",
   "metadata": {},
   "outputs": [
    {
     "data": {
      "text/html": [
       "<div>\n",
       "<style scoped>\n",
       "    .dataframe tbody tr th:only-of-type {\n",
       "        vertical-align: middle;\n",
       "    }\n",
       "\n",
       "    .dataframe tbody tr th {\n",
       "        vertical-align: top;\n",
       "    }\n",
       "\n",
       "    .dataframe thead th {\n",
       "        text-align: right;\n",
       "    }\n",
       "</style>\n",
       "<table border=\"1\" class=\"dataframe\">\n",
       "  <thead>\n",
       "    <tr style=\"text-align: right;\">\n",
       "      <th></th>\n",
       "      <th>MAE</th>\n",
       "      <th>RMSE</th>\n",
       "      <th>R2</th>\n",
       "      <th>TIME</th>\n",
       "    </tr>\n",
       "  </thead>\n",
       "  <tbody>\n",
       "    <tr>\n",
       "      <th>RNN</th>\n",
       "      <td>1.775772</td>\n",
       "      <td>2.138555</td>\n",
       "      <td>0.436643</td>\n",
       "      <td>0.009209</td>\n",
       "    </tr>\n",
       "    <tr>\n",
       "      <th>DNN</th>\n",
       "      <td>0.497220</td>\n",
       "      <td>0.654671</td>\n",
       "      <td>0.947249</td>\n",
       "      <td>0.005282</td>\n",
       "    </tr>\n",
       "    <tr>\n",
       "      <th>SVM</th>\n",
       "      <td>0.372712</td>\n",
       "      <td>0.459728</td>\n",
       "      <td>0.974035</td>\n",
       "      <td>0.018345</td>\n",
       "    </tr>\n",
       "    <tr>\n",
       "      <th>LSTM</th>\n",
       "      <td>0.241644</td>\n",
       "      <td>0.339661</td>\n",
       "      <td>0.985914</td>\n",
       "      <td>0.018288</td>\n",
       "    </tr>\n",
       "    <tr>\n",
       "      <th>GRU</th>\n",
       "      <td>0.188001</td>\n",
       "      <td>0.260423</td>\n",
       "      <td>0.991736</td>\n",
       "      <td>0.016743</td>\n",
       "    </tr>\n",
       "  </tbody>\n",
       "</table>\n",
       "</div>"
      ],
      "text/plain": [
       "           MAE      RMSE        R2      TIME\n",
       "RNN   1.775772  2.138555  0.436643  0.009209\n",
       "DNN   0.497220  0.654671  0.947249  0.005282\n",
       "SVM   0.372712  0.459728  0.974035  0.018345\n",
       "LSTM  0.241644  0.339661  0.985914  0.018288\n",
       "GRU   0.188001  0.260423  0.991736  0.016743"
      ]
     },
     "execution_count": 30,
     "metadata": {},
     "output_type": "execute_result"
    }
   ],
   "source": [
    "res"
   ]
  },
  {
   "cell_type": "code",
   "execution_count": 31,
   "id": "f657c539-ecac-4e37-8ac7-e26f52d5e663",
   "metadata": {},
   "outputs": [],
   "source": [
    "res.to_csv('./doc/indictor.csv')"
   ]
  },
  {
   "cell_type": "code",
   "execution_count": null,
   "id": "20a2be38-6142-42d4-9d4f-fbac862b7c7c",
   "metadata": {},
   "outputs": [],
   "source": []
  }
 ],
 "metadata": {
  "kernelspec": {
   "display_name": "tensorflow",
   "language": "python",
   "name": "tensorflow"
  },
  "language_info": {
   "codemirror_mode": {
    "name": "ipython",
    "version": 3
   },
   "file_extension": ".py",
   "mimetype": "text/x-python",
   "name": "python",
   "nbconvert_exporter": "python",
   "pygments_lexer": "ipython3",
   "version": "3.7.12"
  }
 },
 "nbformat": 4,
 "nbformat_minor": 5
}
