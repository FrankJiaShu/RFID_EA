{
 "cells": [
  {
   "cell_type": "markdown",
   "id": "1fbabddf",
   "metadata": {
    "tags": []
   },
   "source": [
    "# CCF-C论文实验绘图使用(未使用EA)"
   ]
  },
  {
   "cell_type": "markdown",
   "id": "76d3cfe0",
   "metadata": {
    "tags": []
   },
   "source": [
    "## 数据准备与加载"
   ]
  },
  {
   "cell_type": "code",
   "execution_count": 1,
   "id": "d8562b1a",
   "metadata": {},
   "outputs": [],
   "source": [
    "import joblib\n",
    "import math\n",
    "import copy\n",
    "import time\n",
    "import numpy as np\n",
    "import pandas as pd\n",
    "import matplotlib.pyplot as plt\n",
    "from tensorflow.keras.models import load_model \n",
    "from sklearn.model_selection import train_test_split\n",
    "from sklearn.metrics import mean_absolute_error, explained_variance_score, r2_score, mean_squared_error"
   ]
  },
  {
   "cell_type": "code",
   "execution_count": 2,
   "id": "33feaec8",
   "metadata": {},
   "outputs": [],
   "source": [
    "# 加载训练数据\n",
    "def load_data(path):\n",
    "    df = pd.read_csv(path)\n",
    "    dv = df.values\n",
    "    X = dv[:, 1:-2]\n",
    "    Y = dv[:, -2:]\n",
    "    return X[:, :, np.newaxis], Y\n",
    "\n",
    "# 数据准备\n",
    "X, y = load_data('./dataset/location_data.csv')\n",
    "X_train, X_test, y_train, y_test = train_test_split(X, y, test_size=0.2, random_state=2021)\n",
    "\n",
    "X02, y02 = load_data('./dataset/location_data02.csv')"
   ]
  },
  {
   "cell_type": "markdown",
   "id": "91206781-1249-44be-82cb-b65f32242ff1",
   "metadata": {
    "tags": []
   },
   "source": [
    "## 查看测试数据"
   ]
  },
  {
   "cell_type": "code",
   "execution_count": 3,
   "id": "72675c06-ee24-46df-a6a3-f8f01aa40cd3",
   "metadata": {},
   "outputs": [
    {
     "data": {
      "text/plain": [
       "(400, 100, 1)"
      ]
     },
     "execution_count": 3,
     "metadata": {},
     "output_type": "execute_result"
    }
   ],
   "source": [
    "X_test.shape"
   ]
  },
  {
   "cell_type": "code",
   "execution_count": 4,
   "id": "e0bafbfd-032e-4f29-a86d-13c9c49e3666",
   "metadata": {},
   "outputs": [
    {
     "data": {
      "text/plain": [
       "(400, 2)"
      ]
     },
     "execution_count": 4,
     "metadata": {},
     "output_type": "execute_result"
    }
   ],
   "source": [
    "y_test.shape"
   ]
  },
  {
   "cell_type": "code",
   "execution_count": 5,
   "id": "e48df5e6-927a-41e0-af20-ff58514cc1cb",
   "metadata": {},
   "outputs": [
    {
     "data": {
      "text/plain": [
       "array([[3.76, 3.77],\n",
       "       [1.57, 4.63],\n",
       "       [5.43, 6.77],\n",
       "       [9.67, 7.94],\n",
       "       [7.09, 8.28],\n",
       "       [8.59, 8.24],\n",
       "       [9.14, 2.22],\n",
       "       [3.66, 7.91],\n",
       "       [8.93, 1.86],\n",
       "       [2.38, 2.02]])"
      ]
     },
     "execution_count": 5,
     "metadata": {},
     "output_type": "execute_result"
    }
   ],
   "source": [
    "y_test[:10] # 输出前10个的坐标"
   ]
  },
  {
   "cell_type": "markdown",
   "id": "86561bba-9d4d-4e00-8245-4d4b871a6789",
   "metadata": {
    "tags": []
   },
   "source": [
    "## 创建展示结果"
   ]
  },
  {
   "cell_type": "code",
   "execution_count": 6,
   "id": "8828d937-0933-4121-9d0e-027084ca01c3",
   "metadata": {},
   "outputs": [
    {
     "data": {
      "text/html": [
       "<div>\n",
       "<style scoped>\n",
       "    .dataframe tbody tr th:only-of-type {\n",
       "        vertical-align: middle;\n",
       "    }\n",
       "\n",
       "    .dataframe tbody tr th {\n",
       "        vertical-align: top;\n",
       "    }\n",
       "\n",
       "    .dataframe thead th {\n",
       "        text-align: right;\n",
       "    }\n",
       "</style>\n",
       "<table border=\"1\" class=\"dataframe\">\n",
       "  <thead>\n",
       "    <tr style=\"text-align: right;\">\n",
       "      <th></th>\n",
       "      <th>MAE</th>\n",
       "      <th>RMSE</th>\n",
       "      <th>R2</th>\n",
       "      <th>TIME</th>\n",
       "    </tr>\n",
       "  </thead>\n",
       "  <tbody>\n",
       "    <tr>\n",
       "      <th>RNN</th>\n",
       "      <td>0</td>\n",
       "      <td>0</td>\n",
       "      <td>0</td>\n",
       "      <td>0</td>\n",
       "    </tr>\n",
       "    <tr>\n",
       "      <th>DNN</th>\n",
       "      <td>0</td>\n",
       "      <td>0</td>\n",
       "      <td>0</td>\n",
       "      <td>0</td>\n",
       "    </tr>\n",
       "    <tr>\n",
       "      <th>SVM</th>\n",
       "      <td>0</td>\n",
       "      <td>0</td>\n",
       "      <td>0</td>\n",
       "      <td>0</td>\n",
       "    </tr>\n",
       "    <tr>\n",
       "      <th>LSTM</th>\n",
       "      <td>0</td>\n",
       "      <td>0</td>\n",
       "      <td>0</td>\n",
       "      <td>0</td>\n",
       "    </tr>\n",
       "    <tr>\n",
       "      <th>GRU</th>\n",
       "      <td>0</td>\n",
       "      <td>0</td>\n",
       "      <td>0</td>\n",
       "      <td>0</td>\n",
       "    </tr>\n",
       "  </tbody>\n",
       "</table>\n",
       "</div>"
      ],
      "text/plain": [
       "      MAE  RMSE  R2  TIME\n",
       "RNN     0     0   0     0\n",
       "DNN     0     0   0     0\n",
       "SVM     0     0   0     0\n",
       "LSTM    0     0   0     0\n",
       "GRU     0     0   0     0"
      ]
     },
     "execution_count": 6,
     "metadata": {},
     "output_type": "execute_result"
    }
   ],
   "source": [
    "arr = np.zeros((5, 4), dtype=int)\n",
    "res = pd.DataFrame(arr, index = ['RNN', 'DNN', 'SVM', 'LSTM', 'GRU'], \n",
    "                   columns = ['MAE', 'RMSE', 'R2', 'TIME'])\n",
    "res"
   ]
  },
  {
   "cell_type": "markdown",
   "id": "6b049d03",
   "metadata": {
    "tags": []
   },
   "source": [
    "## 导入双SVR模型计算指标"
   ]
  },
  {
   "cell_type": "code",
   "execution_count": 7,
   "id": "1c46e0a0",
   "metadata": {},
   "outputs": [
    {
     "name": "stderr",
     "output_type": "stream",
     "text": [
      "/Users/frank/anaconda3/envs/tensorflow/lib/python3.7/site-packages/sklearn/utils/deprecation.py:144: FutureWarning: The sklearn.svm.classes module is  deprecated in version 0.22 and will be removed in version 0.24. The corresponding classes / functions should instead be imported from sklearn.svm. Anything that cannot be imported from sklearn.svm is now part of the private API.\n",
      "  warnings.warn(message, FutureWarning)\n",
      "/Users/frank/anaconda3/envs/tensorflow/lib/python3.7/site-packages/sklearn/externals/joblib/__init__.py:15: FutureWarning: sklearn.externals.joblib is deprecated in 0.21 and will be removed in 0.23. Please import this functionality directly from joblib, which can be installed with: pip install joblib. If this warning is raised when loading pickled models, you may need to re-serialize those models with scikit-learn 0.21+.\n",
      "  warnings.warn(msg, category=FutureWarning)\n",
      "/Users/frank/anaconda3/envs/tensorflow/lib/python3.7/site-packages/sklearn/base.py:318: UserWarning: Trying to unpickle estimator SVR from version 0.20.1 when using version 0.22. This might lead to breaking code or invalid results. Use at your own risk.\n",
      "  UserWarning)\n"
     ]
    }
   ],
   "source": [
    "# 加载坐标模型\n",
    "model_x = joblib.load('./tang/SVR_x_2020.model')\n",
    "model_y = joblib.load('./tang/SVR_y_2020.model')"
   ]
  },
  {
   "cell_type": "code",
   "execution_count": 8,
   "id": "b84485da",
   "metadata": {},
   "outputs": [
    {
     "ename": "AttributeError",
     "evalue": "'SVR' object has no attribute '_n_support'",
     "output_type": "error",
     "traceback": [
      "\u001b[0;31m---------------------------------------------------------------------------\u001b[0m",
      "\u001b[0;31mAttributeError\u001b[0m                            Traceback (most recent call last)",
      "\u001b[0;32m/tmp/ipykernel_82592/2533213926.py\u001b[0m in \u001b[0;36m<module>\u001b[0;34m\u001b[0m\n\u001b[1;32m      1\u001b[0m \u001b[0mstart\u001b[0m \u001b[0;34m=\u001b[0m \u001b[0mtime\u001b[0m\u001b[0;34m.\u001b[0m\u001b[0mtime\u001b[0m\u001b[0;34m(\u001b[0m\u001b[0;34m)\u001b[0m\u001b[0;34m\u001b[0m\u001b[0;34m\u001b[0m\u001b[0m\n\u001b[1;32m      2\u001b[0m \u001b[0;31m# 预测结果分析\u001b[0m\u001b[0;34m\u001b[0m\u001b[0;34m\u001b[0m\u001b[0;34m\u001b[0m\u001b[0m\n\u001b[0;32m----> 3\u001b[0;31m \u001b[0mpx\u001b[0m \u001b[0;34m=\u001b[0m \u001b[0mmodel_x\u001b[0m\u001b[0;34m.\u001b[0m\u001b[0mpredict\u001b[0m\u001b[0;34m(\u001b[0m\u001b[0mX02\u001b[0m\u001b[0;34m.\u001b[0m\u001b[0mreshape\u001b[0m\u001b[0;34m(\u001b[0m\u001b[0;36m20\u001b[0m\u001b[0;34m,\u001b[0m \u001b[0;36m100\u001b[0m\u001b[0;34m)\u001b[0m\u001b[0;34m)\u001b[0m\u001b[0;34m\u001b[0m\u001b[0;34m\u001b[0m\u001b[0m\n\u001b[0m\u001b[1;32m      4\u001b[0m \u001b[0mpy\u001b[0m \u001b[0;34m=\u001b[0m \u001b[0mmodel_y\u001b[0m\u001b[0;34m.\u001b[0m\u001b[0mpredict\u001b[0m\u001b[0;34m(\u001b[0m\u001b[0mX02\u001b[0m\u001b[0;34m.\u001b[0m\u001b[0mreshape\u001b[0m\u001b[0;34m(\u001b[0m\u001b[0;36m20\u001b[0m\u001b[0;34m,\u001b[0m \u001b[0;36m100\u001b[0m\u001b[0;34m)\u001b[0m\u001b[0;34m)\u001b[0m\u001b[0;34m\u001b[0m\u001b[0;34m\u001b[0m\u001b[0m\n\u001b[1;32m      5\u001b[0m \u001b[0mpxy\u001b[0m \u001b[0;34m=\u001b[0m \u001b[0;34m[\u001b[0m\u001b[0;34m[\u001b[0m\u001b[0mxi\u001b[0m\u001b[0;34m,\u001b[0m \u001b[0myi\u001b[0m\u001b[0;34m]\u001b[0m \u001b[0;32mfor\u001b[0m \u001b[0mxi\u001b[0m\u001b[0;34m,\u001b[0m \u001b[0myi\u001b[0m \u001b[0;32min\u001b[0m \u001b[0mzip\u001b[0m\u001b[0;34m(\u001b[0m\u001b[0mpx\u001b[0m\u001b[0;34m,\u001b[0m \u001b[0mpy\u001b[0m\u001b[0;34m)\u001b[0m\u001b[0;34m]\u001b[0m\u001b[0;34m\u001b[0m\u001b[0;34m\u001b[0m\u001b[0m\n",
      "\u001b[0;32m~/anaconda3/envs/tensorflow/lib/python3.7/site-packages/sklearn/svm/_base.py\u001b[0m in \u001b[0;36mpredict\u001b[0;34m(self, X)\u001b[0m\n\u001b[1;32m    315\u001b[0m         \u001b[0mX\u001b[0m \u001b[0;34m=\u001b[0m \u001b[0mself\u001b[0m\u001b[0;34m.\u001b[0m\u001b[0m_validate_for_predict\u001b[0m\u001b[0;34m(\u001b[0m\u001b[0mX\u001b[0m\u001b[0;34m)\u001b[0m\u001b[0;34m\u001b[0m\u001b[0;34m\u001b[0m\u001b[0m\n\u001b[1;32m    316\u001b[0m         \u001b[0mpredict\u001b[0m \u001b[0;34m=\u001b[0m \u001b[0mself\u001b[0m\u001b[0;34m.\u001b[0m\u001b[0m_sparse_predict\u001b[0m \u001b[0;32mif\u001b[0m \u001b[0mself\u001b[0m\u001b[0;34m.\u001b[0m\u001b[0m_sparse\u001b[0m \u001b[0;32melse\u001b[0m \u001b[0mself\u001b[0m\u001b[0;34m.\u001b[0m\u001b[0m_dense_predict\u001b[0m\u001b[0;34m\u001b[0m\u001b[0;34m\u001b[0m\u001b[0m\n\u001b[0;32m--> 317\u001b[0;31m         \u001b[0;32mreturn\u001b[0m \u001b[0mpredict\u001b[0m\u001b[0;34m(\u001b[0m\u001b[0mX\u001b[0m\u001b[0;34m)\u001b[0m\u001b[0;34m\u001b[0m\u001b[0;34m\u001b[0m\u001b[0m\n\u001b[0m\u001b[1;32m    318\u001b[0m \u001b[0;34m\u001b[0m\u001b[0m\n\u001b[1;32m    319\u001b[0m     \u001b[0;32mdef\u001b[0m \u001b[0m_dense_predict\u001b[0m\u001b[0;34m(\u001b[0m\u001b[0mself\u001b[0m\u001b[0;34m,\u001b[0m \u001b[0mX\u001b[0m\u001b[0;34m)\u001b[0m\u001b[0;34m:\u001b[0m\u001b[0;34m\u001b[0m\u001b[0;34m\u001b[0m\u001b[0m\n",
      "\u001b[0;32m~/anaconda3/envs/tensorflow/lib/python3.7/site-packages/sklearn/svm/_base.py\u001b[0m in \u001b[0;36m_dense_predict\u001b[0;34m(self, X)\u001b[0m\n\u001b[1;32m    333\u001b[0m \u001b[0;34m\u001b[0m\u001b[0m\n\u001b[1;32m    334\u001b[0m         return libsvm.predict(\n\u001b[0;32m--> 335\u001b[0;31m             \u001b[0mX\u001b[0m\u001b[0;34m,\u001b[0m \u001b[0mself\u001b[0m\u001b[0;34m.\u001b[0m\u001b[0msupport_\u001b[0m\u001b[0;34m,\u001b[0m \u001b[0mself\u001b[0m\u001b[0;34m.\u001b[0m\u001b[0msupport_vectors_\u001b[0m\u001b[0;34m,\u001b[0m \u001b[0mself\u001b[0m\u001b[0;34m.\u001b[0m\u001b[0m_n_support\u001b[0m\u001b[0;34m,\u001b[0m\u001b[0;34m\u001b[0m\u001b[0;34m\u001b[0m\u001b[0m\n\u001b[0m\u001b[1;32m    336\u001b[0m             \u001b[0mself\u001b[0m\u001b[0;34m.\u001b[0m\u001b[0m_dual_coef_\u001b[0m\u001b[0;34m,\u001b[0m \u001b[0mself\u001b[0m\u001b[0;34m.\u001b[0m\u001b[0m_intercept_\u001b[0m\u001b[0;34m,\u001b[0m\u001b[0;34m\u001b[0m\u001b[0;34m\u001b[0m\u001b[0m\n\u001b[1;32m    337\u001b[0m             \u001b[0mself\u001b[0m\u001b[0;34m.\u001b[0m\u001b[0mprobA_\u001b[0m\u001b[0;34m,\u001b[0m \u001b[0mself\u001b[0m\u001b[0;34m.\u001b[0m\u001b[0mprobB_\u001b[0m\u001b[0;34m,\u001b[0m \u001b[0msvm_type\u001b[0m\u001b[0;34m=\u001b[0m\u001b[0msvm_type\u001b[0m\u001b[0;34m,\u001b[0m \u001b[0mkernel\u001b[0m\u001b[0;34m=\u001b[0m\u001b[0mkernel\u001b[0m\u001b[0;34m,\u001b[0m\u001b[0;34m\u001b[0m\u001b[0;34m\u001b[0m\u001b[0m\n",
      "\u001b[0;31mAttributeError\u001b[0m: 'SVR' object has no attribute '_n_support'"
     ]
    }
   ],
   "source": [
    "start = time.time()\n",
    "# 预测结果分析\n",
    "px = model_x.predict(X02.reshape(20, 100))\n",
    "py = model_y.predict(X02.reshape(20, 100))\n",
    "pxy = [[xi, yi] for xi, yi in zip(px, py)]\n",
    "print(pxy[:10])\n",
    "print('MAE指标:', mean_absolute_error(y02, pxy))\n",
    "print('MSE指标:', mean_squared_error(y02, pxy))\n",
    "print('RMSE指标:', math.sqrt(mean_squared_error(y02, pxy)))\n",
    "print('r2指标:', r2_score(y02, pxy))\n",
    "print('ev指标:', explained_variance_score(y02, pxy))\n",
    "end = time.time()\n",
    "print('time:', end-start)"
   ]
  },
  {
   "cell_type": "code",
   "execution_count": null,
   "id": "0cc14fcc-ac6d-49b9-b243-c7d596d7faaa",
   "metadata": {},
   "outputs": [],
   "source": [
    "res.loc['SVM','MAE'] = mean_absolute_error(y02, pxy)\n",
    "res.loc['SVM','RMSE'] = math.sqrt(mean_squared_error(y02, pxy))\n",
    "res.loc['SVM','R2'] = r2_score(y02, pxy)\n",
    "res.loc['SVM','TIME'] = end-start"
   ]
  },
  {
   "cell_type": "markdown",
   "id": "789114fa",
   "metadata": {
    "tags": []
   },
   "source": [
    "## 导入LSTM模型计算指标"
   ]
  },
  {
   "cell_type": "code",
   "execution_count": 52,
   "id": "bf61bbfa",
   "metadata": {},
   "outputs": [
    {
     "name": "stdout",
     "output_type": "stream",
     "text": [
      "Model: \"sequential_1\"\n",
      "_________________________________________________________________\n",
      "Layer (type)                 Output Shape              Param #   \n",
      "=================================================================\n",
      "lstm_1 (LSTM)                (None, 100)               40800     \n",
      "_________________________________________________________________\n",
      "dense_1 (Dense)              (None, 2)                 202       \n",
      "=================================================================\n",
      "Total params: 41,002\n",
      "Trainable params: 41,002\n",
      "Non-trainable params: 0\n",
      "_________________________________________________________________\n"
     ]
    }
   ],
   "source": [
    "# 加载预训练模型\n",
    "lstm = load_model('./tang/LSTM_2020.h5', compile=False)\n",
    "lstm.summary()"
   ]
  },
  {
   "cell_type": "code",
   "execution_count": 53,
   "id": "82cff5b1",
   "metadata": {},
   "outputs": [
    {
     "name": "stdout",
     "output_type": "stream",
     "text": [
      "MAE指标: 0.3529170305743814\n",
      "MSE指标: 0.2374654389632532\n",
      "RMSE指标: 0.4873042570748312\n",
      "r2指标: 0.9670064032028314\n",
      "ev指标: 0.975787627997978\n",
      "time: 0.26947903633117676\n"
     ]
    }
   ],
   "source": [
    "start = time.time()\n",
    "# 预测测试集计算指标\n",
    "pxy = lstm.predict(X_test)\n",
    "pxy = np.squeeze(pxy)\n",
    "print('MAE指标:', mean_absolute_error(y_test, pxy))\n",
    "print('MSE指标:', mean_squared_error(y_test, pxy))\n",
    "print('RMSE指标:', math.sqrt(mean_squared_error(y_test, pxy)))\n",
    "print('r2指标:', r2_score(y_test, pxy))\n",
    "print('ev指标:', explained_variance_score(y_test, pxy))\n",
    "end = time.time()\n",
    "print('time:', end-start)"
   ]
  },
  {
   "cell_type": "code",
   "execution_count": 54,
   "id": "48c899d6",
   "metadata": {},
   "outputs": [
    {
     "name": "stdout",
     "output_type": "stream",
     "text": [
      "MAE指标: 0.32934426179528237\n",
      "MSE指标: 0.18914031157602773\n",
      "RMSE指标: 0.43490264608993556\n",
      "r2指标: 0.9769073060805731\n",
      "ev指标: 0.9835369952653368\n",
      "time: 0.023756027221679688\n"
     ]
    }
   ],
   "source": [
    "start = time.time()\n",
    "# 02数据预测计算指标\n",
    "pxy = lstm.predict(X02)\n",
    "pxy = np.squeeze(pxy)\n",
    "print('MAE指标:', mean_absolute_error(y02, pxy))\n",
    "print('MSE指标:', mean_squared_error(y02, pxy))\n",
    "print('RMSE指标:', math.sqrt(mean_squared_error(y02, pxy)))\n",
    "print('r2指标:', r2_score(y02, pxy))\n",
    "print('ev指标:', explained_variance_score(y02, pxy))\n",
    "end = time.time()\n",
    "print('time:', end-start)"
   ]
  },
  {
   "cell_type": "code",
   "execution_count": 55,
   "id": "b0a90bd7-5084-4c93-b7cf-39073b6d92d1",
   "metadata": {},
   "outputs": [],
   "source": [
    "res.loc['LSTM','MAE'] = mean_absolute_error(y02, pxy)\n",
    "res.loc['LSTM','RMSE'] = math.sqrt(mean_squared_error(y02, pxy))\n",
    "res.loc['LSTM','R2'] = r2_score(y02, pxy)\n",
    "res.loc['LSTM','TIME'] = end-start"
   ]
  },
  {
   "cell_type": "markdown",
   "id": "3fe11908-82a5-41af-bb2c-634bcd4a7216",
   "metadata": {
    "tags": []
   },
   "source": [
    "## 导入RNN模型计算指标"
   ]
  },
  {
   "cell_type": "code",
   "execution_count": 56,
   "id": "d3f40bec-9f24-40f9-adb6-51eafeda03e2",
   "metadata": {},
   "outputs": [
    {
     "name": "stdout",
     "output_type": "stream",
     "text": [
      "Model: \"sequential_1\"\n",
      "_________________________________________________________________\n",
      "Layer (type)                 Output Shape              Param #   \n",
      "=================================================================\n",
      "simple_rnn_1 (SimpleRNN)     (None, 100)               10200     \n",
      "_________________________________________________________________\n",
      "dense_1 (Dense)              (None, 2)                 202       \n",
      "=================================================================\n",
      "Total params: 10,402\n",
      "Trainable params: 10,402\n",
      "Non-trainable params: 0\n",
      "_________________________________________________________________\n"
     ]
    }
   ],
   "source": [
    "# 加载预训练模型\n",
    "rnn = load_model('./tang/RNN_2020.h5', compile=False)\n",
    "rnn.summary()"
   ]
  },
  {
   "cell_type": "code",
   "execution_count": 57,
   "id": "9e8b96d9-6ed4-421e-bbf4-9e92c2324b88",
   "metadata": {},
   "outputs": [
    {
     "name": "stdout",
     "output_type": "stream",
     "text": [
      "MAE指标: 1.3060742271423345\n",
      "MSE指标: 2.7772274719925134\n",
      "RMSE指标: 1.6665015667536929\n",
      "r2指标: 0.6214989308775031\n",
      "ev指标: 0.6276247422119414\n",
      "time: 0.1337888240814209\n"
     ]
    }
   ],
   "source": [
    "start = time.time()\n",
    "# 预测测试集计算指标\n",
    "pxy = rnn.predict(X_test)\n",
    "pxy = np.squeeze(pxy)\n",
    "print('MAE指标:', mean_absolute_error(y_test, pxy))\n",
    "print('MSE指标:', mean_squared_error(y_test, pxy))\n",
    "print('RMSE指标:', math.sqrt(mean_squared_error(y_test, pxy)))\n",
    "print('r2指标:', r2_score(y_test, pxy))\n",
    "print('ev指标:', explained_variance_score(y_test, pxy))\n",
    "end = time.time()\n",
    "print('time:', end-start)"
   ]
  },
  {
   "cell_type": "code",
   "execution_count": 58,
   "id": "e2a01955-cedb-4c65-9233-788dec53a2af",
   "metadata": {},
   "outputs": [
    {
     "name": "stdout",
     "output_type": "stream",
     "text": [
      "MAE指标: 1.3267120697498322\n",
      "MSE指标: 2.825821433756476\n",
      "RMSE指标: 1.6810179754412133\n",
      "r2指标: 0.6522558268264516\n",
      "ev指标: 0.66110415162886\n",
      "time: 0.010521888732910156\n"
     ]
    }
   ],
   "source": [
    "start = time.time()\n",
    "# 02数据预测计算指标\n",
    "pxy = rnn.predict(X02)\n",
    "pxy = np.squeeze(pxy)\n",
    "print('MAE指标:', mean_absolute_error(y02, pxy))\n",
    "print('MSE指标:', mean_squared_error(y02, pxy))\n",
    "print('RMSE指标:', math.sqrt(mean_squared_error(y02, pxy)))\n",
    "print('r2指标:', r2_score(y02, pxy))\n",
    "print('ev指标:', explained_variance_score(y02, pxy))\n",
    "end = time.time()\n",
    "print('time:', end-start)"
   ]
  },
  {
   "cell_type": "code",
   "execution_count": 59,
   "id": "4eb9a2c6-bfdc-4369-acb7-eb407ccea0ab",
   "metadata": {},
   "outputs": [],
   "source": [
    "res.loc['RNN','MAE'] = mean_absolute_error(y02, pxy)\n",
    "res.loc['RNN','RMSE'] = math.sqrt(mean_squared_error(y02, pxy))\n",
    "res.loc['RNN','R2'] = r2_score(y02, pxy)\n",
    "res.loc['RNN','TIME'] = end-start"
   ]
  },
  {
   "cell_type": "markdown",
   "id": "3e53e089-5512-4402-a732-fee09a898070",
   "metadata": {
    "tags": []
   },
   "source": [
    "## 导入DNN模型计算指标"
   ]
  },
  {
   "cell_type": "code",
   "execution_count": 60,
   "id": "67b70ad1-6b97-4e26-ae44-a246b73ed297",
   "metadata": {},
   "outputs": [
    {
     "name": "stdout",
     "output_type": "stream",
     "text": [
      "Model: \"sequential_1\"\n",
      "_________________________________________________________________\n",
      "Layer (type)                 Output Shape              Param #   \n",
      "=================================================================\n",
      "dense_1 (Dense)              (None, 100)               10100     \n",
      "_________________________________________________________________\n",
      "dense_2 (Dense)              (None, 10)                1010      \n",
      "_________________________________________________________________\n",
      "dense_3 (Dense)              (None, 2)                 22        \n",
      "=================================================================\n",
      "Total params: 11,132\n",
      "Trainable params: 11,132\n",
      "Non-trainable params: 0\n",
      "_________________________________________________________________\n"
     ]
    }
   ],
   "source": [
    "# 加载预训练模型\n",
    "dnn = load_model('./tang/DNN_2020.h5', compile=False)\n",
    "dnn.summary()"
   ]
  },
  {
   "cell_type": "code",
   "execution_count": 61,
   "id": "587b9077-7bb7-4cbf-920b-fbd3be2d691f",
   "metadata": {},
   "outputs": [
    {
     "name": "stdout",
     "output_type": "stream",
     "text": [
      "MAE指标: 0.561783342278004\n",
      "MSE指标: 0.5055362704169919\n",
      "RMSE指标: 0.7110107386087723\n",
      "r2指标: 0.9318811969793768\n",
      "ev指标: 0.934647890969186\n",
      "time: 0.06884288787841797\n"
     ]
    }
   ],
   "source": [
    "start = time.time()\n",
    "# 预测测试集计算指标\n",
    "pxy = dnn.predict(X_test.reshape(400, 100))\n",
    "pxy = np.squeeze(pxy)\n",
    "print('MAE指标:', mean_absolute_error(y_test, pxy))\n",
    "print('MSE指标:', mean_squared_error(y_test, pxy))\n",
    "print('RMSE指标:', math.sqrt(mean_squared_error(y_test, pxy)))\n",
    "print('r2指标:', r2_score(y_test, pxy))\n",
    "print('ev指标:', explained_variance_score(y_test, pxy))\n",
    "end = time.time()\n",
    "print('time:', end-start)"
   ]
  },
  {
   "cell_type": "code",
   "execution_count": 62,
   "id": "5bb13dc0-1656-4d67-aec0-8a32901d7be4",
   "metadata": {},
   "outputs": [
    {
     "name": "stdout",
     "output_type": "stream",
     "text": [
      "MAE指标: 0.5723637021631003\n",
      "MSE指标: 0.4552434061110804\n",
      "RMSE指标: 0.6747172786516441\n",
      "r2指标: 0.9434498922838161\n",
      "ev指标: 0.946271799325749\n",
      "time: 0.0037381649017333984\n"
     ]
    }
   ],
   "source": [
    "start = time.time()\n",
    "# 02数据预测计算指标\n",
    "pxy = dnn.predict(X02.reshape(20, 100))\n",
    "pxy = np.squeeze(pxy)\n",
    "print('MAE指标:', mean_absolute_error(y02, pxy))\n",
    "print('MSE指标:', mean_squared_error(y02, pxy))\n",
    "print('RMSE指标:', math.sqrt(mean_squared_error(y02, pxy)))\n",
    "print('r2指标:', r2_score(y02, pxy))\n",
    "print('ev指标:', explained_variance_score(y02, pxy))\n",
    "end = time.time()\n",
    "print('time:', end-start)"
   ]
  },
  {
   "cell_type": "code",
   "execution_count": 63,
   "id": "4e46a935-0b73-4e07-8d0d-129550d9ee37",
   "metadata": {},
   "outputs": [],
   "source": [
    "res.loc['DNN','MAE'] = mean_absolute_error(y02, pxy)\n",
    "res.loc['DNN','RMSE'] = math.sqrt(mean_squared_error(y02, pxy))\n",
    "res.loc['DNN','R2'] = r2_score(y02, pxy)\n",
    "res.loc['DNN','TIME'] = end-start"
   ]
  },
  {
   "cell_type": "markdown",
   "id": "ad1edabd-f7a0-4dec-83ae-e70d7493187b",
   "metadata": {
    "tags": []
   },
   "source": [
    "## 导入GRU模型计算指标"
   ]
  },
  {
   "cell_type": "code",
   "execution_count": 64,
   "id": "34cd0d2c-c50c-4d78-b1d8-d2ae49f023a9",
   "metadata": {},
   "outputs": [
    {
     "name": "stdout",
     "output_type": "stream",
     "text": [
      "Model: \"sequential_1\"\n",
      "_________________________________________________________________\n",
      "Layer (type)                 Output Shape              Param #   \n",
      "=================================================================\n",
      "gru_1 (GRU)                  (None, 100)               30600     \n",
      "_________________________________________________________________\n",
      "dense_1 (Dense)              (None, 2)                 202       \n",
      "=================================================================\n",
      "Total params: 30,802\n",
      "Trainable params: 30,802\n",
      "Non-trainable params: 0\n",
      "_________________________________________________________________\n"
     ]
    }
   ],
   "source": [
    "# 加载预训练模型\n",
    "gru = load_model('./tang/GRU_2020.h5', compile=False)\n",
    "gru.summary()"
   ]
  },
  {
   "cell_type": "code",
   "execution_count": 65,
   "id": "89d7311e-1ad1-4442-90bf-3b3470517964",
   "metadata": {},
   "outputs": [
    {
     "name": "stdout",
     "output_type": "stream",
     "text": [
      "MAE指标: 0.32475206501930953\n",
      "MSE指标: 0.18922913374174283\n",
      "RMSE指标: 0.43500475140134137\n",
      "r2指标: 0.9738508344347644\n",
      "ev指标: 0.9783432660875703\n",
      "time: 0.27458786964416504\n"
     ]
    }
   ],
   "source": [
    "start = time.time()\n",
    "# 预测测试集计算指标\n",
    "pxy = gru.predict(X_test.reshape(400, 100, 1))\n",
    "pxy = np.squeeze(pxy)\n",
    "print('MAE指标:', mean_absolute_error(y_test, pxy))\n",
    "print('MSE指标:', mean_squared_error(y_test, pxy))\n",
    "print('RMSE指标:', math.sqrt(mean_squared_error(y_test, pxy)))\n",
    "print('r2指标:', r2_score(y_test, pxy))\n",
    "print('ev指标:', explained_variance_score(y_test, pxy))\n",
    "end = time.time()\n",
    "print('time:', end-start)"
   ]
  },
  {
   "cell_type": "markdown",
   "id": "a69f3ba1-e1cb-4342-9509-33c0ded268fe",
   "metadata": {},
   "source": [
    "## 对比坐标绘图"
   ]
  },
  {
   "cell_type": "code",
   "execution_count": 66,
   "id": "c0c8b2fd-6ef9-4820-ac8c-1fcc1c5f0e12",
   "metadata": {},
   "outputs": [
    {
     "data": {
      "text/plain": [
       "array([[2., 2.],\n",
       "       [2., 5.],\n",
       "       [3., 8.],\n",
       "       [4., 1.],\n",
       "       [4., 6.],\n",
       "       [5., 3.],\n",
       "       [6., 9.],\n",
       "       [7., 5.],\n",
       "       [8., 2.],\n",
       "       [9., 8.]])"
      ]
     },
     "execution_count": 66,
     "metadata": {},
     "output_type": "execute_result"
    }
   ],
   "source": [
    "l = y02[:10]\n",
    "l"
   ]
  },
  {
   "cell_type": "code",
   "execution_count": 67,
   "id": "1b806a27-fc1c-4613-a874-e9d6b87c1b63",
   "metadata": {},
   "outputs": [
    {
     "name": "stdout",
     "output_type": "stream",
     "text": [
      "MAE指标: 0.2949937070012093\n",
      "MSE指标: 0.1759488987827221\n",
      "RMSE指标: 0.41946263097291764\n",
      "r2指标: 0.9786625510933553\n",
      "ev指标: 0.9856163410951038\n",
      "time: 0.02442336082458496\n"
     ]
    }
   ],
   "source": [
    "tmp = []\n",
    "start = time.time()\n",
    "# 02数据预测计算指标\n",
    "pxy = gru.predict(X02.reshape(20, 100, 1))\n",
    "pxy = np.squeeze(pxy)\n",
    "tmp.append(pxy)\n",
    "print('MAE指标:', mean_absolute_error(y02, pxy))\n",
    "print('MSE指标:', mean_squared_error(y02, pxy))\n",
    "print('RMSE指标:', math.sqrt(mean_squared_error(y02, pxy)))\n",
    "print('r2指标:', r2_score(y02, pxy))\n",
    "print('ev指标:', explained_variance_score(y02, pxy))\n",
    "end = time.time()\n",
    "print('time:', end-start)"
   ]
  },
  {
   "cell_type": "code",
   "execution_count": 68,
   "id": "051712b1-9429-4226-88f9-38795ba04b92",
   "metadata": {},
   "outputs": [
    {
     "data": {
      "text/plain": [
       "array([[2.107601 , 1.8834777],\n",
       "       [1.9042513, 5.2968225],\n",
       "       [2.8215513, 8.615716 ],\n",
       "       [4.148364 , 1.174686 ],\n",
       "       [3.9786577, 6.1483297],\n",
       "       [5.138005 , 3.331485 ],\n",
       "       [6.0643635, 9.213559 ],\n",
       "       [6.846558 , 6.005748 ],\n",
       "       [7.9837008, 1.6009866],\n",
       "       [8.816206 , 8.860764 ]], dtype=float32)"
      ]
     },
     "execution_count": 68,
     "metadata": {},
     "output_type": "execute_result"
    }
   ],
   "source": [
    "tmp = np.squeeze(np.array(tmp))[:10]\n",
    "tmp"
   ]
  },
  {
   "cell_type": "code",
   "execution_count": 69,
   "id": "75e44368-d573-44d3-a994-6028368a479e",
   "metadata": {},
   "outputs": [
    {
     "data": {
      "text/html": [
       "<div>\n",
       "<style scoped>\n",
       "    .dataframe tbody tr th:only-of-type {\n",
       "        vertical-align: middle;\n",
       "    }\n",
       "\n",
       "    .dataframe tbody tr th {\n",
       "        vertical-align: top;\n",
       "    }\n",
       "\n",
       "    .dataframe thead th {\n",
       "        text-align: right;\n",
       "    }\n",
       "</style>\n",
       "<table border=\"1\" class=\"dataframe\">\n",
       "  <thead>\n",
       "    <tr style=\"text-align: right;\">\n",
       "      <th></th>\n",
       "      <th>X</th>\n",
       "      <th>y</th>\n",
       "      <th>PX</th>\n",
       "      <th>Py</th>\n",
       "    </tr>\n",
       "  </thead>\n",
       "  <tbody>\n",
       "    <tr>\n",
       "      <th>0</th>\n",
       "      <td>2.0</td>\n",
       "      <td>2.0</td>\n",
       "      <td>2.107601</td>\n",
       "      <td>1.883478</td>\n",
       "    </tr>\n",
       "    <tr>\n",
       "      <th>1</th>\n",
       "      <td>2.0</td>\n",
       "      <td>5.0</td>\n",
       "      <td>1.904251</td>\n",
       "      <td>5.296823</td>\n",
       "    </tr>\n",
       "    <tr>\n",
       "      <th>2</th>\n",
       "      <td>3.0</td>\n",
       "      <td>8.0</td>\n",
       "      <td>2.821551</td>\n",
       "      <td>8.615716</td>\n",
       "    </tr>\n",
       "    <tr>\n",
       "      <th>3</th>\n",
       "      <td>4.0</td>\n",
       "      <td>1.0</td>\n",
       "      <td>4.148364</td>\n",
       "      <td>1.174686</td>\n",
       "    </tr>\n",
       "    <tr>\n",
       "      <th>4</th>\n",
       "      <td>4.0</td>\n",
       "      <td>6.0</td>\n",
       "      <td>3.978658</td>\n",
       "      <td>6.148330</td>\n",
       "    </tr>\n",
       "    <tr>\n",
       "      <th>5</th>\n",
       "      <td>5.0</td>\n",
       "      <td>3.0</td>\n",
       "      <td>5.138005</td>\n",
       "      <td>3.331485</td>\n",
       "    </tr>\n",
       "    <tr>\n",
       "      <th>6</th>\n",
       "      <td>6.0</td>\n",
       "      <td>9.0</td>\n",
       "      <td>6.064363</td>\n",
       "      <td>9.213559</td>\n",
       "    </tr>\n",
       "    <tr>\n",
       "      <th>7</th>\n",
       "      <td>7.0</td>\n",
       "      <td>5.0</td>\n",
       "      <td>6.846558</td>\n",
       "      <td>6.005748</td>\n",
       "    </tr>\n",
       "    <tr>\n",
       "      <th>8</th>\n",
       "      <td>8.0</td>\n",
       "      <td>2.0</td>\n",
       "      <td>7.983701</td>\n",
       "      <td>1.600987</td>\n",
       "    </tr>\n",
       "    <tr>\n",
       "      <th>9</th>\n",
       "      <td>9.0</td>\n",
       "      <td>8.0</td>\n",
       "      <td>8.816206</td>\n",
       "      <td>8.860764</td>\n",
       "    </tr>\n",
       "  </tbody>\n",
       "</table>\n",
       "</div>"
      ],
      "text/plain": [
       "     X    y        PX        Py\n",
       "0  2.0  2.0  2.107601  1.883478\n",
       "1  2.0  5.0  1.904251  5.296823\n",
       "2  3.0  8.0  2.821551  8.615716\n",
       "3  4.0  1.0  4.148364  1.174686\n",
       "4  4.0  6.0  3.978658  6.148330\n",
       "5  5.0  3.0  5.138005  3.331485\n",
       "6  6.0  9.0  6.064363  9.213559\n",
       "7  7.0  5.0  6.846558  6.005748\n",
       "8  8.0  2.0  7.983701  1.600987\n",
       "9  9.0  8.0  8.816206  8.860764"
      ]
     },
     "execution_count": 69,
     "metadata": {},
     "output_type": "execute_result"
    }
   ],
   "source": [
    "# 预测坐标与实际坐标对比\n",
    "coor1 = pd.DataFrame(l)\n",
    "coor1.columns = ['X', 'y']\n",
    "\n",
    "coor2 = pd.DataFrame(tmp)\n",
    "coor2.columns = ['PX', 'Py']\n",
    "\n",
    "coor = pd.concat([coor1, coor2], axis=1)\n",
    "coor.to_csv('./doc/coordinate_tang.csv')\n",
    "coor"
   ]
  },
  {
   "cell_type": "code",
   "execution_count": 75,
   "id": "401e5d3e-2e9e-431b-82f6-6dd39490b8c4",
   "metadata": {},
   "outputs": [
    {
     "data": {
      "image/png": "[encoded data removed]",
      "text/plain": [
       "<Figure size 720x720 with 1 Axes>"
      ]
     },
     "metadata": {
      "needs_background": "light"
     },
     "output_type": "display_data"
    }
   ],
   "source": [
    "plt.figure(figsize=[10,10])\n",
    "plt.xlim((0, 12))\n",
    "plt.ylim((0, 12))\n",
    "plt.title('Coordinate Comparison without EA')\n",
    "# 画图-标准坐标\n",
    "plt.scatter(l[:, 0], l[:, 1], c='black', marker='x', label='real position')\n",
    "    \n",
    "# 画图-预测坐标\n",
    "plt.scatter(tmp[:, 0], tmp[:, 1], c='red', marker='x', label = 'predict position')\n",
    "plt.legend()\n",
    "plt.grid('True')\n",
    "plt.savefig('./doc/compare_coordinate_tang.jpg')"
   ]
  },
  {
   "cell_type": "code",
   "execution_count": 71,
   "id": "79cb2c81-8a71-40d3-a420-e0135b2ef28f",
   "metadata": {},
   "outputs": [],
   "source": [
    "res.loc['GRU','MAE'] = mean_absolute_error(y02, pxy)\n",
    "res.loc['GRU','RMSE'] = math.sqrt(mean_squared_error(y02, pxy))\n",
    "res.loc['GRU','R2'] = r2_score(y02, pxy)\n",
    "res.loc['GRU','TIME'] = end-start"
   ]
  },
  {
   "cell_type": "markdown",
   "id": "6b16e54e-3b29-44be-bdd2-0abc46266cd6",
   "metadata": {},
   "source": [
    "## 查看统计结果并保存"
   ]
  },
  {
   "cell_type": "code",
   "execution_count": 72,
   "id": "dfcb036d-b6c8-4475-b3a1-d942b7927424",
   "metadata": {},
   "outputs": [
    {
     "data": {
      "text/html": [
       "<div>\n",
       "<style scoped>\n",
       "    .dataframe tbody tr th:only-of-type {\n",
       "        vertical-align: middle;\n",
       "    }\n",
       "\n",
       "    .dataframe tbody tr th {\n",
       "        vertical-align: top;\n",
       "    }\n",
       "\n",
       "    .dataframe thead th {\n",
       "        text-align: right;\n",
       "    }\n",
       "</style>\n",
       "<table border=\"1\" class=\"dataframe\">\n",
       "  <thead>\n",
       "    <tr style=\"text-align: right;\">\n",
       "      <th></th>\n",
       "      <th>MAE</th>\n",
       "      <th>RMSE</th>\n",
       "      <th>R2</th>\n",
       "      <th>TIME</th>\n",
       "    </tr>\n",
       "  </thead>\n",
       "  <tbody>\n",
       "    <tr>\n",
       "      <th>RNN</th>\n",
       "      <td>1.326712</td>\n",
       "      <td>1.681018</td>\n",
       "      <td>0.652256</td>\n",
       "      <td>0.010522</td>\n",
       "    </tr>\n",
       "    <tr>\n",
       "      <th>DNN</th>\n",
       "      <td>0.572364</td>\n",
       "      <td>0.674717</td>\n",
       "      <td>0.943450</td>\n",
       "      <td>0.003738</td>\n",
       "    </tr>\n",
       "    <tr>\n",
       "      <th>SVM</th>\n",
       "      <td>0.294994</td>\n",
       "      <td>0.419463</td>\n",
       "      <td>0.978663</td>\n",
       "      <td>-320.210999</td>\n",
       "    </tr>\n",
       "    <tr>\n",
       "      <th>LSTM</th>\n",
       "      <td>0.329344</td>\n",
       "      <td>0.434903</td>\n",
       "      <td>0.976907</td>\n",
       "      <td>0.023756</td>\n",
       "    </tr>\n",
       "    <tr>\n",
       "      <th>GRU</th>\n",
       "      <td>0.294994</td>\n",
       "      <td>0.419463</td>\n",
       "      <td>0.978663</td>\n",
       "      <td>0.024423</td>\n",
       "    </tr>\n",
       "  </tbody>\n",
       "</table>\n",
       "</div>"
      ],
      "text/plain": [
       "           MAE      RMSE        R2        TIME\n",
       "RNN   1.326712  1.681018  0.652256    0.010522\n",
       "DNN   0.572364  0.674717  0.943450    0.003738\n",
       "SVM   0.294994  0.419463  0.978663 -320.210999\n",
       "LSTM  0.329344  0.434903  0.976907    0.023756\n",
       "GRU   0.294994  0.419463  0.978663    0.024423"
      ]
     },
     "execution_count": 72,
     "metadata": {},
     "output_type": "execute_result"
    }
   ],
   "source": [
    "res"
   ]
  },
  {
   "cell_type": "code",
   "execution_count": 73,
   "id": "f657c539-ecac-4e37-8ac7-e26f52d5e663",
   "metadata": {},
   "outputs": [],
   "source": [
    "res.to_csv('./doc/indictor_tang.csv')"
   ]
  },
  {
   "cell_type": "code",
   "execution_count": null,
   "id": "20a2be38-6142-42d4-9d4f-fbac862b7c7c",
   "metadata": {},
   "outputs": [],
   "source": []
  }
 ],
 "metadata": {
  "kernelspec": {
   "display_name": "tensorflow",
   "language": "python",
   "name": "tensorflow"
  },
  "language_info": {
   "codemirror_mode": {
    "name": "ipython",
    "version": 3
   },
   "file_extension": ".py",
   "mimetype": "text/x-python",
   "name": "python",
   "nbconvert_exporter": "python",
   "pygments_lexer": "ipython3",
   "version": "3.7.12"
  }
 },
 "nbformat": 4,
 "nbformat_minor": 5
}
