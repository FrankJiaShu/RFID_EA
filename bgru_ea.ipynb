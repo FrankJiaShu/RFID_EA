{
 "cells": [
  {
   "cell_type": "markdown",
   "id": "913a44ea",
   "metadata": {
    "tags": []
   },
   "source": [
    "# 使用geatpy优化B_GRU定位模型参数"
   ]
  },
  {
   "cell_type": "code",
   "execution_count": 1,
   "id": "efdadaab",
   "metadata": {},
   "outputs": [],
   "source": [
    "import math\n",
    "import copy\n",
    "import numpy as np\n",
    "import pandas as pd\n",
    "import geatpy as ea\n",
    "from tensorflow.keras.utils import plot_model\n",
    "from tensorflow.keras.models import Sequential, Model\n",
    "from tensorflow.keras.layers import Input, Dense, Concatenate, Activation, SimpleRNN, LSTM, GRU, Add, Dropout\n",
    "from multiprocessing.dummy import Pool as ThreadPool\n",
    "from sklearn.model_selection import train_test_split\n",
    "from sklearn.metrics import mean_absolute_error, explained_variance_score, r2_score, mean_squared_error"
   ]
  },
  {
   "cell_type": "markdown",
   "id": "d8339f6b",
   "metadata": {},
   "source": [
    "## 读取数据"
   ]
  },
  {
   "cell_type": "code",
   "execution_count": 2,
   "id": "1615c26b",
   "metadata": {},
   "outputs": [],
   "source": [
    "# 加载训练数据\n",
    "def load_data(path):\n",
    "    df = pd.read_csv(path)\n",
    "    dv = df.values\n",
    "    X = dv[:, 1:-2]\n",
    "    Y = dv[:, -2:]\n",
    "    return X[:, :, np.newaxis], Y"
   ]
  },
  {
   "cell_type": "code",
   "execution_count": 3,
   "id": "d6175a4d",
   "metadata": {},
   "outputs": [
    {
     "name": "stdout",
     "output_type": "stream",
     "text": [
      "(2000, 100, 1)\n"
     ]
    }
   ],
   "source": [
    "X, y = load_data('./dataset/location_data.csv')\n",
    "print(X.shape)"
   ]
  },
  {
   "cell_type": "code",
   "execution_count": 4,
   "id": "3fac3895",
   "metadata": {},
   "outputs": [],
   "source": [
    "X_train, X_test, y_train, y_test = train_test_split(X, y, test_size=0.2, random_state=2021)  # 训练测试划分\n",
    "# 针对b2_gru处理数据\n",
    "X_train_2 = copy.deepcopy(X_train)\n",
    "X_test_2 = copy.deepcopy(X_test)\n",
    "for i in range(len(X_train_2)):\n",
    "    for j in range(len(X_train_2[i])-1, 0, -1):\n",
    "        X_train_2[i][j] = X_train_2[i][j] - X_train_2[i][j-1]\n",
    "for i in range(len(X_test_2)):\n",
    "    for j in range(len(X_test_2[i]) - 1, 0, -1):\n",
    "        X_test_2[i][j] = X_test_2[i][j] - X_test_2[i][j-1]"
   ]
  },
  {
   "cell_type": "markdown",
   "id": "b6db49d0",
   "metadata": {},
   "source": [
    "## 定义B_GRU模型"
   ]
  },
  {
   "cell_type": "code",
   "execution_count": 5,
   "id": "037812e0",
   "metadata": {},
   "outputs": [],
   "source": [
    "def RFID_B_GRU():\n",
    "    m3_input_layer_1 = Input(shape=(100, 1))\n",
    "    m3_input_layer_2 = Input(shape=(100, 1))\n",
    "    m3_gru_layer_1 = GRU(100,\n",
    "                          # kernel_initializer=initializers.RandomNormal(stddev=0.001),\n",
    "                          # recurrent_initializer=initializers.Identity(gain=1.0),\n",
    "                          # kernel_regularizer=regularizers.l1(0.01),\n",
    "                          # activity_regularizer=regularizers.l2(0.01),\n",
    "                          # recurrent_dropout=0.1,\n",
    "                          batch_input_shape=(None, 100, 1))(m3_input_layer_1)\n",
    "                         \n",
    "    m3_gru_layer_2 = GRU(100,\n",
    "                          # kernel_initializer=initializers.RandomNormal(stddev=0.001),\n",
    "                          # recurrent_initializer=initializers.Identity(gain=1.0),\n",
    "                          # kernel_regularizer=regularizers.l1(0.01),\n",
    "                          # activity_regularizer=regularizers.l2(0.01),\n",
    "                          # recurrent_dropout=0.1,\n",
    "                          batch_input_shape=(None, 100, 1))(m3_input_layer_2)\n",
    "\n",
    "    m3_merged_layer = Concatenate()([m3_gru_layer_1, m3_gru_layer_2])\n",
    "    # m3_merged_layer = Add()([m3_lstm_layer_1, m3_lstm_layer_2])\n",
    "    # m4_lstm_layer = GRU(110, batch_input_shape=(None, 110, 2))(m3_merged_layer)\n",
    "    # m3_final_layer0 = Dense(20)(m3_merged_layer)\n",
    "    # dropout_layer = Dropout(0.2)(m3_merged_layer)\n",
    "    # m3_dense_layer = Dense(2)(m3_merged_layer)\n",
    "    m3_final_layer = Dense(2)(m3_merged_layer)\n",
    "    model = Model(inputs=[m3_input_layer_1, m3_input_layer_2], outputs=m3_final_layer, name=\"Model\")\n",
    "    # plot_model(model, 'model.png', show_shapes=True)\n",
    "    model.compile(optimizer='adam',\n",
    "                  loss='mean_squared_error',\n",
    "                  metrics=['mae'])\n",
    "    # model.summary()\n",
    "    return model"
   ]
  },
  {
   "cell_type": "markdown",
   "id": "e3975649",
   "metadata": {},
   "source": [
    "## 训练模型查看测试效果"
   ]
  },
  {
   "cell_type": "code",
   "execution_count": 6,
   "id": "94447842",
   "metadata": {
    "tags": []
   },
   "outputs": [
    {
     "name": "stderr",
     "output_type": "stream",
     "text": [
      "2021-12-19 18:10:32.885156: I tensorflow/core/platform/cpu_feature_guard.cc:142] This TensorFlow binary is optimized with oneAPI Deep Neural Network Library (oneDNN) to use the following CPU instructions in performance-critical operations:  SSE4.1 SSE4.2 AVX AVX2 FMA\n",
      "To enable them in other operations, rebuild TensorFlow with the appropriate compiler flags.\n",
      "2021-12-19 18:10:33.240012: I tensorflow/compiler/mlir/mlir_graph_optimization_pass.cc:116] None of the MLIR optimization passes are enabled (registered 2)\n"
     ]
    },
    {
     "name": "stdout",
     "output_type": "stream",
     "text": [
      "Epoch 1/10\n",
      "16/16 [==============================] - 3s 100ms/step - loss: 35.1528 - mae: 5.1598\n",
      "Epoch 2/10\n",
      "16/16 [==============================] - 2s 99ms/step - loss: 9.3350 - mae: 2.5281\n",
      "Epoch 3/10\n",
      "16/16 [==============================] - 2s 99ms/step - loss: 6.5339 - mae: 2.1686\n",
      "Epoch 4/10\n",
      "16/16 [==============================] - 2s 101ms/step - loss: 5.1848 - mae: 1.9042\n",
      "Epoch 5/10\n",
      "16/16 [==============================] - 2s 101ms/step - loss: 4.2095 - mae: 1.6185 1s - loss: 4.3802 -\n",
      "Epoch 6/10\n",
      "16/16 [==============================] - 2s 101ms/step - loss: 3.7061 - mae: 1.4943\n",
      "Epoch 7/10\n",
      "16/16 [==============================] - 2s 100ms/step - loss: 3.3274 - mae: 1.4057\n",
      "Epoch 8/10\n",
      "16/16 [==============================] - 2s 100ms/step - loss: 2.9212 - mae: 1.3377\n",
      "Epoch 9/10\n",
      "16/16 [==============================] - 2s 101ms/step - loss: 2.4268 - mae: 1.2200\n",
      "Epoch 10/10\n",
      "16/16 [==============================] - 2s 101ms/step - loss: 1.9838 - mae: 1.0855\n",
      "40/40 [==============================] - 1s 8ms/step - loss: 1.6357 - mae: 0.9976\n",
      "损失与精度： [1.6357433795928955, 0.9975892901420593]\n",
      "[[3.9202707 3.990729 ]\n",
      " [2.0034947 5.3711143]\n",
      " [4.1985908 6.903084 ]\n",
      " [7.7935038 6.0850697]\n",
      " [6.1446743 6.7646008]\n",
      " [7.093895  6.579384 ]\n",
      " [8.85865   4.007518 ]\n",
      " [3.6744866 7.114712 ]\n",
      " [9.490026  3.6646326]\n",
      " [3.2393458 4.005701 ]]\n",
      "[[3.76 3.77]\n",
      " [1.57 4.63]\n",
      " [5.43 6.77]\n",
      " [9.67 7.94]\n",
      " [7.09 8.28]\n",
      " [8.59 8.24]\n",
      " [9.14 2.22]\n",
      " [3.66 7.91]\n",
      " [8.93 1.86]\n",
      " [2.38 2.02]]\n",
      "MAE指标: 0.9975894711583847\n",
      "MSE指标: 1.635743217289153\n",
      "RMSE指标: 1.2789617731930665\n",
      "r2指标: 0.7752272798179638\n",
      "ev指标: 0.7823373482196485\n",
      "CPU times: user 47.2 s, sys: 10.2 s, total: 57.3 s\n",
      "Wall time: 19.9 s\n"
     ]
    }
   ],
   "source": [
    "%%time\n",
    "model = RFID_B_GRU()\n",
    "model.fit([X_train, X_train_2], y_train, epochs=10, batch_size=100)\n",
    "loss = model.evaluate([X_test, X_test_2], y_test, batch_size=10) # 输出损失和MAE\n",
    "print('损失与精度：', loss)\n",
    "model.save('./models/B_GRU_2021.h5')\n",
    "\n",
    "pxy = model.predict([X_test, X_test_2])\n",
    "print(pxy[:10])\n",
    "print(y_test[:10])\n",
    "MAE = mean_absolute_error(y_test, pxy)\n",
    "MSE = mean_squared_error(y_test, pxy)\n",
    "r2 = r2_score(y_test, pxy)\n",
    "ev = explained_variance_score(y_test, pxy)\n",
    "print('MAE指标:', MAE)\n",
    "print('MSE指标:', MSE)\n",
    "print('RMSE指标:', math.sqrt(MSE))\n",
    "print('r2指标:', r2)\n",
    "print('ev指标:', ev)\n"
   ]
  },
  {
   "cell_type": "markdown",
   "id": "b4436de6",
   "metadata": {
    "tags": []
   },
   "source": [
    "## 使用进化算法调参"
   ]
  },
  {
   "cell_type": "markdown",
   "id": "a770f73f",
   "metadata": {},
   "source": [
    " ### 自定义问题类"
   ]
  },
  {
   "cell_type": "code",
   "execution_count": 7,
   "id": "21b2e6cd",
   "metadata": {},
   "outputs": [],
   "source": [
    "class RFIDBGRU(ea.Problem):\n",
    "    def __init__(self, X_train, X_train_2, X_test, X_test_2, y_train, y_test):\n",
    "        name = 'RFIDBGRU'\n",
    "        M = 1 # 初始化M（目标维数）\n",
    "        maxormins = [-1] # 初始化maxormins（目标最小最大化标记列表，1：最小化该目标；-1：最大化该目标）\n",
    "        Dim = 2 # 初始化Dim（决策变量维数）\n",
    "        varTypes = np.array([0] * Dim) # 初始化varTypes 0-连续\n",
    "        lb = [10, 50] # 决策变量下界\n",
    "        ub = [20, 800] # 决策变量上界\n",
    "        lbin = [1] * Dim # 决策变量下边界（0表示不包含该变量的下边界，1表示包含）\n",
    "        ubin = [1] * Dim # 决策变量上边界（0表示不包含该变量的上边界，1表示包含）\n",
    "        # 调用父类构造方法完成实例化\n",
    "        ea.Problem.__init__(self, name, M, maxormins, Dim, varTypes, lb, ub, lbin, ubin)\n",
    "        # 数据设置\n",
    "        self.X_train = X_train\n",
    "        self.X_train_2 = X_train_2\n",
    "        self.X_test = X_test\n",
    "        self.X_test_2 = X_test_2\n",
    "        self.y_train = y_train\n",
    "        self.y_test = y_test\n",
    "        \n",
    "        \n",
    "    # 目标函数，采用多线程加速计算\n",
    "    def aimFunc(self, pop):\n",
    "        Vars = pop.Phen # 得到决策变量矩阵\n",
    "        # print(Vars)\n",
    "        pop.ObjV = np.zeros((pop.sizes, 1)) # 初始化种群个体目标函数值列向量\n",
    "        def subAimFunc(i):\n",
    "            epochs = int(Vars[i, 0])\n",
    "            batch_size = int(Vars[i, 1])\n",
    "            model = RFID_B_GRU()\n",
    "            model.fit([self.X_train, self.X_train_2], self.y_train, epochs=epochs, batch_size=batch_size, verbose=0)\n",
    "            pxy = model.predict([self.X_test, self.X_test_2])\n",
    "            pop.ObjV[i] = r2_score(self.y_test, pxy) # 最小化MSE作为目标函数\n",
    "        pool = ThreadPool(processes=2) # 设置池的大小\n",
    "        pool.map(subAimFunc, list(range(pop.sizes))) # 散列种群每个个体进行加速计算\n",
    "        \n",
    "        \n",
    "    # 代入优化后的参数对测试集进行检验，计算指标\n",
    "    def test(self, epochs, batch_size):\n",
    "        X02, y02 = load_data('./dataset/location_data02.csv')\n",
    "        X02_2 = copy.deepcopy(X02)\n",
    "        for i in range(len(X02_2)):\n",
    "            for j in range(len(X02_2[i])-1, 0, -1):\n",
    "                X02_2[i][j] = X02_2[i][j] - X02_2[i][j-1]\n",
    "                \n",
    "        model = RFID_B_GRU()\n",
    "        model.fit([self.X_train, self.X_train_2], self.y_train, epochs=epochs, batch_size=batch_size, verbose=0)\n",
    "        model.save('./models/B_GRU_2021.h5')\n",
    "        pxy = model.predict([X02, X02_2])\n",
    "        MAE = mean_absolute_error(y02, pxy)\n",
    "        MSE = mean_squared_error(y02, pxy)\n",
    "        r2 = r2_score(y02, pxy)\n",
    "        ev = explained_variance_score(y02, pxy)\n",
    "        print('MAE指标:', MAE)\n",
    "        print('MSE指标:', MSE)\n",
    "        print('RMSE指标:', math.sqrt(MSE))\n",
    "        print('r2指标:', r2)\n",
    "        print('ev指标:', ev)\n",
    "        "
   ]
  },
  {
   "cell_type": "markdown",
   "id": "4bdc2b77",
   "metadata": {},
   "source": [
    "### 编写执行代码"
   ]
  },
  {
   "cell_type": "code",
   "execution_count": 8,
   "id": "453a6597",
   "metadata": {
    "tags": []
   },
   "outputs": [
    {
     "name": "stdout",
     "output_type": "stream",
     "text": [
      "==================================================================================\n",
      "gen|  eval  |    f_opt    |    f_max    |    f_avg    |    f_min    |    f_std    \n",
      "----------------------------------------------------------------------------------\n",
      " 0 |   2    | 6.70458E-01 | 6.70458E-01 | 4.59358E-01 | 2.48257E-01 | 2.11101E-01 \n",
      " 1 |   4    | 7.16931E-01 | 7.16931E-01 | 6.93695E-01 | 6.70458E-01 | 2.32366E-02 \n",
      " 2 |   6    | 7.16931E-01 | 7.16931E-01 | 6.93695E-01 | 6.70458E-01 | 2.32366E-02 \n",
      " 3 |   8    | 7.16931E-01 | 7.16931E-01 | 6.93695E-01 | 6.70458E-01 | 2.32366E-02 \n",
      " 4 |   10   | 7.16931E-01 | 7.16931E-01 | 6.97873E-01 | 6.78815E-01 | 1.90584E-02 \n",
      " 5 |   12   | 7.16931E-01 | 7.16931E-01 | 6.97873E-01 | 6.78815E-01 | 1.90584E-02 \n",
      " 6 |   14   | 7.16931E-01 | 7.16931E-01 | 6.97873E-01 | 6.78815E-01 | 1.90584E-02 \n",
      " 7 |   16   | 7.16931E-01 | 7.16931E-01 | 6.97873E-01 | 6.78815E-01 | 1.90584E-02 \n",
      " 8 |   18   | 7.16931E-01 | 7.16931E-01 | 6.97873E-01 | 6.78815E-01 | 1.90584E-02 \n",
      " 9 |   20   | 7.16931E-01 | 7.16931E-01 | 6.97873E-01 | 6.78815E-01 | 1.90584E-02 \n"
     ]
    },
    {
     "data": {
      "image/png": "[encoded data removed]",
      "text/plain": [
       "<Figure size 432x288 with 1 Axes>"
      ]
     },
     "metadata": {
      "needs_background": "light"
     },
     "output_type": "display_data"
    },
    {
     "name": "stdout",
     "output_type": "stream",
     "text": [
      "种群信息导出完毕。\n",
      "用时：487.737816 秒\n",
      "评价次数：20 次\n",
      "最优的目标函数值为：0.7169314875688689\n",
      "最优的控制变量值为：\n",
      "14.836797718890011\n",
      "204.44744285196066\n",
      "MAE指标: 1.4510012511909007\n",
      "MSE指标: 3.1835329510688757\n",
      "RMSE指标: 1.784245765321828\n",
      "r2指标: 0.6118445551761393\n",
      "ev指标: 0.6163433137583894\n"
     ]
    }
   ],
   "source": [
    "\"\"\"===============================实例化问题对象===========================\"\"\"\n",
    "\n",
    "problem = RFIDBGRU(X_train, X_train_2, X_test, X_test_2, y_train, y_test) # 生成问题对象\n",
    "\n",
    "\"\"\"=================================种群设置===============================\"\"\"\n",
    "\n",
    "Encoding = 'RI'       # 编码方式\n",
    "NIND = 2             # 种群规模\n",
    "Field = ea.crtfld(Encoding, problem.varTypes, problem.ranges, problem.borders) # 创建区域描述器\n",
    "population = ea.Population(Encoding, Field, NIND) # 实例化种群对象（此时种群还没被初始化，仅仅是完成种群对象的实例化）\n",
    "\n",
    "\"\"\"===============================算法参数设置=============================\"\"\"\n",
    "\n",
    "myAlgorithm = ea.soea_DE_rand_1_bin_templet(problem, population) # 实例化一个算法模板对象\n",
    "myAlgorithm.MAXGEN = 10 # 最大进化代数\n",
    "myAlgorithm.trappedValue = 1e-6 # “进化停滞”判断阈值\n",
    "myAlgorithm.maxTrappedCount = 10 # 进化停滞计数器最大上限值，如果连续maxTrappedCount代被判定进化陷入停滞，则终止进化\n",
    "myAlgorithm.logTras = 1  # 设置每隔多少代记录日志，若设置成0则表示不记录日志\n",
    "myAlgorithm.verbose = True  # 设置是否打印输出日志信息\n",
    "myAlgorithm.drawing = 1  # 设置绘图方式（0：不绘图；1：绘制结果图；2：绘制目标空间过程动画；3：绘制决策空间过程动画）\n",
    "\n",
    "\"\"\"===========================调用算法模板进行种群进化=======================\"\"\"\n",
    "\n",
    "[BestIndi, population] = myAlgorithm.run()  # 执行算法模板，得到最优个体以及最后一代种群\n",
    "BestIndi.save()  # 把最优个体的信息保存到文件中\n",
    "\n",
    "\"\"\"==================================输出结果=============================\"\"\"\n",
    "\n",
    "print('用时：%f 秒' % myAlgorithm.passTime)\n",
    "print('评价次数：%d 次' % myAlgorithm.evalsNum)\n",
    "if BestIndi.sizes != 0:\n",
    "    print('最优的目标函数值为：%s' % BestIndi.ObjV[0][0])\n",
    "    print('最优的控制变量值为：')\n",
    "    for i in range(BestIndi.Phen.shape[1]):\n",
    "        print(BestIndi.Phen[0, i])\n",
    "else:\n",
    "    print('没找到可行解。')\n",
    "    \n",
    "\"\"\"=================================检验结果===============================\"\"\"\n",
    "\n",
    "problem.test(epochs= int(BestIndi.Phen[0][0]), batch_size= int(BestIndi.Phen[0][1]))\n"
   ]
  },
  {
   "cell_type": "code",
   "execution_count": null,
   "id": "427c5367",
   "metadata": {},
   "outputs": [],
   "source": []
  }
 ],
 "metadata": {
  "kernelspec": {
   "display_name": "tensorflow",
   "language": "python",
   "name": "tensorflow"
  },
  "language_info": {
   "codemirror_mode": {
    "name": "ipython",
    "version": 3
   },
   "file_extension": ".py",
   "mimetype": "text/x-python",
   "name": "python",
   "nbconvert_exporter": "python",
   "pygments_lexer": "ipython3",
   "version": "3.7.12"
  },
  "toc": {
   "base_numbering": 1,
   "nav_menu": {},
   "number_sections": true,
   "sideBar": true,
   "skip_h1_title": false,
   "title_cell": "Table of Contents",
   "title_sidebar": "Contents",
   "toc_cell": false,
   "toc_position": {},
   "toc_section_display": true,
   "toc_window_display": true
  }
 },
 "nbformat": 4,
 "nbformat_minor": 5
}
