{
 "cells": [
  {
   "cell_type": "code",
   "execution_count": 7,
   "outputs": [],
   "source": [
    "import matplotlib.pyplot as plt"
   ],
   "metadata": {
    "collapsed": false,
    "pycharm": {
     "name": "#%%\n"
    }
   }
  },
  {
   "cell_type": "code",
   "execution_count": 8,
   "outputs": [],
   "source": [
    "# 指标数据\n",
    "w = [\n",
    "    [1.327,\t1.681,\t0.652],\n",
    "    [1.176,\t1.139,\t0.697],\n",
    "    [0.329,\t0.435,\t0.977],\n",
    "    [0.272,\t0.358,\t0.981],\n",
    "    [0.295,\t0.419,\t0.989],\n",
    "    [0.201,\t0.310,\t0.990]\n",
    "]\n",
    "# 柱图x轴标签\n",
    "labels = ['RNN', 'RNN-MOEA', 'LSTM', 'LSTM-MOEA', 'GRU', 'GRU-MOEA']"
   ],
   "metadata": {
    "collapsed": false,
    "pycharm": {
     "name": "#%%\n"
    }
   }
  },
  {
   "cell_type": "code",
   "execution_count": 9,
   "outputs": [],
   "source": [
    "# 定义绘图方法\n",
    "def draw(w, y):\n",
    "    x1 = [1,5,9,13,17,21] # x轴点效率位置\n",
    "    x2 = [i + 1 for i in x1]    # x轴线效率位置\n",
    "    x3 = [i + 2 for i in x1]    # x轴面效率位置\n",
    "    y1 = [i[0] for i in w]\n",
    "    y2 = [i[1] for i in w]\n",
    "    y3 = [i[2] for i in w]\n",
    "    y0 = [\"\",\"\",\"\",\"\",\"\",\"\"]\n",
    "    plt.bar(x1, y1, alpha=0.7, width=0.6, color='lightskyblue',label=\"MAE\", tick_label=y0)\n",
    "    plt.bar(x3, y3, alpha=0.7, width=0.6, color='darkseagreen',label=\"R2\", tick_label=y0)\n",
    "    plt.bar(x2, y2, alpha=0.7, width=0.6, color='khaki',label=\"RMSE\", tick_label=y)\n",
    "    plt.legend()\n",
    "    plt.savefig('./doc/barchart.jpg')"
   ],
   "metadata": {
    "collapsed": false,
    "pycharm": {
     "name": "#%%\n"
    }
   }
  },
  {
   "cell_type": "code",
   "execution_count": 10,
   "outputs": [
    {
     "data": {
      "text/plain": "<Figure size 432x288 with 1 Axes>",
      "image/png": "[encoded data removed]"
     },
     "metadata": {
      "needs_background": "light"
     },
     "output_type": "display_data"
    }
   ],
   "source": [
    "draw(w, labels)"
   ],
   "metadata": {
    "collapsed": false,
    "pycharm": {
     "name": "#%%\n"
    }
   }
  },
  {
   "cell_type": "code",
   "execution_count": null,
   "outputs": [],
   "source": [],
   "metadata": {
    "collapsed": false,
    "pycharm": {
     "name": "#%%\n"
    }
   }
  }
 ],
 "metadata": {
  "kernelspec": {
   "display_name": "Python 3",
   "language": "python",
   "name": "python3"
  },
  "language_info": {
   "codemirror_mode": {
    "name": "ipython",
    "version": 2
   },
   "file_extension": ".py",
   "mimetype": "text/x-python",
   "name": "python",
   "nbconvert_exporter": "python",
   "pygments_lexer": "ipython2",
   "version": "2.7.6"
  }
 },
 "nbformat": 4,
 "nbformat_minor": 0
}