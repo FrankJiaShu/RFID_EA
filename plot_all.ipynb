{
 "cells": [
  {
   "cell_type": "markdown",
   "id": "1fbabddf",
   "metadata": {
    "pycharm": {
     "name": "#%% md\n"
    }
   },
   "source": [
    "# CCF-C论文实验绘图使用"
   ]
  },
  {
   "cell_type": "markdown",
   "id": "76d3cfe0",
   "metadata": {
    "tags": [],
    "pycharm": {
     "name": "#%% md\n"
    }
   },
   "source": [
    "## 数据准备与加载"
   ]
  },
  {
   "cell_type": "code",
   "execution_count": 15,
   "id": "d8562b1a",
   "metadata": {
    "pycharm": {
     "name": "#%%\n"
    }
   },
   "outputs": [],
   "source": [
    "import math\n",
    "import time\n",
    "import numpy as np\n",
    "import pandas as pd\n",
    "import matplotlib.pyplot as plt\n",
    "from tensorflow.keras.models import load_model \n",
    "from sklearn.model_selection import train_test_split\n",
    "from sklearn.metrics import mean_absolute_error, explained_variance_score, r2_score, mean_squared_error"
   ]
  },
  {
   "cell_type": "code",
   "execution_count": 16,
   "id": "33feaec8",
   "metadata": {
    "pycharm": {
     "name": "#%%\n"
    }
   },
   "outputs": [],
   "source": [
    "# 加载训练数据\n",
    "def load_data(path):\n",
    "    df = pd.read_csv(path)\n",
    "    dv = df.values\n",
    "    X = dv[:, 1:-2]\n",
    "    Y = dv[:, -2:]\n",
    "    return X[:, :, np.newaxis], Y\n",
    "\n",
    "# 测试数据准备\n",
    "X, y = load_data('./dataset/location_data.csv')\n",
    "X_train, X_test, y_train, y_test = train_test_split(X, y, test_size=0.2, random_state=2021)\n",
    "\n",
    "X02, y02 = load_data('./dataset/location_data02.csv')"
   ]
  },
  {
   "cell_type": "markdown",
   "id": "91206781-1249-44be-82cb-b65f32242ff1",
   "metadata": {
    "tags": [],
    "pycharm": {
     "name": "#%% md\n"
    }
   },
   "source": [
    "## 查看测试数据"
   ]
  },
  {
   "cell_type": "code",
   "execution_count": 17,
   "id": "72675c06-ee24-46df-a6a3-f8f01aa40cd3",
   "metadata": {
    "pycharm": {
     "name": "#%%\n"
    }
   },
   "outputs": [
    {
     "data": {
      "text/plain": "(400, 100, 1)"
     },
     "execution_count": 17,
     "metadata": {},
     "output_type": "execute_result"
    }
   ],
   "source": [
    "X_test.shape"
   ]
  },
  {
   "cell_type": "code",
   "execution_count": 18,
   "id": "e0bafbfd-032e-4f29-a86d-13c9c49e3666",
   "metadata": {
    "pycharm": {
     "name": "#%%\n"
    }
   },
   "outputs": [
    {
     "data": {
      "text/plain": "(400, 2)"
     },
     "execution_count": 18,
     "metadata": {},
     "output_type": "execute_result"
    }
   ],
   "source": [
    "y_test.shape"
   ]
  },
  {
   "cell_type": "code",
   "execution_count": 19,
   "id": "e48df5e6-927a-41e0-af20-ff58514cc1cb",
   "metadata": {
    "pycharm": {
     "name": "#%%\n"
    }
   },
   "outputs": [
    {
     "data": {
      "text/plain": "array([[3.76, 3.77],\n       [1.57, 4.63],\n       [5.43, 6.77],\n       [9.67, 7.94],\n       [7.09, 8.28],\n       [8.59, 8.24],\n       [9.14, 2.22],\n       [3.66, 7.91],\n       [8.93, 1.86],\n       [2.38, 2.02]])"
     },
     "execution_count": 19,
     "metadata": {},
     "output_type": "execute_result"
    }
   ],
   "source": [
    "y_test[:10] # 输出前10个的坐标"
   ]
  },
  {
   "cell_type": "markdown",
   "id": "ad1edabd-f7a0-4dec-83ae-e70d7493187b",
   "metadata": {
    "tags": [],
    "pycharm": {
     "name": "#%% md\n"
    }
   },
   "source": [
    "## 导入GRU模型计算指标"
   ]
  },
  {
   "cell_type": "code",
   "execution_count": 20,
   "id": "34cd0d2c-c50c-4d78-b1d8-d2ae49f023a9",
   "metadata": {
    "pycharm": {
     "name": "#%%\n"
    }
   },
   "outputs": [
    {
     "name": "stdout",
     "output_type": "stream",
     "text": [
      "Model: \"sequential\"\n",
      "_________________________________________________________________\n",
      "Layer (type)                 Output Shape              Param #   \n",
      "=================================================================\n",
      "gru (GRU)                    (None, 100)               30900     \n",
      "_________________________________________________________________\n",
      "dense (Dense)                (None, 2)                 202       \n",
      "=================================================================\n",
      "Total params: 31,102\n",
      "Trainable params: 31,102\n",
      "Non-trainable params: 0\n",
      "_________________________________________________________________\n"
     ]
    }
   ],
   "source": [
    "# 加载预训练模型\n",
    "gru = load_model('./models/GRU_2021.h5', compile=False)\n",
    "gru.summary()"
   ]
  },
  {
   "cell_type": "code",
   "execution_count": 21,
   "id": "e57e9e53-fc64-45f1-9674-0b8031d91255",
   "metadata": {
    "pycharm": {
     "name": "#%%\n"
    }
   },
   "outputs": [
    {
     "name": "stdout",
     "output_type": "stream",
     "text": [
      "Model: \"sequential_1\"\n",
      "_________________________________________________________________\n",
      "Layer (type)                 Output Shape              Param #   \n",
      "=================================================================\n",
      "gru_1 (GRU)                  (None, 100)               30600     \n",
      "_________________________________________________________________\n",
      "dense_1 (Dense)              (None, 2)                 202       \n",
      "=================================================================\n",
      "Total params: 30,802\n",
      "Trainable params: 30,802\n",
      "Non-trainable params: 0\n",
      "_________________________________________________________________\n"
     ]
    }
   ],
   "source": [
    "# 加载预tang训练模型\n",
    "gru2 = load_model('./tang/GRU_2020.h5', compile=False)\n",
    "gru2.summary()"
   ]
  },
  {
   "cell_type": "code",
   "execution_count": 22,
   "id": "89d7311e-1ad1-4442-90bf-3b3470517964",
   "metadata": {
    "pycharm": {
     "name": "#%%\n"
    }
   },
   "outputs": [
    {
     "name": "stdout",
     "output_type": "stream",
     "text": [
      "MAE指标: 0.2756354026518764\n",
      "MSE指标: 0.15056168779649812\n",
      "RMSE指标: 0.3880227928827096\n",
      "r2指标: 0.9791365169889139\n",
      "ev指标: 0.9791504839001594\n",
      "time: 0.37631702423095703\n"
     ]
    }
   ],
   "source": [
    "start = time.time()\n",
    "# 预测测试集计算指标\n",
    "pxy = gru.predict(X_test.reshape(400, 100, 1))\n",
    "pxy = np.squeeze(pxy)\n",
    "print('MAE指标:', mean_absolute_error(y_test, pxy))\n",
    "print('MSE指标:', mean_squared_error(y_test, pxy))\n",
    "print('RMSE指标:', math.sqrt(mean_squared_error(y_test, pxy)))\n",
    "print('r2指标:', r2_score(y_test, pxy))\n",
    "print('ev指标:', explained_variance_score(y_test, pxy))\n",
    "end = time.time()\n",
    "print('time:', end-start)"
   ]
  },
  {
   "cell_type": "code",
   "execution_count": 23,
   "id": "dc7ddcd5-9f2c-47b7-8b65-fe723ec3d3ab",
   "metadata": {
    "pycharm": {
     "name": "#%%\n"
    }
   },
   "outputs": [
    {
     "name": "stdout",
     "output_type": "stream",
     "text": [
      "MAE指标: 0.32475206501930953\n",
      "MSE指标: 0.18922913374174283\n",
      "RMSE指标: 0.43500475140134137\n",
      "r2指标: 0.9738508344347644\n",
      "ev指标: 0.9783432660875703\n",
      "time: 0.4159250259399414\n"
     ]
    }
   ],
   "source": [
    "start = time.time()\n",
    "# 预测测试集计算指标\n",
    "pxy2 = gru2.predict(X_test.reshape(400, 100, 1))\n",
    "pxy2 = np.squeeze(pxy2)\n",
    "print('MAE指标:', mean_absolute_error(y_test, pxy2))\n",
    "print('MSE指标:', mean_squared_error(y_test, pxy2))\n",
    "print('RMSE指标:', math.sqrt(mean_squared_error(y_test, pxy2)))\n",
    "print('r2指标:', r2_score(y_test, pxy2))\n",
    "print('ev指标:', explained_variance_score(y_test, pxy2))\n",
    "end = time.time()\n",
    "print('time:', end-start)"
   ]
  },
  {
   "cell_type": "markdown",
   "id": "a69f3ba1-e1cb-4342-9509-33c0ded268fe",
   "metadata": {
    "pycharm": {
     "name": "#%% md\n"
    }
   },
   "source": [
    "## 对比坐标绘图"
   ]
  },
  {
   "cell_type": "code",
   "execution_count": 24,
   "id": "c0c8b2fd-6ef9-4820-ac8c-1fcc1c5f0e12",
   "metadata": {
    "pycharm": {
     "name": "#%%\n"
    }
   },
   "outputs": [
    {
     "data": {
      "text/plain": "array([[2., 2.],\n       [2., 5.],\n       [3., 8.],\n       [4., 1.],\n       [4., 6.],\n       [5., 3.],\n       [6., 9.],\n       [7., 5.],\n       [8., 2.],\n       [9., 8.]])"
     },
     "execution_count": 24,
     "metadata": {},
     "output_type": "execute_result"
    }
   ],
   "source": [
    "l = y02[:10]\n",
    "l"
   ]
  },
  {
   "cell_type": "code",
   "execution_count": 25,
   "id": "1b806a27-fc1c-4613-a874-e9d6b87c1b63",
   "metadata": {
    "pycharm": {
     "name": "#%%\n"
    }
   },
   "outputs": [
    {
     "name": "stdout",
     "output_type": "stream",
     "text": [
      "MAE指标: 0.18800144487619397\n",
      "MSE指标: 0.06782031925738358\n",
      "RMSE指标: 0.2604233462218462\n",
      "r2指标: 0.9917356228378837\n",
      "ev指标: 0.9918645924919617\n",
      "time: 0.01610398292541504\n"
     ]
    },
    {
     "data": {
      "text/plain": "array([[2.1486425, 1.5848514],\n       [2.0407417, 4.9888425],\n       [2.9635856, 8.085009 ],\n       [4.268954 , 0.9797909],\n       [3.9710217, 5.8493686],\n       [5.3100886, 3.135364 ],\n       [6.069646 , 8.577453 ],\n       [6.848046 , 5.5250945],\n       [7.8021884, 1.5381844],\n       [8.969224 , 8.019092 ]], dtype=float32)"
     },
     "execution_count": 25,
     "metadata": {},
     "output_type": "execute_result"
    }
   ],
   "source": [
    "tmp = []\n",
    "start = time.time()\n",
    "# 02数据预测计算指标\n",
    "pxy = gru.predict(X02.reshape(20, 100, 1))\n",
    "pxy = np.squeeze(pxy)\n",
    "tmp.append(pxy)\n",
    "print('MAE指标:', mean_absolute_error(y02, pxy))\n",
    "print('MSE指标:', mean_squared_error(y02, pxy))\n",
    "print('RMSE指标:', math.sqrt(mean_squared_error(y02, pxy)))\n",
    "print('r2指标:', r2_score(y02, pxy))\n",
    "print('ev指标:', explained_variance_score(y02, pxy))\n",
    "end = time.time()\n",
    "print('time:', end-start)\n",
    "tmp = np.squeeze(np.array(tmp))[:10]\n",
    "tmp"
   ]
  },
  {
   "cell_type": "code",
   "execution_count": 26,
   "id": "051712b1-9429-4226-88f9-38795ba04b92",
   "metadata": {
    "pycharm": {
     "name": "#%%\n"
    }
   },
   "outputs": [
    {
     "name": "stdout",
     "output_type": "stream",
     "text": [
      "MAE指标: 0.2949937070012093\n",
      "MSE指标: 0.1759488987827221\n",
      "RMSE指标: 0.41946263097291764\n",
      "r2指标: 0.9786625510933553\n",
      "ev指标: 0.9856163410951038\n",
      "time: 0.022392988204956055\n"
     ]
    },
    {
     "data": {
      "text/plain": "array([[2.107601 , 1.8834777],\n       [1.9042513, 5.2968225],\n       [2.8215513, 8.615716 ],\n       [4.148364 , 1.174686 ],\n       [3.9786577, 6.1483297],\n       [5.138005 , 3.331485 ],\n       [6.0643635, 9.213559 ],\n       [6.846558 , 6.005748 ],\n       [7.9837008, 1.6009866],\n       [8.816206 , 8.860764 ]], dtype=float32)"
     },
     "execution_count": 26,
     "metadata": {},
     "output_type": "execute_result"
    }
   ],
   "source": [
    "tmp2 = []\n",
    "start = time.time()\n",
    "# 02数据预测计算指标\n",
    "pxy2 = gru2.predict(X02.reshape(20, 100, 1))\n",
    "pxy2 = np.squeeze(pxy2)\n",
    "tmp2.append(pxy2)\n",
    "print('MAE指标:', mean_absolute_error(y02, pxy2))\n",
    "print('MSE指标:', mean_squared_error(y02, pxy2))\n",
    "print('RMSE指标:', math.sqrt(mean_squared_error(y02, pxy2)))\n",
    "print('r2指标:', r2_score(y02, pxy2))\n",
    "print('ev指标:', explained_variance_score(y02, pxy2))\n",
    "end = time.time()\n",
    "print('time:', end-start)\n",
    "tmp2 = np.squeeze(np.array(tmp2))[:10]\n",
    "tmp2"
   ]
  },
  {
   "cell_type": "code",
   "execution_count": 27,
   "id": "75e44368-d573-44d3-a994-6028368a479e",
   "metadata": {
    "pycharm": {
     "name": "#%%\n"
    }
   },
   "outputs": [
    {
     "data": {
      "text/plain": "     X    y     PX-EA     Py-EA        PX        Py\n0  2.0  2.0  2.148643  1.584851  2.107601  1.883478\n1  2.0  5.0  2.040742  4.988842  1.904251  5.296823\n2  3.0  8.0  2.963586  8.085009  2.821551  8.615716\n3  4.0  1.0  4.268954  0.979791  4.148364  1.174686\n4  4.0  6.0  3.971022  5.849369  3.978658  6.148330\n5  5.0  3.0  5.310089  3.135364  5.138005  3.331485\n6  6.0  9.0  6.069646  8.577453  6.064363  9.213559\n7  7.0  5.0  6.848046  5.525095  6.846558  6.005748\n8  8.0  2.0  7.802188  1.538184  7.983701  1.600987\n9  9.0  8.0  8.969224  8.019092  8.816206  8.860764",
      "text/html": "<div>\n<style scoped>\n    .dataframe tbody tr th:only-of-type {\n        vertical-align: middle;\n    }\n\n    .dataframe tbody tr th {\n        vertical-align: top;\n    }\n\n    .dataframe thead th {\n        text-align: right;\n    }\n</style>\n<table border=\"1\" class=\"dataframe\">\n  <thead>\n    <tr style=\"text-align: right;\">\n      <th></th>\n      <th>X</th>\n      <th>y</th>\n      <th>PX-EA</th>\n      <th>Py-EA</th>\n      <th>PX</th>\n      <th>Py</th>\n    </tr>\n  </thead>\n  <tbody>\n    <tr>\n      <th>0</th>\n      <td>2.0</td>\n      <td>2.0</td>\n      <td>2.148643</td>\n      <td>1.584851</td>\n      <td>2.107601</td>\n      <td>1.883478</td>\n    </tr>\n    <tr>\n      <th>1</th>\n      <td>2.0</td>\n      <td>5.0</td>\n      <td>2.040742</td>\n      <td>4.988842</td>\n      <td>1.904251</td>\n      <td>5.296823</td>\n    </tr>\n    <tr>\n      <th>2</th>\n      <td>3.0</td>\n      <td>8.0</td>\n      <td>2.963586</td>\n      <td>8.085009</td>\n      <td>2.821551</td>\n      <td>8.615716</td>\n    </tr>\n    <tr>\n      <th>3</th>\n      <td>4.0</td>\n      <td>1.0</td>\n      <td>4.268954</td>\n      <td>0.979791</td>\n      <td>4.148364</td>\n      <td>1.174686</td>\n    </tr>\n    <tr>\n      <th>4</th>\n      <td>4.0</td>\n      <td>6.0</td>\n      <td>3.971022</td>\n      <td>5.849369</td>\n      <td>3.978658</td>\n      <td>6.148330</td>\n    </tr>\n    <tr>\n      <th>5</th>\n      <td>5.0</td>\n      <td>3.0</td>\n      <td>5.310089</td>\n      <td>3.135364</td>\n      <td>5.138005</td>\n      <td>3.331485</td>\n    </tr>\n    <tr>\n      <th>6</th>\n      <td>6.0</td>\n      <td>9.0</td>\n      <td>6.069646</td>\n      <td>8.577453</td>\n      <td>6.064363</td>\n      <td>9.213559</td>\n    </tr>\n    <tr>\n      <th>7</th>\n      <td>7.0</td>\n      <td>5.0</td>\n      <td>6.848046</td>\n      <td>5.525095</td>\n      <td>6.846558</td>\n      <td>6.005748</td>\n    </tr>\n    <tr>\n      <th>8</th>\n      <td>8.0</td>\n      <td>2.0</td>\n      <td>7.802188</td>\n      <td>1.538184</td>\n      <td>7.983701</td>\n      <td>1.600987</td>\n    </tr>\n    <tr>\n      <th>9</th>\n      <td>9.0</td>\n      <td>8.0</td>\n      <td>8.969224</td>\n      <td>8.019092</td>\n      <td>8.816206</td>\n      <td>8.860764</td>\n    </tr>\n  </tbody>\n</table>\n</div>"
     },
     "execution_count": 27,
     "metadata": {},
     "output_type": "execute_result"
    }
   ],
   "source": [
    "# 预测坐标与实际坐标对比\n",
    "coor1 = pd.DataFrame(l)\n",
    "coor1.columns = ['X', 'y']\n",
    "\n",
    "coor2 = pd.DataFrame(tmp)\n",
    "coor2.columns = ['PX-EA', 'Py-EA']\n",
    "\n",
    "coor3 = pd.DataFrame(tmp2)\n",
    "coor3.columns = ['PX', 'Py']\n",
    "\n",
    "coor = pd.concat([coor1, coor2, coor3], axis=1)\n",
    "coor.to_csv('./doc/coordinate_all.csv')\n",
    "coor"
   ]
  },
  {
   "cell_type": "code",
   "execution_count": 28,
   "id": "401e5d3e-2e9e-431b-82f6-6dd39490b8c4",
   "metadata": {
    "pycharm": {
     "name": "#%%\n"
    }
   },
   "outputs": [
    {
     "data": {
      "text/plain": "<Figure size 720x720 with 1 Axes>",
      "image/png": "[encoded data removed]"
     },
     "metadata": {
      "needs_background": "light"
     },
     "output_type": "display_data"
    }
   ],
   "source": [
    "plt.figure(figsize=[10, 10])\n",
    "plt.xlim((0, 10))\n",
    "plt.ylim((0, 10))\n",
    "plt.ylabel('RFID reader')\n",
    "plt.title('Coordinate Comparison')\n",
    "# 画图-标准坐标\n",
    "plt.scatter(l[:, 0], l[:, 1], c='black', marker='^', label='real position of RFID tag')\n",
    "    \n",
    "# 画图-预测EA坐标\n",
    "plt.scatter(tmp[:, 0], tmp[:, 1], c='red', marker='x', label = 'predict position with EA')\n",
    "\n",
    "# 画图-预测无EA坐标\n",
    "plt.scatter(tmp2[:, 0], tmp2[:, 1], c='blue', marker='x', label = 'predict position without EA')\n",
    "\n",
    "plt.legend()\n",
    "plt.grid('True')\n",
    "plt.savefig('./doc/compare_coordinate_all.jpg')"
   ]
  },
  {
   "cell_type": "code",
   "execution_count": 28,
   "outputs": [],
   "source": [],
   "metadata": {
    "collapsed": false,
    "pycharm": {
     "name": "#%%\n"
    }
   }
  },
  {
   "cell_type": "code",
   "execution_count": null,
   "outputs": [],
   "source": [],
   "metadata": {
    "collapsed": false,
    "pycharm": {
     "name": "#%%\n"
    }
   }
  }
 ],
 "metadata": {
  "kernelspec": {
   "display_name": "tensorflow",
   "language": "python",
   "name": "tensorflow"
  },
  "language_info": {
   "codemirror_mode": {
    "name": "ipython",
    "version": 3
   },
   "file_extension": ".py",
   "mimetype": "text/x-python",
   "name": "python",
   "nbconvert_exporter": "python",
   "pygments_lexer": "ipython3",
   "version": "3.7.12"
  }
 },
 "nbformat": 4,
 "nbformat_minor": 5
}