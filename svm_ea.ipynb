{
 "cells": [
  {
   "cell_type": "markdown",
   "id": "7c4556b4",
   "metadata": {
    "tags": []
   },
   "source": [
    "# 使用geatpy优化SVM-SVR定位模型参数"
   ]
  },
  {
   "cell_type": "code",
   "execution_count": 1,
   "id": "d9f6af40",
   "metadata": {},
   "outputs": [],
   "source": [
    "import joblib\n",
    "import math\n",
    "import numpy as np\n",
    "import pandas as pd\n",
    "import geatpy as ea\n",
    "from sklearn import svm\n",
    "from sklearn.model_selection import train_test_split\n",
    "from sklearn.model_selection import cross_val_score\n",
    "from multiprocessing.dummy import Pool as ThreadPool\n",
    "from sklearn.metrics import mean_absolute_error, explained_variance_score, r2_score, mean_squared_error"
   ]
  },
  {
   "cell_type": "markdown",
   "id": "57c5c44b",
   "metadata": {},
   "source": [
    "## 读取数据"
   ]
  },
  {
   "cell_type": "code",
   "execution_count": 2,
   "id": "539f656d",
   "metadata": {},
   "outputs": [],
   "source": [
    "# 加载训练数据\n",
    "def load_data(path):\n",
    "    df = pd.read_csv(path)\n",
    "    dv = df.values\n",
    "    X = dv[:, 1:-2]\n",
    "    Y = dv[:, -2:]\n",
    "    return X[:, :, np.newaxis], Y"
   ]
  },
  {
   "cell_type": "code",
   "execution_count": 3,
   "id": "077a45ac",
   "metadata": {},
   "outputs": [
    {
     "name": "stdout",
     "output_type": "stream",
     "text": [
      "(2000, 100, 1)\n"
     ]
    }
   ],
   "source": [
    "X, y = load_data('./dataset/location_data.csv')\n",
    "print(X.shape)\n",
    "X = np.reshape(X, (2000, 100))"
   ]
  },
  {
   "cell_type": "code",
   "execution_count": 4,
   "id": "6feb89da",
   "metadata": {},
   "outputs": [],
   "source": [
    "X_train, X_test, y_train, y_test = train_test_split(X, y, test_size=0.2, random_state=2021)  # 训练测试划分"
   ]
  },
  {
   "cell_type": "code",
   "execution_count": 5,
   "id": "3db679fd",
   "metadata": {},
   "outputs": [],
   "source": [
    "# 将y划分为坐标(x，y)使用两个模型分别做预测\n",
    "y_train_x = y_train[:, 0]\n",
    "y_train_y = y_train[:, 1]\n",
    "y_test_x = y_test[:, 0]\n",
    "y_test_y = y_test[:, 1]"
   ]
  },
  {
   "cell_type": "code",
   "execution_count": 6,
   "id": "ff7c47b8",
   "metadata": {},
   "outputs": [
    {
     "name": "stdout",
     "output_type": "stream",
     "text": [
      "CPU times: user 263 ms, sys: 5.69 ms, total: 268 ms\n",
      "Wall time: 273 ms\n"
     ]
    }
   ],
   "source": [
    "%%time\n",
    "svr = svm.SVR(kernel ='rbf').fit(X_train, y_train_x)  # 测试单次训练时间"
   ]
  },
  {
   "cell_type": "markdown",
   "id": "bf2ff4fa",
   "metadata": {
    "tags": []
   },
   "source": [
    "## 使用进化算法调参"
   ]
  },
  {
   "cell_type": "markdown",
   "id": "6a996db1",
   "metadata": {},
   "source": [
    "### model1-回归x坐标"
   ]
  },
  {
   "cell_type": "markdown",
   "id": "4607a455",
   "metadata": {},
   "source": [
    " #### 自定义问题类"
   ]
  },
  {
   "cell_type": "code",
   "execution_count": 11,
   "id": "1d21276f",
   "metadata": {},
   "outputs": [],
   "source": [
    "class RFIDSVMX(ea.Problem):\n",
    "    def __init__(self, X_train, X_test, y_train_x, y_test_x):\n",
    "        name = 'RFIDSVMX'\n",
    "        M = 1 # 初始化M（目标维数）\n",
    "        maxormins = [-1] # 初始化maxormins（目标最小最大化标记列表，1：最小化该目标；-1：最大化该目标）\n",
    "        Dim = 2 # 初始化Dim（决策变量维数）\n",
    "        varTypes = [0, 0] # 初始化varTypes 0-连续\n",
    "        lb = [1, 1e-10] # 决策变量下界\n",
    "        ub = [500, 1] # 决策变量上界\n",
    "        lbin = [1] * Dim # 决策变量下边界（0表示不包含该变量的下边界，1表示包含）\n",
    "        ubin = [1] * Dim # 决策变量上边界（0表示不包含该变量的上边界，1表示包含）\n",
    "        # 调用父类构造方法完成实例化\n",
    "        ea.Problem.__init__(self, name, M, maxormins, Dim, varTypes, lb, ub, lbin, ubin)\n",
    "        # 数据设置\n",
    "        self.X_train = X_train\n",
    "        self.X_test = X_test\n",
    "        self.y_train_x = y_train_x\n",
    "        self.y_test_x = y_test_x\n",
    "        \n",
    "        \n",
    "    # 目标函数，采用多线程加速计算\n",
    "    def aimFunc(self, pop):\n",
    "        Vars = pop.Phen # 得到决策变量矩阵\n",
    "        # print(Vars)\n",
    "        pop.ObjV = np.zeros((pop.sizes, 1)) # 初始化种群个体目标函数值列向量\n",
    "        def subAimFunc(i):\n",
    "            C = Vars[i, 0]\n",
    "            G = Vars[i, 1]\n",
    "            svr = svm.SVR(kernel ='rbf', C=C, gamma=G).fit(self.X_train, self.y_train_x) # 创建分类器对象并用训练集的数据拟合分类器模型\n",
    "            scores = cross_val_score(svr, self.X_train, self.y_train_x, cv=5, scoring='neg_mean_absolute_error') # 这里可否改为MAE或者MSE做目标函数？\n",
    "            pop.ObjV[i] = scores.mean() # 把交叉验证的平均得分作为目标函数值\n",
    "        pool = ThreadPool(processes=2) # 设置池的大小\n",
    "        pool.map(subAimFunc, list(range(pop.sizes)))\n",
    "        \n",
    "        \n",
    "    # 代入优化后的C、Gamma对测试集进行检验，计算指标\n",
    "    def test(self, C, G):\n",
    "        svr = svm.SVR(kernel ='rbf', C=C, gamma=G).fit(self.X_train, self.y_train_x)\n",
    "        joblib.dump(svr, './models/SVR_x_2021.model')\n",
    "        y_predict_x = svr.predict(self.X_test) # 采用训练好的分类器对象对测试集数据进行预测\n",
    "        print(y_predict_x[:10])\n",
    "        print(self.y_test_x[:10])\n",
    "        MAE = mean_absolute_error(y_test_x, y_predict_x)\n",
    "        MSE = mean_squared_error(y_test_x, y_predict_x)\n",
    "        r2 = r2_score(y_test_x, y_predict_x)\n",
    "        ev = explained_variance_score(y_test_x, y_predict_x)\n",
    "        print('MAE指标:', MAE)\n",
    "        print('MSE指标:', MSE)\n",
    "        print('RMSE指标:', math.sqrt(MSE))\n",
    "        print('r2指标:', r2)\n",
    "        print('ev指标:', ev)\n",
    "        return y_predict_x\n",
    "        "
   ]
  },
  {
   "cell_type": "markdown",
   "id": "36725525",
   "metadata": {},
   "source": [
    "#### 编写执行代码"
   ]
  },
  {
   "cell_type": "code",
   "execution_count": 12,
   "id": "0faf97f6",
   "metadata": {},
   "outputs": [
    {
     "name": "stdout",
     "output_type": "stream",
     "text": [
      "==================================================================================\n",
      "gen|  eval  |    f_opt    |    f_max    |    f_avg    |    f_min    |    f_std    \n",
      "----------------------------------------------------------------------------------\n",
      " 0 |   20   | -2.43883E+00| -2.43883E+00| -2.43883E+00| -2.43883E+00| 2.35348E-09 \n",
      " 1 |   40   | -2.43819E+00| -2.43819E+00| -2.43880E+00| -2.43883E+00| 1.39530E-04 \n",
      " 2 |   60   | -2.43819E+00| -2.43819E+00| -2.43880E+00| -2.43883E+00| 1.39530E-04 \n",
      " 3 |   80   | -2.39871E+00| -2.39871E+00| -2.43678E+00| -2.43883E+00| 8.73628E-03 \n",
      " 4 |  100   | -2.30696E+00| -2.30696E+00| -2.41428E+00| -2.43883E+00| 4.22318E-02 \n",
      " 5 |  120   | -2.30696E+00| -2.30696E+00| -2.40377E+00| -2.43883E+00| 4.44742E-02 \n",
      " 6 |  140   | -2.07370E+00| -2.07370E+00| -2.37060E+00| -2.43883E+00| 8.18410E-02 \n",
      " 7 |  160   | -2.07370E+00| -2.07370E+00| -2.35036E+00| -2.43883E+00| 1.01416E-01 \n",
      " 8 |  180   | -9.41679E-01| -9.41679E-01| -2.24743E+00| -2.43807E+00| 3.23897E-01 \n",
      " 9 |  200   | -8.40906E-01| -8.40906E-01| -2.08682E+00| -2.41926E+00| 4.42348E-01 \n",
      " 10|  220   | -2.76401E-01| -2.76401E-01| -1.67456E+00| -2.41926E+00| 7.01495E-01 \n",
      " 11|  240   | -2.23967E-01| -2.23967E-01| -1.24740E+00| -2.31265E+00| 7.21820E-01 \n",
      " 12|  260   | -2.23967E-01| -2.23967E-01| -8.20341E-01| -2.30696E+00| 5.49388E-01 \n",
      " 13|  280   | -2.23250E-01| -2.23250E-01| -6.37021E-01| -2.30696E+00| 4.79119E-01 \n",
      " 14|  300   | -2.23250E-01| -2.23250E-01| -4.88576E-01| -1.05010E+00| 2.71131E-01 \n",
      " 15|  320   | -2.22963E-01| -2.22963E-01| -3.99655E-01| -1.05010E+00| 2.37183E-01 \n",
      " 16|  340   | -2.22963E-01| -2.22963E-01| -2.92764E-01| -5.20306E-01| 9.69510E-02 \n",
      " 17|  360   | -2.15775E-01| -2.15775E-01| -2.68505E-01| -4.67093E-01| 7.75937E-02 \n",
      " 18|  380   | -2.15775E-01| -2.15775E-01| -2.34432E-01| -2.87844E-01| 1.97249E-02 \n",
      " 19|  400   | -2.15775E-01| -2.15775E-01| -2.30162E-01| -2.76401E-01| 1.56686E-02 \n",
      " 20|  420   | -2.15775E-01| -2.15775E-01| -2.25918E-01| -2.76401E-01| 1.18449E-02 \n",
      " 21|  440   | -2.15775E-01| -2.15775E-01| -2.22803E-01| -2.27071E-01| 2.52324E-03 \n"
     ]
    },
    {
     "data": {
      "image/png": "[encoded data removed]",
      "text/plain": [
       "<Figure size 432x288 with 1 Axes>"
      ]
     },
     "metadata": {
      "needs_background": "light"
     },
     "output_type": "display_data"
    },
    {
     "name": "stdout",
     "output_type": "stream",
     "text": [
      "种群信息导出完毕。\n",
      "用时：408.032144 秒\n",
      "评价次数：440 次\n",
      "最优的目标函数值为：-0.21577469082261577\n",
      "最优的控制变量值为：\n",
      "1.0\n",
      "0.00023208847771970042\n",
      "[3.96387446 1.52055414 5.09058174 9.36767898 7.33982735 8.88050011\n",
      " 9.31559196 3.88349962 9.02492212 2.31965825]\n",
      "[3.76 1.57 5.43 9.67 7.09 8.59 9.14 3.66 8.93 2.38]\n",
      "MAE指标: 0.2040970498309335\n",
      "MSE指标: 0.06729412813233865\n",
      "RMSE指标: 0.2594111179813592\n",
      "r2指标: 0.9913511044436396\n",
      "ev指标: 0.9913546537778252\n"
     ]
    }
   ],
   "source": [
    "\"\"\"===============================实例化问题对象===========================\"\"\"\n",
    "\n",
    "problem = RFIDSVMX(X_train, X_test, y_train_x, y_test_x) # 生成问题对象\n",
    "\n",
    "\"\"\"=================================种群设置===============================\"\"\"\n",
    "\n",
    "Encoding = 'RI'       # 编码方式\n",
    "NIND = 20             # 种群规模\n",
    "Field = ea.crtfld(Encoding, problem.varTypes, problem.ranges, problem.borders) # 创建区域描述器\n",
    "population = ea.Population(Encoding, Field, NIND) # 实例化种群对象（此时种群还没被初始化，仅仅是完成种群对象的实例化）\n",
    "\n",
    "\"\"\"===============================算法参数设置=============================\"\"\"\n",
    "\n",
    "myAlgorithm = ea.soea_DE_rand_1_bin_templet(problem, population) # 实例化一个算法模板对象\n",
    "myAlgorithm.MAXGEN = 30 # 最大进化代数\n",
    "myAlgorithm.trappedValue = 1e-6 # “进化停滞”判断阈值\n",
    "myAlgorithm.maxTrappedCount = 10 # 进化停滞计数器最大上限值，如果连续maxTrappedCount代被判定进化陷入停滞，则终止进化\n",
    "myAlgorithm.logTras = 1  # 设置每隔多少代记录日志，若设置成0则表示不记录日志\n",
    "myAlgorithm.verbose = True  # 设置是否打印输出日志信息\n",
    "myAlgorithm.drawing = 1  # 设置绘图方式（0：不绘图；1：绘制结果图；2：绘制目标空间过程动画；3：绘制决策空间过程动画）\n",
    "\n",
    "\"\"\"===========================调用算法模板进行种群进化=======================\"\"\"\n",
    "\n",
    "[BestIndi, population] = myAlgorithm.run()  # 执行算法模板，得到最优个体以及最后一代种群\n",
    "BestIndi.save()  # 把最优个体的信息保存到文件中\n",
    "\n",
    "\"\"\"==================================输出结果=============================\"\"\"\n",
    "\n",
    "print('用时：%f 秒' % myAlgorithm.passTime)\n",
    "print('评价次数：%d 次' % myAlgorithm.evalsNum)\n",
    "if BestIndi.sizes != 0:\n",
    "    print('最优的目标函数值为：%s' % BestIndi.ObjV[0][0])\n",
    "    print('最优的控制变量值为：')\n",
    "    for i in range(BestIndi.Phen.shape[1]):\n",
    "        print(BestIndi.Phen[0, i])\n",
    "else:\n",
    "    print('没找到可行解。')\n",
    "    \n",
    "\"\"\"=================================检验结果===============================\"\"\"\n",
    "\n",
    "y_predict_x = problem.test(C = BestIndi.Phen[0][0], G = BestIndi.Phen[0][1])\n"
   ]
  },
  {
   "cell_type": "markdown",
   "id": "0c50cfa7",
   "metadata": {},
   "source": [
    "### model2-回归y坐标"
   ]
  },
  {
   "cell_type": "markdown",
   "id": "e9479ee0",
   "metadata": {},
   "source": [
    " #### 自定义问题类"
   ]
  },
  {
   "cell_type": "code",
   "execution_count": 9,
   "id": "6d492b2e",
   "metadata": {},
   "outputs": [],
   "source": [
    "class RFIDSVMY(ea.Problem):\n",
    "    def __init__(self, X_train, X_test, y_train_y, y_test_y):\n",
    "        name = 'RFIDSVMY'\n",
    "        M = 1 # 初始化M（目标维数）\n",
    "        maxormins = [-1] # 初始化maxormins（目标最小最大化标记列表，1：最小化该目标；-1：最大化该目标）\n",
    "        Dim = 2 # 初始化Dim（决策变量维数）\n",
    "        varTypes = [0, 0] # 初始化varTypes 0-连续\n",
    "        lb = [1, 1e-10] # 决策变量下界\n",
    "        ub = [500, 1] # 决策变量上界\n",
    "        lbin = [1] * Dim # 决策变量下边界（0表示不包含该变量的下边界，1表示包含）\n",
    "        ubin = [1] * Dim # 决策变量上边界（0表示不包含该变量的上边界，1表示包含）\n",
    "        # 调用父类构造方法完成实例化\n",
    "        ea.Problem.__init__(self, name, M, maxormins, Dim, varTypes, lb, ub, lbin, ubin)\n",
    "        # 数据设置\n",
    "        self.X_train = X_train\n",
    "        self.X_test = X_test\n",
    "        self.y_train_y = y_train_y\n",
    "        self.y_test_y = y_test_y\n",
    "        \n",
    "        \n",
    "    # 目标函数，采用多线程加速计算\n",
    "    def aimFunc(self, pop):\n",
    "        Vars = pop.Phen # 得到决策变量矩阵\n",
    "        pop.ObjV = np.zeros((pop.sizes, 1)) # 初始化种群个体目标函数值列向量\n",
    "        def subAimFunc(i):\n",
    "            C = Vars[i, 0]\n",
    "            G = Vars[i, 1]\n",
    "            svr = svm.SVR(kernel ='rbf', C=C, gamma=G).fit(self.X_train, self.y_train_y) # 创建分类器对象并用训练集的数据拟合分类器模型\n",
    "            scores = cross_val_score(svr, self.X_train, self.y_train_y, cv=5, scoring='neg_mean_absolute_error')\n",
    "            pop.ObjV[i] = scores.mean() # 把交叉验证的平均得分作为目标函数值\n",
    "        pool = ThreadPool(processes=2) # 设置池的大小\n",
    "        pool.map(subAimFunc, list(range(pop.sizes))) # 散列种群每个个体进行加速计算\n",
    "        \n",
    "        \n",
    "    # 代入优化后的C、Gamma对测试集进行检验，计算指标\n",
    "    def test(self, C, G):\n",
    "        svr = svm.SVR(kernel ='rbf', C=C, gamma=G).fit(self.X_train, self.y_train_y)\n",
    "        joblib.dump(svr, './models/SVR_y_2021.model')\n",
    "        y_predict_y = svr.predict(self.X_test) # 采用训练好的分类器对象对测试集数据进行预测\n",
    "        print(y_predict_y[:10])\n",
    "        print(self.y_test_y[:10])\n",
    "        MAE = mean_absolute_error(y_test_y, y_predict_y)\n",
    "        MSE = mean_squared_error(y_test_y, y_predict_y)\n",
    "        r2 = r2_score(y_test_y, y_predict_y)\n",
    "        ev = explained_variance_score(y_test_y, y_predict_y)\n",
    "        print('MAE指标:', MAE)\n",
    "        print('MSE指标:', MSE)\n",
    "        print('RMSE指标:', math.sqrt(MSE))\n",
    "        print('r2指标:', r2)\n",
    "        print('ev指标:', ev)\n",
    "        return y_predict_y\n",
    "        "
   ]
  },
  {
   "cell_type": "markdown",
   "id": "a30be061",
   "metadata": {},
   "source": [
    " #### 编写执行代码"
   ]
  },
  {
   "cell_type": "code",
   "execution_count": 10,
   "id": "3c0da2d7",
   "metadata": {},
   "outputs": [
    {
     "name": "stdout",
     "output_type": "stream",
     "text": [
      "==================================================================================\n",
      "gen|  eval  |    f_opt    |    f_max    |    f_avg    |    f_min    |    f_std    \n",
      "----------------------------------------------------------------------------------\n",
      " 0 |   20   | -2.39212E+00| -2.39212E+00| -2.39212E+00| -2.39212E+00| 4.44089E-16 \n",
      " 1 |   40   | -2.39212E+00| -2.39212E+00| -2.39212E+00| -2.39212E+00| 4.44089E-16 \n",
      " 2 |   60   | -2.39212E+00| -2.39212E+00| -2.39212E+00| -2.39212E+00| 4.44089E-16 \n",
      " 3 |   80   | -2.37220E+00| -2.37220E+00| -2.39113E+00| -2.39212E+00| 4.34323E-03 \n",
      " 4 |  100   | -2.36272E+00| -2.36272E+00| -2.38966E+00| -2.39212E+00| 7.54957E-03 \n",
      " 5 |  120   | -2.35881E+00| -2.35881E+00| -2.38824E+00| -2.39212E+00| 9.49260E-03 \n",
      " 6 |  140   | -2.35858E+00| -2.35858E+00| -2.38583E+00| -2.39212E+00| 1.06639E-02 \n",
      " 7 |  160   | -2.35394E+00| -2.35394E+00| -2.38312E+00| -2.39212E+00| 1.27133E-02 \n",
      " 8 |  180   | -2.35394E+00| -2.35394E+00| -2.38113E+00| -2.39212E+00| 1.23586E-02 \n",
      " 9 |  200   | -2.35271E+00| -2.35271E+00| -2.37704E+00| -2.39212E+00| 1.38679E-02 \n",
      " 10|  220   | -5.67292E-01| -5.67292E-01| -2.27749E+00| -2.39212E+00| 3.92527E-01 \n",
      " 11|  240   | -4.81139E-01| -4.81139E-01| -2.08725E+00| -2.37890E+00| 6.50822E-01 \n",
      " 12|  260   | -4.81139E-01| -4.81139E-01| -1.80348E+00| -2.37890E+00| 8.47010E-01 \n",
      " 13|  280   | -4.81139E-01| -4.81139E-01| -1.43454E+00| -2.35394E+00| 9.19065E-01 \n",
      " 14|  300   | -4.81139E-01| -4.81139E-01| -1.05820E+00| -2.35271E+00| 8.48263E-01 \n",
      " 15|  320   | -4.47685E-01| -4.47685E-01| -6.77058E-01| -2.35271E+00| 5.59020E-01 \n",
      " 16|  340   | -4.47685E-01| -4.47685E-01| -4.84090E-01| -5.12781E-01| 1.45192E-02 \n",
      " 17|  360   | -4.42771E-01| -4.42771E-01| -4.78342E-01| -5.12781E-01| 1.45576E-02 \n",
      " 18|  380   | -4.42771E-01| -4.42771E-01| -4.73810E-01| -4.93900E-01| 1.25797E-02 \n",
      " 19|  400   | -4.38947E-01| -4.38947E-01| -4.67021E-01| -4.82998E-01| 1.51053E-02 \n",
      " 20|  420   | -4.38947E-01| -4.38947E-01| -4.64425E-01| -4.82998E-01| 1.52340E-02 \n",
      " 21|  440   | -4.38947E-01| -4.38947E-01| -4.57273E-01| -4.77764E-01| 1.44929E-02 \n"
     ]
    },
    {
     "data": {
      "image/png": "[encoded data removed]",
      "text/plain": [
       "<Figure size 432x288 with 1 Axes>"
      ]
     },
     "metadata": {
      "needs_background": "light"
     },
     "output_type": "display_data"
    },
    {
     "name": "stdout",
     "output_type": "stream",
     "text": [
      "种群信息导出完毕。\n",
      "用时：431.285258 秒\n",
      "评价次数：440 次\n",
      "最优的目标函数值为：-0.43894652110848903\n",
      "最优的控制变量值为：\n",
      "2.2565300801543344\n",
      "0.00035859857772423706\n",
      "[3.44676388 4.78428487 7.01894283 7.85498384 8.26634749 7.91657261\n",
      " 4.37878486 8.47368304 2.53420984 1.93612744]\n",
      "[3.77 4.63 6.77 7.94 8.28 8.24 2.22 7.91 1.86 2.02]\n",
      "MAE指标: 0.4330135047331426\n",
      "MSE指标: 0.33653655908607116\n",
      "RMSE指标: 0.5801177114052554\n",
      "r2指标: 0.952655923877918\n",
      "ev指标: 0.9530808789321835\n"
     ]
    }
   ],
   "source": [
    "\"\"\"===============================实例化问题对象===========================\"\"\"\n",
    "\n",
    "problem = RFIDSVMY(X_train, X_test, y_train_y, y_test_y) # 生成问题对象\n",
    "\n",
    "\"\"\"=================================种群设置===============================\"\"\"\n",
    "\n",
    "Encoding = 'RI'       # 编码方式\n",
    "NIND = 20             # 种群规模\n",
    "Field = ea.crtfld(Encoding, problem.varTypes, problem.ranges, problem.borders) # 创建区域描述器\n",
    "population = ea.Population(Encoding, Field, NIND) # 实例化种群对象（此时种群还没被初始化，仅仅是完成种群对象的实例化）\n",
    "\n",
    "\"\"\"===============================算法参数设置=============================\"\"\"\n",
    "\n",
    "myAlgorithm = ea.soea_DE_rand_1_bin_templet(problem, population) # 实例化一个算法模板对象\n",
    "myAlgorithm.MAXGEN = 30 # 最大进化代数\n",
    "myAlgorithm.trappedValue = 1e-6 # “进化停滞”判断阈值\n",
    "myAlgorithm.maxTrappedCount = 10 # 进化停滞计数器最大上限值，如果连续maxTrappedCount代被判定进化陷入停滞，则终止进化\n",
    "myAlgorithm.logTras = 1  # 设置每隔多少代记录日志，若设置成0则表示不记录日志\n",
    "myAlgorithm.verbose = True  # 设置是否打印输出日志信息\n",
    "myAlgorithm.drawing = 1  # 设置绘图方式（0：不绘图；1：绘制结果图；2：绘制目标空间过程动画；3：绘制决策空间过程动画）\n",
    "\n",
    "\"\"\"===========================调用算法模板进行种群进化=======================\"\"\"\n",
    "\n",
    "[BestIndi, population] = myAlgorithm.run()  # 执行算法模板，得到最优个体以及最后一代种群\n",
    "BestIndi.save()  # 把最优个体的信息保存到文件中\n",
    "\n",
    "\"\"\"==================================输出结果=============================\"\"\"\n",
    "\n",
    "print('用时：%f 秒' % myAlgorithm.passTime)\n",
    "print('评价次数：%d 次' % myAlgorithm.evalsNum)\n",
    "if BestIndi.sizes != 0:\n",
    "    print('最优的目标函数值为：%s' % BestIndi.ObjV[0][0])\n",
    "    print('最优的控制变量值为：')\n",
    "    for i in range(BestIndi.Phen.shape[1]):\n",
    "        print(BestIndi.Phen[0, i])\n",
    "else:\n",
    "    print('没找到可行解。')\n",
    "    \n",
    "\"\"\"=================================检验结果===============================\"\"\"\n",
    "\n",
    "y_predict_y = problem.test(C = BestIndi.Phen[0][0], G = BestIndi.Phen[0][1])\n"
   ]
  },
  {
   "cell_type": "markdown",
   "id": "c989cd48",
   "metadata": {},
   "source": [
    "### 计算整体指标"
   ]
  },
  {
   "cell_type": "code",
   "execution_count": 13,
   "id": "6aee20df",
   "metadata": {},
   "outputs": [
    {
     "name": "stdout",
     "output_type": "stream",
     "text": [
      "[[3.963874462668693, 3.4467638827304765], [1.520554143278307, 4.784284865111279], [5.090581743868404, 7.018942834985399], [9.367678979415187, 7.854983840373522], [7.339827348909546, 8.266347494205629], [8.8805001067507, 7.916572614757769], [9.31559196137628, 4.378784861629384], [3.8834996191495086, 8.473683039331146], [9.024922121776878, 2.534209835950706], [2.3196582483717814, 1.9361274395935397]]\n",
      "坐标(x,y)的MAE: 0.31855527728203803\n",
      "坐标(x,y)的MSE: 0.20191534360920493\n",
      "坐标(x,y)的RMSE: 0.44934991221675447\n",
      "坐标(x,y)的r2: 0.9720035141607788\n",
      "坐标(x,y)的ev: 0.9722177663550043\n"
     ]
    }
   ],
   "source": [
    "pxy = [[xi, yi] for xi, yi in zip(y_predict_x, y_predict_y)]\n",
    "print(pxy[:10])\n",
    "print('坐标(x,y)的MAE:', mean_absolute_error(y_test, pxy))\n",
    "print('坐标(x,y)的MSE:', mean_squared_error(y_test, pxy))\n",
    "print('坐标(x,y)的RMSE:', math.sqrt(mean_squared_error(y_test, pxy)))\n",
    "print('坐标(x,y)的r2:', r2_score(y_test, pxy))\n",
    "print('坐标(x,y)的ev:', explained_variance_score(y_test, pxy))"
   ]
  },
  {
   "cell_type": "code",
   "execution_count": null,
   "id": "5222fb02",
   "metadata": {},
   "outputs": [],
   "source": []
  }
 ],
 "metadata": {
  "kernelspec": {
   "display_name": "pytorch",
   "language": "python",
   "name": "pytorch"
  },
  "language_info": {
   "codemirror_mode": {
    "name": "ipython",
    "version": 3
   },
   "file_extension": ".py",
   "mimetype": "text/x-python",
   "name": "python",
   "nbconvert_exporter": "python",
   "pygments_lexer": "ipython3",
   "version": "3.8.5"
  },
  "toc": {
   "base_numbering": 1,
   "nav_menu": {},
   "number_sections": true,
   "sideBar": true,
   "skip_h1_title": false,
   "title_cell": "Table of Contents",
   "title_sidebar": "Contents",
   "toc_cell": false,
   "toc_position": {},
   "toc_section_display": true,
   "toc_window_display": true
  }
 },
 "nbformat": 4,
 "nbformat_minor": 5
}
