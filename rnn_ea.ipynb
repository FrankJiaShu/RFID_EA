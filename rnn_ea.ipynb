{
 "cells": [
  {
   "cell_type": "markdown",
   "id": "913a44ea",
   "metadata": {
    "tags": []
   },
   "source": [
    "# 使用geatpy优化RNN定位模型参数"
   ]
  },
  {
   "cell_type": "code",
   "execution_count": 1,
   "id": "efdadaab",
   "metadata": {},
   "outputs": [],
   "source": [
    "import math\n",
    "import numpy as np\n",
    "import pandas as pd\n",
    "import geatpy as ea\n",
    "from tensorflow.keras.models import Sequential\n",
    "from tensorflow.keras.layers import Dense, Activation, SimpleRNN, LSTM\n",
    "from multiprocessing.dummy import Pool as ThreadPool\n",
    "from sklearn.model_selection import train_test_split\n",
    "from sklearn.metrics import mean_absolute_error, explained_variance_score, r2_score, mean_squared_error"
   ]
  },
  {
   "cell_type": "markdown",
   "id": "d8339f6b",
   "metadata": {},
   "source": [
    "## 读取数据"
   ]
  },
  {
   "cell_type": "code",
   "execution_count": 2,
   "id": "1615c26b",
   "metadata": {},
   "outputs": [],
   "source": [
    "# 加载训练数据\n",
    "def load_data(path):\n",
    "    df = pd.read_csv(path)\n",
    "    dv = df.values\n",
    "    X = dv[:, 1:-2]\n",
    "    Y = dv[:, -2:]\n",
    "    return X[:, :, np.newaxis], Y"
   ]
  },
  {
   "cell_type": "code",
   "execution_count": 3,
   "id": "d6175a4d",
   "metadata": {},
   "outputs": [
    {
     "name": "stdout",
     "output_type": "stream",
     "text": [
      "(2000, 100, 1)\n"
     ]
    }
   ],
   "source": [
    "X, y = load_data('./dataset/location_data.csv')\n",
    "print(X.shape)"
   ]
  },
  {
   "cell_type": "code",
   "execution_count": 4,
   "id": "3fac3895",
   "metadata": {},
   "outputs": [],
   "source": [
    "X_train, X_test, y_train, y_test = train_test_split(X, y, test_size=0.2, random_state=2021)  # 训练测试划分"
   ]
  },
  {
   "cell_type": "markdown",
   "id": "b6db49d0",
   "metadata": {},
   "source": [
    "## 定义RNN模型"
   ]
  },
  {
   "cell_type": "code",
   "execution_count": 5,
   "id": "037812e0",
   "metadata": {},
   "outputs": [],
   "source": [
    "def RFID_RNN():\n",
    "    model = Sequential()\n",
    "    model.add(SimpleRNN(units=100,\n",
    "                        # kernel_initializer=initializers.RandomNormal(stddev=0.001),\n",
    "                        # recurrent_initializer=initializers.Identity(gain=1.0),\n",
    "                        batch_input_shape=(None, 100, 1)))\n",
    "    model.add(Dense(2))\n",
    "    model.compile(optimizer='adam',\n",
    "                  loss='mse',\n",
    "                  metrics=['mae'])\n",
    "\n",
    "    # model.summary()\n",
    "    return model"
   ]
  },
  {
   "cell_type": "markdown",
   "id": "e3975649",
   "metadata": {},
   "source": [
    "## 训练模型查看测试效果"
   ]
  },
  {
   "cell_type": "code",
   "execution_count": 6,
   "id": "94447842",
   "metadata": {
    "scrolled": true,
    "tags": []
   },
   "outputs": [
    {
     "name": "stderr",
     "output_type": "stream",
     "text": [
      "2021-12-21 15:15:18.798536: I tensorflow/core/platform/cpu_feature_guard.cc:142] This TensorFlow binary is optimized with oneAPI Deep Neural Network Library (oneDNN) to use the following CPU instructions in performance-critical operations:  SSE4.1 SSE4.2 AVX AVX2 FMA\n",
      "To enable them in other operations, rebuild TensorFlow with the appropriate compiler flags.\n",
      "2021-12-21 15:15:19.040347: I tensorflow/compiler/mlir/mlir_graph_optimization_pass.cc:116] None of the MLIR optimization passes are enabled (registered 2)\n"
     ]
    },
    {
     "name": "stdout",
     "output_type": "stream",
     "text": [
      "Epoch 1/10\n",
      "16/16 [==============================] - 1s 35ms/step - loss: 19.4828 - mae: 3.6433\n",
      "Epoch 2/10\n",
      "16/16 [==============================] - 1s 33ms/step - loss: 7.3933 - mae: 2.3381\n",
      "Epoch 3/10\n",
      "16/16 [==============================] - 1s 32ms/step - loss: 6.0925 - mae: 2.0834\n",
      "Epoch 4/10\n",
      "16/16 [==============================] - 1s 32ms/step - loss: 5.2798 - mae: 1.9079\n",
      "Epoch 5/10\n",
      "16/16 [==============================] - 1s 32ms/step - loss: 4.6102 - mae: 1.7727\n",
      "Epoch 6/10\n",
      "16/16 [==============================] - 1s 32ms/step - loss: 4.6060 - mae: 1.7721\n",
      "Epoch 7/10\n",
      "16/16 [==============================] - 1s 32ms/step - loss: 4.4246 - mae: 1.7293\n",
      "Epoch 8/10\n",
      "16/16 [==============================] - 1s 32ms/step - loss: 4.2319 - mae: 1.6822\n",
      "Epoch 9/10\n",
      "16/16 [==============================] - 1s 34ms/step - loss: 4.2957 - mae: 1.6833\n",
      "Epoch 10/10\n",
      "16/16 [==============================] - 1s 33ms/step - loss: 4.1654 - mae: 1.6616\n",
      "40/40 [==============================] - 0s 5ms/step - loss: 4.3358 - mae: 1.7232\n",
      "损失与精度： [4.335757732391357, 1.723159909248352]\n",
      "[[4.7814503 5.192683 ]\n",
      " [2.988846  6.9433823]\n",
      " [3.7886944 6.345056 ]\n",
      " [7.534561  3.503812 ]\n",
      " [4.4314084 5.767372 ]\n",
      " [6.428322  4.163356 ]\n",
      " [7.855809  3.1784346]\n",
      " [3.154485  6.7939405]\n",
      " [7.874219  3.1351485]\n",
      " [4.7117434 5.3582516]]\n",
      "[[3.76 3.77]\n",
      " [1.57 4.63]\n",
      " [5.43 6.77]\n",
      " [9.67 7.94]\n",
      " [7.09 8.28]\n",
      " [8.59 8.24]\n",
      " [9.14 2.22]\n",
      " [3.66 7.91]\n",
      " [8.93 1.86]\n",
      " [2.38 2.02]]\n",
      "MAE指标: 1.7231602009743456\n",
      "MSE指标: 4.335757808308867\n",
      "RMSE指标: 2.0822482580876054\n",
      "r2指标: 0.41324465066506944\n",
      "ev指标: 0.42018764615598747\n",
      "CPU times: user 12.8 s, sys: 2.42 s, total: 15.3 s\n",
      "Wall time: 7.1 s\n"
     ]
    }
   ],
   "source": [
    "%%time\n",
    "model = RFID_RNN()\n",
    "model.fit(X_train, y_train, epochs=10, batch_size=100)\n",
    "loss = model.evaluate(X_test, y_test, batch_size=10) # 输出损失和MAE\n",
    "print('损失与精度：', loss)\n",
    "model.save('./models/LSTM_2021.h5')\n",
    "\n",
    "pxy = model.predict(X_test)\n",
    "print(pxy[:10])\n",
    "print(y_test[:10])\n",
    "MAE = mean_absolute_error(y_test, pxy)\n",
    "MSE = mean_squared_error(y_test, pxy)\n",
    "r2 = r2_score(y_test, pxy)\n",
    "ev = explained_variance_score(y_test, pxy)\n",
    "print('MAE指标:', MAE)\n",
    "print('MSE指标:', MSE)\n",
    "print('RMSE指标:', math.sqrt(MSE))\n",
    "print('r2指标:', r2)\n",
    "print('ev指标:', ev)\n"
   ]
  },
  {
   "cell_type": "markdown",
   "id": "b4436de6",
   "metadata": {
    "tags": []
   },
   "source": [
    "## 使用进化算法调参"
   ]
  },
  {
   "cell_type": "markdown",
   "id": "a770f73f",
   "metadata": {},
   "source": [
    " ### 自定义问题类"
   ]
  },
  {
   "cell_type": "code",
   "execution_count": 7,
   "id": "21b2e6cd",
   "metadata": {},
   "outputs": [],
   "source": [
    "class RFIDRNN(ea.Problem):\n",
    "    def __init__(self, X_train, X_test, y_train, y_test):\n",
    "        name = 'RFIDRNN'\n",
    "        M = 1 # 初始化M（目标维数）\n",
    "        maxormins = [-1] # 初始化maxormins（目标最小最大化标记列表，1：最小化该目标；-1：最大化该目标）\n",
    "        Dim = 2 # 初始化Dim（决策变量维数）\n",
    "        varTypes = np.array([0] * Dim) # 初始化varTypes 0-连续\n",
    "        lb = [10, 50] # 决策变量下界\n",
    "        ub = [500, 800] # 决策变量上界\n",
    "        lbin = [1] * Dim # 决策变量下边界（0表示不包含该变量的下边界，1表示包含）\n",
    "        ubin = [1] * Dim # 决策变量上边界（0表示不包含该变量的上边界，1表示包含）\n",
    "        # 调用父类构造方法完成实例化\n",
    "        ea.Problem.__init__(self, name, M, maxormins, Dim, varTypes, lb, ub, lbin, ubin)\n",
    "        # 数据设置\n",
    "        self.X_train = X_train\n",
    "        self.X_test = X_test\n",
    "        self.y_train = y_train\n",
    "        self.y_test = y_test\n",
    "        \n",
    "        \n",
    "    # 目标函数，采用多线程加速计算\n",
    "    def aimFunc(self, pop):\n",
    "        Vars = pop.Phen # 得到决策变量矩阵\n",
    "        # print(Vars)\n",
    "        pop.ObjV = np.zeros((pop.sizes, 1)) # 初始化种群个体目标函数值列向量\n",
    "        def subAimFunc(i):\n",
    "            epochs = int(Vars[i, 0])\n",
    "            batch_size = int(Vars[i, 1])\n",
    "            model = RFID_RNN()\n",
    "            model.fit(self.X_train, self.y_train, epochs=epochs, batch_size=batch_size, verbose=0)\n",
    "            pxy = model.predict(self.X_test)\n",
    "            pop.ObjV[i] = r2_score(self.y_test, pxy) # 最小化r2作为目标函数\n",
    "        pool = ThreadPool(processes=2) # 设置池的大小\n",
    "        pool.map(subAimFunc, list(range(pop.sizes))) # 散列种群每个个体进行加速计算\n",
    "        \n",
    "        \n",
    "    # 代入优化后的参数对测试集进行检验，计算指标\n",
    "    def test(self, epochs, batch_size):\n",
    "        X02, y02 = load_data('./dataset/location_data02.csv')\n",
    "        model = RFID_RNN()\n",
    "        model.fit(self.X_train, self.y_train, epochs=epochs, batch_size=batch_size, verbose=0)\n",
    "        model.save('./models/RNN_2021.h5')\n",
    "        pxy = model.predict(X02)\n",
    "        MAE = mean_absolute_error(y02, pxy)\n",
    "        MSE = mean_squared_error(y02, pxy)\n",
    "        r2 = r2_score(y02, pxy)\n",
    "        ev = explained_variance_score(y02, pxy)\n",
    "        print('MAE指标:', MAE)\n",
    "        print('MSE指标:', MSE)\n",
    "        print('RMSE指标', math.sqrt(MSE))\n",
    "        print('r2指标:', r2)\n",
    "        print('ev指标:', ev)\n",
    "        "
   ]
  },
  {
   "cell_type": "markdown",
   "id": "4bdc2b77",
   "metadata": {},
   "source": [
    "### 编写执行代码"
   ]
  },
  {
   "cell_type": "code",
   "execution_count": null,
   "id": "453a6597",
   "metadata": {
    "tags": []
   },
   "outputs": [],
   "source": [
    "\"\"\"===============================实例化问题对象===========================\"\"\"\n",
    "\n",
    "problem = RFIDRNN(X_train, X_test, y_train, y_test) # 生成问题对象\n",
    "\n",
    "\"\"\"=================================种群设置===============================\"\"\"\n",
    "\n",
    "Encoding = 'RI'       # 编码方式\n",
    "NIND = 2             # 种群规模\n",
    "Field = ea.crtfld(Encoding, problem.varTypes, problem.ranges, problem.borders) # 创建区域描述器\n",
    "population = ea.Population(Encoding, Field, NIND) # 实例化种群对象（此时种群还没被初始化，仅仅是完成种群对象的实例化）\n",
    "\n",
    "\"\"\"===============================算法参数设置=============================\"\"\"\n",
    "\n",
    "myAlgorithm = ea.soea_DE_rand_1_bin_templet(problem, population) # 实例化一个算法模板对象\n",
    "myAlgorithm.MAXGEN = 10 # 最大进化代数\n",
    "myAlgorithm.trappedValue = 1e-6 # “进化停滞”判断阈值\n",
    "myAlgorithm.maxTrappedCount = 10 # 进化停滞计数器最大上限值，如果连续maxTrappedCount代被判定进化陷入停滞，则终止进化\n",
    "myAlgorithm.logTras = 1  # 设置每隔多少代记录日志，若设置成0则表示不记录日志\n",
    "myAlgorithm.verbose = True  # 设置是否打印输出日志信息\n",
    "myAlgorithm.drawing = 1  # 设置绘图方式（0：不绘图；1：绘制结果图；2：绘制目标空间过程动画；3：绘制决策空间过程动画）\n",
    "\n",
    "\"\"\"===========================调用算法模板进行种群进化=======================\"\"\"\n",
    "\n",
    "[BestIndi, population] = myAlgorithm.run()  # 执行算法模板，得到最优个体以及最后一代种群\n",
    "BestIndi.save()  # 把最优个体的信息保存到文件中\n",
    "\n",
    "\"\"\"==================================输出结果=============================\"\"\"\n",
    "\n",
    "print('用时：%f 秒' % myAlgorithm.passTime)\n",
    "print('评价次数：%d 次' % myAlgorithm.evalsNum)\n",
    "if BestIndi.sizes != 0:\n",
    "    print('最优的目标函数值为：%s' % BestIndi.ObjV[0][0])\n",
    "    print('最优的控制变量值为：')\n",
    "    for i in range(BestIndi.Phen.shape[1]):\n",
    "        print(BestIndi.Phen[0, i])\n",
    "else:\n",
    "    print('没找到可行解。')\n",
    "    \n",
    "\"\"\"=================================检验结果===============================\"\"\"\n",
    "\n",
    "problem.test(epochs= int(BestIndi.Phen[0][0]), batch_size= int(BestIndi.Phen[0][1]))\n"
   ]
  },
  {
   "cell_type": "code",
   "execution_count": null,
   "id": "427c5367",
   "metadata": {},
   "outputs": [],
   "source": []
  }
 ],
 "metadata": {
  "kernelspec": {
   "display_name": "tensorflow",
   "language": "python",
   "name": "tensorflow"
  },
  "language_info": {
   "codemirror_mode": {
    "name": "ipython",
    "version": 3
   },
   "file_extension": ".py",
   "mimetype": "text/x-python",
   "name": "python",
   "nbconvert_exporter": "python",
   "pygments_lexer": "ipython3",
   "version": "3.7.12"
  },
  "toc": {
   "base_numbering": 1,
   "nav_menu": {},
   "number_sections": true,
   "sideBar": true,
   "skip_h1_title": false,
   "title_cell": "Table of Contents",
   "title_sidebar": "Contents",
   "toc_cell": false,
   "toc_position": {},
   "toc_section_display": true,
   "toc_window_display": true
  }
 },
 "nbformat": 4,
 "nbformat_minor": 5
}
