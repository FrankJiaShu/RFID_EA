{
 "cells": [
  {
   "cell_type": "markdown",
   "id": "7c4556b4",
   "metadata": {
    "tags": []
   },
   "source": [
    "# GRNN定位模型"
   ]
  },
  {
   "cell_type": "code",
   "execution_count": 11,
   "id": "d9f6af40",
   "metadata": {},
   "outputs": [],
   "source": [
    "import math\n",
    "import numpy as np\n",
    "import pandas as pd\n",
    "from sklearn.model_selection import train_test_split\n",
    "from sklearn.metrics import mean_absolute_error, explained_variance_score, r2_score, mean_squared_error"
   ]
  },
  {
   "cell_type": "markdown",
   "id": "57c5c44b",
   "metadata": {},
   "source": [
    "## 读取数据"
   ]
  },
  {
   "cell_type": "code",
   "execution_count": 12,
   "id": "539f656d",
   "metadata": {},
   "outputs": [],
   "source": [
    "# 加载训练数据\n",
    "def load_data(path):\n",
    "    df = pd.read_csv(path)\n",
    "    dv = df.values\n",
    "    X = dv[:, 1:-2]\n",
    "    Y = dv[:, -2:]\n",
    "    return X[:, :, np.newaxis], Y"
   ]
  },
  {
   "cell_type": "code",
   "execution_count": 13,
   "id": "077a45ac",
   "metadata": {},
   "outputs": [
    {
     "name": "stdout",
     "output_type": "stream",
     "text": [
      "(2000, 100, 1)\n"
     ]
    }
   ],
   "source": [
    "X, y = load_data('./dataset/location_data.csv')\n",
    "print(X.shape)\n",
    "X = np.reshape(X, (2000, 100))"
   ]
  },
  {
   "cell_type": "code",
   "execution_count": 14,
   "id": "6feb89da",
   "metadata": {},
   "outputs": [],
   "source": [
    "X_train, X_test, y_train, y_test = train_test_split(X, y, test_size=0.2, random_state=2021)  # 训练测试划分"
   ]
  },
  {
   "cell_type": "markdown",
   "id": "d3234a4d-a711-4a67-a9df-6a5fd6fef272",
   "metadata": {},
   "source": [
    "## 定义GRNN模型"
   ]
  },
  {
   "cell_type": "code",
   "execution_count": 15,
   "id": "2e3f60a7-324d-43d6-8970-06e6c095b20c",
   "metadata": {},
   "outputs": [],
   "source": [
    "class my_GRNN:\n",
    "    def __init__(self, X_train, y_train, sigma=1.0):\n",
    "        self.X_train = X_train\n",
    "        self.y_train = y_train\n",
    "        self.sigma = sigma\n",
    "\n",
    "    \n",
    "    # 1.计算每条样本与所有训练样本的欧式距离\n",
    "    def distance_mat(self, X_test):\n",
    "        Eu_dis = []\n",
    "        for Xi in self.X_train:\n",
    "            Eu_dis.append(np.linalg.norm(X_test - Xi))\n",
    "        return Eu_dis\n",
    "\n",
    "    \n",
    "    # 2.模式层\n",
    "    def Gauss(self, Eu_dis):\n",
    "        g_list = []\n",
    "        for ei in Eu_dis:\n",
    "            gi = math.exp(-ei / (2 * (self.sigma ** 2)))\n",
    "            g_list.append(gi)\n",
    "        return g_list\n",
    "\n",
    "    \n",
    "    # 3.求和层\n",
    "    def sum_layer(self, g_list):\n",
    "        s_list = []\n",
    "        s0 = sum(g_list)\n",
    "        s_list.append(s0)\n",
    "        g_list = np.array(g_list)\n",
    "        m, n = np.shape(self.y_train)\n",
    "        for i in range(n):\n",
    "            s_list.append(np.sum(g_list * self.y_train[:, i]))\n",
    "        return s_list\n",
    "\n",
    "    \n",
    "    # 4.输出层\n",
    "    def output_layer(self, s_list):\n",
    "        ans = []\n",
    "        for i in range(1, len(s_list)):\n",
    "            ans.append(s_list[i] / s_list[0])\n",
    "        return ans\n",
    "\n",
    "    \n",
    "    # 模型整体架构\n",
    "    def process_GRNN(self, X_test):\n",
    "        pxy = []\n",
    "        for xt in X_test:\n",
    "            Eu_dis = self.distance_mat(xt)\n",
    "            g_list = self.Gauss(Eu_dis)\n",
    "            s_list = self.sum_layer(g_list)\n",
    "            pxy.append(self.output_layer(s_list))\n",
    "        return pxy\n",
    "    "
   ]
  },
  {
   "cell_type": "markdown",
   "id": "e2904cfa-4f11-4938-b871-a6a611b318fb",
   "metadata": {},
   "source": [
    "## 测试执行模型"
   ]
  },
  {
   "cell_type": "code",
   "execution_count": 16,
   "id": "02869d26-d7f3-4739-81cb-84a3fa2e40a8",
   "metadata": {},
   "outputs": [
    {
     "name": "stdout",
     "output_type": "stream",
     "text": [
      "[[3.76 3.77]\n",
      " [1.57 4.63]\n",
      " [5.43 6.77]\n",
      " [9.67 7.94]\n",
      " [7.09 8.28]\n",
      " [8.59 8.24]\n",
      " [9.14 2.22]\n",
      " [3.66 7.91]\n",
      " [8.93 1.86]\n",
      " [2.38 2.02]]\n",
      "[[4.313237194213279, 3.3405733852711235], [2.0623590256770457, 4.8355333079211125], [5.016479948035213, 8.15589142044068], [8.774914492673199, 7.60577423172001], [6.343263714332327, 8.819755709700623], [9.120573285434979, 7.733082746961303], [8.951306263082238, 5.016816758957814], [4.031207390570993, 8.693088076344546], [9.216440713710975, 3.048697034087624], [2.396122470294987, 2.702815885434046]]\n",
      "MAE指标: 0.43088606583294475\n",
      "MSE指标: 0.3623140942733079\n",
      "RMSE指标: 0.601925322837732\n",
      "r2指标: 0.9498994247458706\n",
      "ev指标: 0.9504105349716667\n",
      "CPU times: user 3.33 s, sys: 49.5 ms, total: 3.38 s\n",
      "Wall time: 3.36 s\n"
     ]
    }
   ],
   "source": [
    "%%time\n",
    "print(y_test[:10])\n",
    "GRNN = my_GRNN(X_train, y_train, sigma=0.5)\n",
    "pxy = GRNN.process_GRNN(X_test)\n",
    "print(pxy[:10])\n",
    "MAE = mean_absolute_error(y_test, pxy)\n",
    "MSE = mean_squared_error(y_test, pxy)\n",
    "r2 = r2_score(y_test, pxy)\n",
    "ev = explained_variance_score(y_test, pxy)\n",
    "print('MAE指标:', MAE)\n",
    "print('MSE指标:', MSE)\n",
    "print('RMSE指标:', math.sqrt(MSE))\n",
    "print('r2指标:', r2)\n",
    "print('ev指标:', ev)"
   ]
  },
  {
   "cell_type": "code",
   "execution_count": null,
   "id": "5222fb02",
   "metadata": {},
   "outputs": [],
   "source": []
  }
 ],
 "metadata": {
  "kernelspec": {
   "display_name": "pytorch",
   "language": "python",
   "name": "pytorch"
  },
  "language_info": {
   "codemirror_mode": {
    "name": "ipython",
    "version": 3
   },
   "file_extension": ".py",
   "mimetype": "text/x-python",
   "name": "python",
   "nbconvert_exporter": "python",
   "pygments_lexer": "ipython3",
   "version": "3.8.5"
  },
  "toc": {
   "base_numbering": 1,
   "nav_menu": {},
   "number_sections": true,
   "sideBar": true,
   "skip_h1_title": false,
   "title_cell": "Table of Contents",
   "title_sidebar": "Contents",
   "toc_cell": false,
   "toc_position": {},
   "toc_section_display": true,
   "toc_window_display": true
  }
 },
 "nbformat": 4,
 "nbformat_minor": 5
}
