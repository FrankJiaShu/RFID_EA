{
 "cells": [
  {
   "cell_type": "code",
   "execution_count": 2,
   "id": "4ac1fb11-3fa4-4d76-875c-8f2eda113f07",
   "metadata": {},
   "outputs": [],
   "source": [
    "import numpy as np"
   ]
  },
  {
   "cell_type": "code",
   "execution_count": 3,
   "id": "1dcb9f43-6b7d-4db4-92be-d7cd9453d2d4",
   "metadata": {},
   "outputs": [],
   "source": [
    "x = np.linspace(1,500,100)"
   ]
  },
  {
   "cell_type": "code",
   "execution_count": 4,
   "id": "38d84f39-90cf-4788-9813-21f4b5d21a19",
   "metadata": {},
   "outputs": [
    {
     "data": {
      "text/plain": [
       "array([  1.        ,   6.04040404,  11.08080808,  16.12121212,\n",
       "        21.16161616,  26.2020202 ,  31.24242424,  36.28282828,\n",
       "        41.32323232,  46.36363636,  51.4040404 ,  56.44444444,\n",
       "        61.48484848,  66.52525253,  71.56565657,  76.60606061,\n",
       "        81.64646465,  86.68686869,  91.72727273,  96.76767677,\n",
       "       101.80808081, 106.84848485, 111.88888889, 116.92929293,\n",
       "       121.96969697, 127.01010101, 132.05050505, 137.09090909,\n",
       "       142.13131313, 147.17171717, 152.21212121, 157.25252525,\n",
       "       162.29292929, 167.33333333, 172.37373737, 177.41414141,\n",
       "       182.45454545, 187.49494949, 192.53535354, 197.57575758,\n",
       "       202.61616162, 207.65656566, 212.6969697 , 217.73737374,\n",
       "       222.77777778, 227.81818182, 232.85858586, 237.8989899 ,\n",
       "       242.93939394, 247.97979798, 253.02020202, 258.06060606,\n",
       "       263.1010101 , 268.14141414, 273.18181818, 278.22222222,\n",
       "       283.26262626, 288.3030303 , 293.34343434, 298.38383838,\n",
       "       303.42424242, 308.46464646, 313.50505051, 318.54545455,\n",
       "       323.58585859, 328.62626263, 333.66666667, 338.70707071,\n",
       "       343.74747475, 348.78787879, 353.82828283, 358.86868687,\n",
       "       363.90909091, 368.94949495, 373.98989899, 379.03030303,\n",
       "       384.07070707, 389.11111111, 394.15151515, 399.19191919,\n",
       "       404.23232323, 409.27272727, 414.31313131, 419.35353535,\n",
       "       424.39393939, 429.43434343, 434.47474747, 439.51515152,\n",
       "       444.55555556, 449.5959596 , 454.63636364, 459.67676768,\n",
       "       464.71717172, 469.75757576, 474.7979798 , 479.83838384,\n",
       "       484.87878788, 489.91919192, 494.95959596, 500.        ])"
      ]
     },
     "execution_count": 4,
     "metadata": {},
     "output_type": "execute_result"
    }
   ],
   "source": [
    "x"
   ]
  },
  {
   "cell_type": "code",
   "execution_count": 5,
   "id": "a7925c3f-fc75-4cb6-8f9b-b14b56ff8700",
   "metadata": {},
   "outputs": [
    {
     "data": {
      "text/plain": [
       "(100, 1)"
      ]
     },
     "execution_count": 5,
     "metadata": {},
     "output_type": "execute_result"
    }
   ],
   "source": [
    "y = np.zeros((100, 1))\n",
    "y.shape"
   ]
  },
  {
   "cell_type": "code",
   "execution_count": 13,
   "id": "f6a44a31-71b3-412b-85bc-d70a21df4913",
   "metadata": {},
   "outputs": [
    {
     "data": {
      "text/plain": [
       "[0,\n",
       " 1,\n",
       " 2,\n",
       " 3,\n",
       " 4,\n",
       " 5,\n",
       " 6,\n",
       " 7,\n",
       " 8,\n",
       " 9,\n",
       " 10,\n",
       " 11,\n",
       " 12,\n",
       " 13,\n",
       " 14,\n",
       " 15,\n",
       " 16,\n",
       " 17,\n",
       " 18,\n",
       " 19,\n",
       " 20,\n",
       " 21,\n",
       " 22,\n",
       " 23,\n",
       " 24,\n",
       " 25,\n",
       " 26,\n",
       " 27,\n",
       " 28,\n",
       " 29,\n",
       " 30,\n",
       " 31,\n",
       " 32,\n",
       " 33,\n",
       " 34,\n",
       " 35,\n",
       " 36,\n",
       " 37,\n",
       " 38,\n",
       " 39,\n",
       " 40,\n",
       " 41,\n",
       " 42,\n",
       " 43,\n",
       " 44,\n",
       " 45,\n",
       " 46,\n",
       " 47,\n",
       " 48,\n",
       " 49,\n",
       " 50,\n",
       " 51,\n",
       " 52,\n",
       " 53,\n",
       " 54,\n",
       " 55,\n",
       " 56,\n",
       " 57,\n",
       " 58,\n",
       " 59,\n",
       " 60,\n",
       " 61,\n",
       " 62,\n",
       " 63,\n",
       " 64,\n",
       " 65,\n",
       " 66,\n",
       " 67,\n",
       " 68,\n",
       " 69,\n",
       " 70,\n",
       " 71,\n",
       " 72,\n",
       " 73,\n",
       " 74,\n",
       " 75,\n",
       " 76,\n",
       " 77,\n",
       " 78,\n",
       " 79,\n",
       " 80,\n",
       " 81,\n",
       " 82,\n",
       " 83,\n",
       " 84,\n",
       " 85,\n",
       " 86,\n",
       " 87,\n",
       " 88,\n",
       " 89,\n",
       " 90,\n",
       " 91,\n",
       " 92,\n",
       " 93,\n",
       " 94,\n",
       " 95,\n",
       " 96,\n",
       " 97,\n",
       " 98,\n",
       " 99]"
      ]
     },
     "execution_count": 13,
     "metadata": {},
     "output_type": "execute_result"
    }
   ],
   "source": [
    "l = list(range(100))\n",
    "l"
   ]
  },
  {
   "cell_type": "code",
   "execution_count": 8,
   "id": "7f175395-6586-40cd-ad5d-c476d366f900",
   "metadata": {},
   "outputs": [],
   "source": [
    "a = [1,2,3]\n"
   ]
  },
  {
   "cell_type": "code",
   "execution_count": 11,
   "id": "0ccdcb77-6f2c-4665-bbd1-dc660a3886d9",
   "metadata": {},
   "outputs": [],
   "source": [
    "def fun(a):\n",
    "    for i in a:\n",
    "        print(i)\n",
    "    \n"
   ]
  },
  {
   "cell_type": "code",
   "execution_count": 12,
   "id": "39f9203b-5418-4f2e-924d-414d8dce72e2",
   "metadata": {},
   "outputs": [
    {
     "name": "stdout",
     "output_type": "stream",
     "text": [
      "1\n",
      "2\n",
      "3\n"
     ]
    }
   ],
   "source": [
    "fun(a)"
   ]
  },
  {
   "cell_type": "code",
   "execution_count": 11,
   "id": "64abd88f-d4d1-4625-9bcb-d0cff71bbb8c",
   "metadata": {},
   "outputs": [],
   "source": [
    "c = 2**(-14)"
   ]
  },
  {
   "cell_type": "code",
   "execution_count": 12,
   "id": "2525285d-ea07-4b94-87a2-7b1505b44ed4",
   "metadata": {},
   "outputs": [
    {
     "data": {
      "text/plain": [
       "6.103515625e-05"
      ]
     },
     "execution_count": 12,
     "metadata": {},
     "output_type": "execute_result"
    }
   ],
   "source": [
    "c"
   ]
  },
  {
   "cell_type": "code",
   "execution_count": null,
   "id": "b8b51235-312d-4723-a11f-12624340da47",
   "metadata": {},
   "outputs": [],
   "source": []
  }
 ],
 "metadata": {
  "kernelspec": {
   "display_name": "Python 3 (ipykernel)",
   "language": "python",
   "name": "python3"
  },
  "language_info": {
   "codemirror_mode": {
    "name": "ipython",
    "version": 3
   },
   "file_extension": ".py",
   "mimetype": "text/x-python",
   "name": "python",
   "nbconvert_exporter": "python",
   "pygments_lexer": "ipython3",
   "version": "3.8.12"
  }
 },
 "nbformat": 4,
 "nbformat_minor": 5
}
