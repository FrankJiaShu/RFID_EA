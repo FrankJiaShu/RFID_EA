{
 "cells": [
  {
   "cell_type": "code",
   "execution_count": 1,
   "id": "1ae6e8b5-63b0-4f5a-9b65-77a034f6f1db",
   "metadata": {},
   "outputs": [],
   "source": [
    "from multiprocessing.dummy import Pool as ThreadPool\n",
    "import time"
   ]
  },
  {
   "cell_type": "code",
   "execution_count": 3,
   "id": "6f83652d-9ce4-4fc7-8b3e-65114568f298",
   "metadata": {},
   "outputs": [],
   "source": [
    "# 定义方法\n",
    "def fun(msg):\n",
    "    print('msg: ', msg)\n",
    "    time.sleep(1)\n",
    "    print('********')\n",
    "    return 'fun_return %s' % msg"
   ]
  },
  {
   "cell_type": "code",
   "execution_count": 5,
   "id": "b19beb13-7ea4-4931-a587-b8394032c385",
   "metadata": {},
   "outputs": [
    {
     "name": "stdout",
     "output_type": "stream",
     "text": [
      "\n",
      "------map_async-------\n",
      "msg:  1\n",
      "msg: msg:   2\n",
      "10\n",
      "msg: False\n",
      " 11\n",
      "map_async: 不堵塞\n",
      "****************\n",
      "msg:  18\n",
      "\n",
      "********\n",
      "********\n",
      "********\n",
      "after wait\n",
      "['fun_return 1', 'fun_return 2', 'fun_return 10', 'fun_return 11', 'fun_return 18']\n"
     ]
    }
   ],
   "source": [
    "# map_async\n",
    "print('\\n------map_async-------')\n",
    "arg = [1, 2, 10, 11, 18]\n",
    "async_pool = ThreadPool(processes=4)\n",
    "result = async_pool.map_async(fun, arg)\n",
    "\n",
    "print(result.ready())  # 线程函数是否已经启动了\n",
    "print('map_async: 不堵塞')\n",
    "\n",
    "result.wait()  # 等待全部线程函数执行完毕\n",
    "print('after wait')\n",
    "if result.ready():  # 线程函数是否已经启动了\n",
    "    if result.successful():  # 线程函数是否执行成功\n",
    "        print(result.get())  # 线程函数返回值"
   ]
  },
  {
   "cell_type": "code",
   "execution_count": 6,
   "id": "06ddb337-8cfc-4813-9c97-20e806983387",
   "metadata": {},
   "outputs": [
    {
     "name": "stdout",
     "output_type": "stream",
     "text": [
      "\n",
      "------map-------\n",
      "msg: msg: msg:   11\n",
      " 3\n",
      "5\n",
      "************************\n",
      "msg:  19\n",
      "\n",
      "msg:  12\n",
      "\n",
      "********\n",
      "********\n",
      "map: 堵塞\n",
      "['fun_return 3', 'fun_return 5', 'fun_return 11', 'fun_return 19', 'fun_return 12']\n"
     ]
    }
   ],
   "source": [
    "# map\n",
    "print('\\n------map-------')\n",
    "arg = [3, 5, 11, 19, 12]\n",
    "pool = ThreadPool(processes=3)\n",
    "return_list = pool.map(fun, arg)\n",
    "print('map: 堵塞')\n",
    "pool.close()\n",
    "pool.join()\n",
    "print(return_list)"
   ]
  },
  {
   "cell_type": "code",
   "execution_count": 7,
   "id": "425428eb-e004-4fdb-a9a2-a2226e6241d5",
   "metadata": {},
   "outputs": [
    {
     "name": "stdout",
     "output_type": "stream",
     "text": [
      "\n",
      "------apply_async-------\n",
      "msg:  msg: 0\n",
      "apply_async: 不堵塞\n",
      "msg: msg:  msg: 2\n",
      "msg:  msg: 3\n",
      " msg: 1\n",
      "********\n",
      "msg:  msg: 4\n",
      "****************\n",
      "********\n",
      "\n",
      "********\n",
      "fun_return msg: 0\n",
      "fun_return msg: 1\n",
      "fun_return msg: 2\n",
      "fun_return msg: 3\n",
      "fun_return msg: 4\n"
     ]
    }
   ],
   "source": [
    "# apply_async\n",
    "print('\\n------apply_async-------')\n",
    "async_pool = ThreadPool(processes=4)\n",
    "results =[]\n",
    "for i in range(5):\n",
    "    msg = 'msg: %d' % i\n",
    "    result = async_pool.apply_async(fun, (msg, ))\n",
    "    results.append(result)\n",
    "\n",
    "print('apply_async: 不堵塞')\n",
    "# async_pool.close()\n",
    "# async_pool.join()\n",
    "for i in results:\n",
    "    i.wait()  # 等待线程函数执行完毕\n",
    "\n",
    "for i in results:\n",
    "    if i.ready():  # 线程函数是否已经启动了\n",
    "        if i.successful():  # 线程函数是否执行成功\n",
    "            print(i.get())  # 线程函数返回值"
   ]
  },
  {
   "cell_type": "code",
   "execution_count": 8,
   "id": "a887ff7d-e1a7-474b-82bf-314fe963bd42",
   "metadata": {},
   "outputs": [
    {
     "name": "stdout",
     "output_type": "stream",
     "text": [
      "\n",
      "------apply-------\n",
      "msg:  msg: 0\n",
      "********\n",
      "msg:  msg: 1\n",
      "********\n",
      "msg:  msg: 2\n",
      "********\n",
      "msg:  msg: 3\n",
      "********\n",
      "msg:  msg: 4\n",
      "********\n",
      "apply: 堵塞\n",
      "['fun_return msg: 0', 'fun_return msg: 1', 'fun_return msg: 2', 'fun_return msg: 3', 'fun_return msg: 4']\n"
     ]
    }
   ],
   "source": [
    "# apply\n",
    "print('\\n------apply-------')\n",
    "pool = ThreadPool(processes=4)\n",
    "results =[]\n",
    "for i in range(5):\n",
    "    msg = 'msg: %d' % i\n",
    "    result = pool.apply(fun, (msg, ))\n",
    "    results.append(result)\n",
    "\n",
    "print('apply: 堵塞')\n",
    "print(results)"
   ]
  },
  {
   "cell_type": "code",
   "execution_count": null,
   "id": "15c09cad-857f-43ea-8f6c-068fca9692c7",
   "metadata": {},
   "outputs": [],
   "source": []
  }
 ],
 "metadata": {
  "kernelspec": {
   "display_name": "Python 3 (ipykernel)",
   "language": "python",
   "name": "python3"
  },
  "language_info": {
   "codemirror_mode": {
    "name": "ipython",
    "version": 3
   },
   "file_extension": ".py",
   "mimetype": "text/x-python",
   "name": "python",
   "nbconvert_exporter": "python",
   "pygments_lexer": "ipython3",
   "version": "3.8.12"
  }
 },
 "nbformat": 4,
 "nbformat_minor": 5
}
