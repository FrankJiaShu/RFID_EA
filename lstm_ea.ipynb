{
 "cells": [
  {
   "cell_type": "markdown",
   "id": "1ca6ab00",
   "metadata": {
    "tags": []
   },
   "source": [
    "# 使用geatpy优化LSTM定位模型参数"
   ]
  },
  {
   "cell_type": "code",
   "execution_count": 1,
   "id": "9c3bce8a",
   "metadata": {},
   "outputs": [],
   "source": [
    "import math\n",
    "import numpy as np\n",
    "import pandas as pd\n",
    "import geatpy as ea\n",
    "from tensorflow.keras.models import Sequential\n",
    "from tensorflow.keras.layers import Dense, Activation, SimpleRNN, LSTM\n",
    "from multiprocessing.dummy import Pool as ThreadPool\n",
    "from sklearn.model_selection import train_test_split\n",
    "from sklearn.metrics import mean_absolute_error, explained_variance_score, r2_score, mean_squared_error"
   ]
  },
  {
   "cell_type": "markdown",
   "id": "461caa0b",
   "metadata": {},
   "source": [
    "## 读取数据"
   ]
  },
  {
   "cell_type": "code",
   "execution_count": 2,
   "id": "67224192",
   "metadata": {},
   "outputs": [],
   "source": [
    "# 加载训练数据\n",
    "def load_data(path):\n",
    "    df = pd.read_csv(path)\n",
    "    dv = df.values\n",
    "    X = dv[:, 1:-2]\n",
    "    Y = dv[:, -2:]\n",
    "    return X[:, :, np.newaxis], Y"
   ]
  },
  {
   "cell_type": "code",
   "execution_count": 3,
   "id": "4a81695d",
   "metadata": {},
   "outputs": [
    {
     "name": "stdout",
     "output_type": "stream",
     "text": [
      "(2000, 100, 1)\n"
     ]
    }
   ],
   "source": [
    "X, y = load_data('./dataset/location_data.csv')\n",
    "print(X.shape)"
   ]
  },
  {
   "cell_type": "code",
   "execution_count": 4,
   "id": "2b3b0610",
   "metadata": {},
   "outputs": [],
   "source": [
    "X_train, X_test, y_train, y_test = train_test_split(X, y, test_size=0.2, random_state=2021)  # 训练测试划分"
   ]
  },
  {
   "cell_type": "markdown",
   "id": "3383e09a",
   "metadata": {},
   "source": [
    "## 定义LSTM模型"
   ]
  },
  {
   "cell_type": "code",
   "execution_count": 5,
   "id": "9bbea5c2",
   "metadata": {},
   "outputs": [],
   "source": [
    "def RFID_LSTM():\n",
    "    model = Sequential()\n",
    "    model.add(LSTM(units=100, batch_input_shape=(None, 100, 1)))\n",
    "    model.add(Dense(2))\n",
    "    \n",
    "    model.compile(optimizer='adam',\n",
    "                  loss='mse',\n",
    "                  metrics=['mae'])\n",
    "\n",
    "#     model.summary()\n",
    "    return model\n"
   ]
  },
  {
   "cell_type": "markdown",
   "id": "94309ed6",
   "metadata": {},
   "source": [
    "## 训练模型查看测试效果"
   ]
  },
  {
   "cell_type": "code",
   "execution_count": 6,
   "id": "c5f8606a",
   "metadata": {
    "scrolled": true
   },
   "outputs": [
    {
     "name": "stderr",
     "output_type": "stream",
     "text": [
      "2021-12-24 00:36:01.735453: I tensorflow/core/platform/cpu_feature_guard.cc:142] This TensorFlow binary is optimized with oneAPI Deep Neural Network Library (oneDNN) to use the following CPU instructions in performance-critical operations:  SSE4.1 SSE4.2 AVX AVX2 FMA\n",
      "To enable them in other operations, rebuild TensorFlow with the appropriate compiler flags.\n",
      "2021-12-24 00:36:01.891273: I tensorflow/compiler/mlir/mlir_graph_optimization_pass.cc:116] None of the MLIR optimization passes are enabled (registered 2)\n",
      "2021-12-24 00:36:01.908240: I tensorflow/core/platform/profile_utils/cpu_utils.cc:112] CPU Frequency: 3600000000 Hz\n"
     ]
    },
    {
     "name": "stdout",
     "output_type": "stream",
     "text": [
      "Epoch 1/10\n",
      "16/16 [==============================] - 1s 29ms/step - loss: 27.2734 - mae: 4.4641\n",
      "Epoch 2/10\n",
      "16/16 [==============================] - 0s 30ms/step - loss: 13.5640 - mae: 3.0271\n",
      "Epoch 3/10\n",
      "16/16 [==============================] - 0s 29ms/step - loss: 6.9532 - mae: 2.2272\n",
      "Epoch 4/10\n",
      "16/16 [==============================] - 0s 30ms/step - loss: 4.8482 - mae: 1.8265\n",
      "Epoch 5/10\n",
      "16/16 [==============================] - 0s 29ms/step - loss: 4.0302 - mae: 1.6176\n",
      "Epoch 6/10\n",
      "16/16 [==============================] - 0s 29ms/step - loss: 3.4894 - mae: 1.5027\n",
      "Epoch 7/10\n",
      "16/16 [==============================] - 0s 30ms/step - loss: 2.8302 - mae: 1.3437\n",
      "Epoch 8/10\n",
      "16/16 [==============================] - 0s 29ms/step - loss: 2.3080 - mae: 1.1675\n",
      "Epoch 9/10\n",
      "16/16 [==============================] - 0s 31ms/step - loss: 1.5941 - mae: 0.9614\n",
      "Epoch 10/10\n",
      "16/16 [==============================] - 0s 30ms/step - loss: 1.1766 - mae: 0.8546\n",
      "40/40 [==============================] - 0s 3ms/step - loss: 1.1896 - mae: 0.8717\n",
      "损失与精度： [1.1895886659622192, 0.871735155582428]\n",
      "[[2.6554022 3.3381479]\n",
      " [1.6639671 5.5773277]\n",
      " [4.0928855 6.360792 ]\n",
      " [7.745584  7.119872 ]\n",
      " [6.506232  8.56112  ]\n",
      " [7.704126  7.5001874]\n",
      " [7.506123  6.089742 ]\n",
      " [2.432266  7.306378 ]\n",
      " [7.6401553 3.2235825]\n",
      " [2.5855002 2.3081872]]\n",
      "[[3.76 3.77]\n",
      " [1.57 4.63]\n",
      " [5.43 6.77]\n",
      " [9.67 7.94]\n",
      " [7.09 8.28]\n",
      " [8.59 8.24]\n",
      " [9.14 2.22]\n",
      " [3.66 7.91]\n",
      " [8.93 1.86]\n",
      " [2.38 2.02]]\n",
      "MAE指标: 0.8717350816726681\n",
      "MSE指标: 1.1895888026917305\n",
      "r2指标: 0.8385943272159739\n",
      "ev指标: 0.8762531632332629\n",
      "CPU times: user 17.2 s, sys: 1.54 s, total: 18.7 s\n",
      "Wall time: 6.25 s\n"
     ]
    }
   ],
   "source": [
    "%%time\n",
    "model = RFID_LSTM()\n",
    "model.fit(X_train, y_train, epochs=10, batch_size=100)\n",
    "loss = model.evaluate(X_test, y_test, batch_size=10) # 输出损失和MAE\n",
    "print('损失与精度：', loss)\n",
    "model.save('./models/LSTM_2021.h5')\n",
    "\n",
    "pxy = model.predict(X_test)\n",
    "print(pxy[:10])\n",
    "print(y_test[:10])\n",
    "MAE = mean_absolute_error(y_test, pxy)\n",
    "MSE = mean_squared_error(y_test, pxy)\n",
    "r2 = r2_score(y_test, pxy)\n",
    "ev = explained_variance_score(y_test, pxy)\n",
    "print('MAE指标:', MAE)\n",
    "print('MSE指标:', MSE)\n",
    "print('r2指标:', r2)\n",
    "print('ev指标:', ev)\n"
   ]
  },
  {
   "cell_type": "markdown",
   "id": "e8f8f077",
   "metadata": {
    "tags": []
   },
   "source": [
    "## 使用进化算法调参"
   ]
  },
  {
   "cell_type": "markdown",
   "id": "5293eda3",
   "metadata": {},
   "source": [
    " ### 自定义问题类"
   ]
  },
  {
   "cell_type": "code",
   "execution_count": 8,
   "id": "35493748",
   "metadata": {},
   "outputs": [],
   "source": [
    "class RFIDLSTM(ea.Problem):\n",
    "    def __init__(self, X_train, X_test, y_train, y_test):\n",
    "        name = 'RFIDLSTM'\n",
    "        M = 1 # 初始化M（目标维数）\n",
    "        maxormins = [-1] # 初始化maxormins（目标最小最大化标记列表，1：最小化该目标；-1：最大化该目标）\n",
    "        Dim = 2 # 初始化Dim（决策变量维数）\n",
    "        varTypes = np.array([0] * Dim) # 初始化varTypes 0-连续\n",
    "        lb = [10, 50] # 决策变量下界\n",
    "        ub = [300, 500] # 决策变量上界\n",
    "        lbin = [1] * Dim # 决策变量下边界（0表示不包含该变量的下边界，1表示包含）\n",
    "        ubin = [1] * Dim # 决策变量上边界（0表示不包含该变量的上边界，1表示包含）\n",
    "        # 调用父类构造方法完成实例化\n",
    "        ea.Problem.__init__(self, name, M, maxormins, Dim, varTypes, lb, ub, lbin, ubin)\n",
    "        # 数据设置\n",
    "        self.X_train = X_train\n",
    "        self.X_test = X_test\n",
    "        self.y_train = y_train\n",
    "        self.y_test = y_test\n",
    "        \n",
    "        \n",
    "    # 目标函数，采用多线程加速计算\n",
    "    def aimFunc(self, pop):\n",
    "        Vars = pop.Phen # 得到决策变量矩阵\n",
    "        # print(Vars)\n",
    "        pop.ObjV = np.zeros((pop.sizes, 1)) # 初始化种群个体目标函数值列向量\n",
    "        def subAimFunc(i):\n",
    "            epochs = int(Vars[i, 0])\n",
    "            batch_size = int(Vars[i, 1])\n",
    "            model = RFID_LSTM()\n",
    "            model.fit(self.X_train, self.y_train, epochs=epochs, batch_size=batch_size, verbose=0)\n",
    "            pxy = model.predict(self.X_test)\n",
    "            pop.ObjV[i] = r2_score(self.y_test, pxy) # 最小化MSE作为目标函数\n",
    "        pool = ThreadPool(processes=2) # 设置池的大小\n",
    "        pool.map(subAimFunc, list(range(pop.sizes))) # 散列种群每个个体进行加速计算\n",
    "        \n",
    "        \n",
    "    # 代入优化后的参数对测试集进行检验，计算指标\n",
    "    def test(self, epochs, batch_size):\n",
    "        X02, y02 = load_data('./dataset/location_data02.csv')\n",
    "        model = RFID_LSTM()\n",
    "        model.fit(self.X_train, self.y_train, epochs=epochs, batch_size=batch_size, verbose=0)\n",
    "        model.save('./models/LSTM_2021.h5')\n",
    "        pxy = model.predict(X02)\n",
    "        MAE = mean_absolute_error(y02, pxy)\n",
    "        MSE = mean_squared_error(y02, pxy)\n",
    "        r2 = r2_score(y02, pxy)\n",
    "        ev = explained_variance_score(y02, pxy)\n",
    "        print('MAE指标:', MAE)\n",
    "        print('MSE指标:', MSE)\n",
    "        print('RMSE指标', math.sqrt(MSE))\n",
    "        print('r2指标:', r2)\n",
    "        print('ev指标:', ev)\n",
    "        "
   ]
  },
  {
   "cell_type": "markdown",
   "id": "4ec84bee",
   "metadata": {},
   "source": [
    "### 编写执行代码"
   ]
  },
  {
   "cell_type": "code",
   "execution_count": 9,
   "id": "42c58cbe",
   "metadata": {
    "scrolled": true
   },
   "outputs": [
    {
     "name": "stdout",
     "output_type": "stream",
     "text": [
      "==================================================================================\n",
      "gen|  eval  |    f_opt    |    f_max    |    f_avg    |    f_min    |    f_std    \n",
      "----------------------------------------------------------------------------------\n",
      " 0 |   10   | 9.77453E-01 | 9.77453E-01 | 9.75155E-01 | 9.71884E-01 | 1.68440E-03 \n",
      " 1 |   20   | 9.77453E-01 | 9.77453E-01 | 9.75463E-01 | 9.71884E-01 | 1.64475E-03 \n",
      " 2 |   30   | 9.77453E-01 | 9.77453E-01 | 9.76051E-01 | 9.71884E-01 | 1.54759E-03 \n",
      " 3 |   40   | 9.77542E-01 | 9.77542E-01 | 9.76331E-01 | 9.71884E-01 | 1.56902E-03 \n",
      " 4 |   50   | 9.77542E-01 | 9.77542E-01 | 9.76593E-01 | 9.74481E-01 | 8.72558E-04 \n",
      " 5 |   60   | 9.77678E-01 | 9.77678E-01 | 9.76770E-01 | 9.74481E-01 | 8.72457E-04 \n",
      " 6 |   70   | 9.77678E-01 | 9.77678E-01 | 9.76932E-01 | 9.74848E-01 | 7.48339E-04 \n",
      " 7 |   80   | 9.78197E-01 | 9.78197E-01 | 9.77311E-01 | 9.76797E-01 | 4.25005E-04 \n",
      " 8 |   90   | 9.78197E-01 | 9.78197E-01 | 9.77387E-01 | 9.76797E-01 | 4.33926E-04 \n",
      " 9 |  100   | 9.78197E-01 | 9.78197E-01 | 9.77444E-01 | 9.76915E-01 | 3.84206E-04 \n",
      " 10|  110   | 9.78197E-01 | 9.78197E-01 | 9.77512E-01 | 9.76961E-01 | 3.42263E-04 \n",
      " 11|  120   | 9.78197E-01 | 9.78197E-01 | 9.77512E-01 | 9.76961E-01 | 3.42263E-04 \n",
      " 12|  130   | 9.78197E-01 | 9.78197E-01 | 9.77512E-01 | 9.76961E-01 | 3.42263E-04 \n"
     ]
    },
    {
     "name": "stderr",
     "output_type": "stream",
     "text": [
      "findfont: Font family ['SimHei'] not found. Falling back to DejaVu Sans.\n"
     ]
    },
    {
     "name": "stdout",
     "output_type": "stream",
     "text": [
      " 13|  140   | 9.78197E-01 | 9.78197E-01 | 9.77512E-01 | 9.76961E-01 | 3.42263E-04 \n"
     ]
    },
    {
     "name": "stderr",
     "output_type": "stream",
     "text": [
      "/home/tjt/anaconda3/envs/tf2-frank/lib/python3.7/site-packages/geatpy/Algorithm.py:570: UserWarning: Glyph 31181 (\\N{CJK UNIFIED IDEOGRAPH-79CD}) missing from current font.\n",
      "  ylabels=[['Value']], gridFlags=[[False]])\n",
      "/home/tjt/anaconda3/envs/tf2-frank/lib/python3.7/site-packages/geatpy/Algorithm.py:570: UserWarning: Glyph 32676 (\\N{CJK UNIFIED IDEOGRAPH-7FA4}) missing from current font.\n",
      "  ylabels=[['Value']], gridFlags=[[False]])\n",
      "/home/tjt/anaconda3/envs/tf2-frank/lib/python3.7/site-packages/geatpy/Algorithm.py:570: UserWarning: Glyph 20010 (\\N{CJK UNIFIED IDEOGRAPH-4E2A}) missing from current font.\n",
      "  ylabels=[['Value']], gridFlags=[[False]])\n",
      "/home/tjt/anaconda3/envs/tf2-frank/lib/python3.7/site-packages/geatpy/Algorithm.py:570: UserWarning: Glyph 20307 (\\N{CJK UNIFIED IDEOGRAPH-4F53}) missing from current font.\n",
      "  ylabels=[['Value']], gridFlags=[[False]])\n",
      "/home/tjt/anaconda3/envs/tf2-frank/lib/python3.7/site-packages/geatpy/Algorithm.py:570: UserWarning: Glyph 24179 (\\N{CJK UNIFIED IDEOGRAPH-5E73}) missing from current font.\n",
      "  ylabels=[['Value']], gridFlags=[[False]])\n",
      "/home/tjt/anaconda3/envs/tf2-frank/lib/python3.7/site-packages/geatpy/Algorithm.py:570: UserWarning: Glyph 22343 (\\N{CJK UNIFIED IDEOGRAPH-5747}) missing from current font.\n",
      "  ylabels=[['Value']], gridFlags=[[False]])\n",
      "/home/tjt/anaconda3/envs/tf2-frank/lib/python3.7/site-packages/geatpy/Algorithm.py:570: UserWarning: Glyph 30446 (\\N{CJK UNIFIED IDEOGRAPH-76EE}) missing from current font.\n",
      "  ylabels=[['Value']], gridFlags=[[False]])\n",
      "/home/tjt/anaconda3/envs/tf2-frank/lib/python3.7/site-packages/geatpy/Algorithm.py:570: UserWarning: Glyph 26631 (\\N{CJK UNIFIED IDEOGRAPH-6807}) missing from current font.\n",
      "  ylabels=[['Value']], gridFlags=[[False]])\n",
      "/home/tjt/anaconda3/envs/tf2-frank/lib/python3.7/site-packages/geatpy/Algorithm.py:570: UserWarning: Glyph 20989 (\\N{CJK UNIFIED IDEOGRAPH-51FD}) missing from current font.\n",
      "  ylabels=[['Value']], gridFlags=[[False]])\n",
      "/home/tjt/anaconda3/envs/tf2-frank/lib/python3.7/site-packages/geatpy/Algorithm.py:570: UserWarning: Glyph 25968 (\\N{CJK UNIFIED IDEOGRAPH-6570}) missing from current font.\n",
      "  ylabels=[['Value']], gridFlags=[[False]])\n",
      "/home/tjt/anaconda3/envs/tf2-frank/lib/python3.7/site-packages/geatpy/Algorithm.py:570: UserWarning: Glyph 20540 (\\N{CJK UNIFIED IDEOGRAPH-503C}) missing from current font.\n",
      "  ylabels=[['Value']], gridFlags=[[False]])\n",
      "/home/tjt/anaconda3/envs/tf2-frank/lib/python3.7/site-packages/geatpy/Algorithm.py:570: UserWarning: Glyph 26368 (\\N{CJK UNIFIED IDEOGRAPH-6700}) missing from current font.\n",
      "  ylabels=[['Value']], gridFlags=[[False]])\n",
      "/home/tjt/anaconda3/envs/tf2-frank/lib/python3.7/site-packages/geatpy/Algorithm.py:570: UserWarning: Glyph 20248 (\\N{CJK UNIFIED IDEOGRAPH-4F18}) missing from current font.\n",
      "  ylabels=[['Value']], gridFlags=[[False]])\n",
      "/home/tjt/anaconda3/envs/tf2-frank/lib/python3.7/site-packages/IPython/core/pylabtools.py:151: UserWarning: Glyph 31181 (\\N{CJK UNIFIED IDEOGRAPH-79CD}) missing from current font.\n",
      "  fig.canvas.print_figure(bytes_io, **kw)\n",
      "/home/tjt/anaconda3/envs/tf2-frank/lib/python3.7/site-packages/IPython/core/pylabtools.py:151: UserWarning: Glyph 32676 (\\N{CJK UNIFIED IDEOGRAPH-7FA4}) missing from current font.\n",
      "  fig.canvas.print_figure(bytes_io, **kw)\n",
      "/home/tjt/anaconda3/envs/tf2-frank/lib/python3.7/site-packages/IPython/core/pylabtools.py:151: UserWarning: Glyph 20010 (\\N{CJK UNIFIED IDEOGRAPH-4E2A}) missing from current font.\n",
      "  fig.canvas.print_figure(bytes_io, **kw)\n",
      "/home/tjt/anaconda3/envs/tf2-frank/lib/python3.7/site-packages/IPython/core/pylabtools.py:151: UserWarning: Glyph 20307 (\\N{CJK UNIFIED IDEOGRAPH-4F53}) missing from current font.\n",
      "  fig.canvas.print_figure(bytes_io, **kw)\n",
      "/home/tjt/anaconda3/envs/tf2-frank/lib/python3.7/site-packages/IPython/core/pylabtools.py:151: UserWarning: Glyph 24179 (\\N{CJK UNIFIED IDEOGRAPH-5E73}) missing from current font.\n",
      "  fig.canvas.print_figure(bytes_io, **kw)\n",
      "/home/tjt/anaconda3/envs/tf2-frank/lib/python3.7/site-packages/IPython/core/pylabtools.py:151: UserWarning: Glyph 22343 (\\N{CJK UNIFIED IDEOGRAPH-5747}) missing from current font.\n",
      "  fig.canvas.print_figure(bytes_io, **kw)\n",
      "/home/tjt/anaconda3/envs/tf2-frank/lib/python3.7/site-packages/IPython/core/pylabtools.py:151: UserWarning: Glyph 30446 (\\N{CJK UNIFIED IDEOGRAPH-76EE}) missing from current font.\n",
      "  fig.canvas.print_figure(bytes_io, **kw)\n",
      "/home/tjt/anaconda3/envs/tf2-frank/lib/python3.7/site-packages/IPython/core/pylabtools.py:151: UserWarning: Glyph 26631 (\\N{CJK UNIFIED IDEOGRAPH-6807}) missing from current font.\n",
      "  fig.canvas.print_figure(bytes_io, **kw)\n",
      "/home/tjt/anaconda3/envs/tf2-frank/lib/python3.7/site-packages/IPython/core/pylabtools.py:151: UserWarning: Glyph 20989 (\\N{CJK UNIFIED IDEOGRAPH-51FD}) missing from current font.\n",
      "  fig.canvas.print_figure(bytes_io, **kw)\n",
      "/home/tjt/anaconda3/envs/tf2-frank/lib/python3.7/site-packages/IPython/core/pylabtools.py:151: UserWarning: Glyph 25968 (\\N{CJK UNIFIED IDEOGRAPH-6570}) missing from current font.\n",
      "  fig.canvas.print_figure(bytes_io, **kw)\n",
      "/home/tjt/anaconda3/envs/tf2-frank/lib/python3.7/site-packages/IPython/core/pylabtools.py:151: UserWarning: Glyph 20540 (\\N{CJK UNIFIED IDEOGRAPH-503C}) missing from current font.\n",
      "  fig.canvas.print_figure(bytes_io, **kw)\n",
      "/home/tjt/anaconda3/envs/tf2-frank/lib/python3.7/site-packages/IPython/core/pylabtools.py:151: UserWarning: Glyph 26368 (\\N{CJK UNIFIED IDEOGRAPH-6700}) missing from current font.\n",
      "  fig.canvas.print_figure(bytes_io, **kw)\n",
      "/home/tjt/anaconda3/envs/tf2-frank/lib/python3.7/site-packages/IPython/core/pylabtools.py:151: UserWarning: Glyph 20248 (\\N{CJK UNIFIED IDEOGRAPH-4F18}) missing from current font.\n",
      "  fig.canvas.print_figure(bytes_io, **kw)\n"
     ]
    },
    {
     "data": {
      "image/png": "[encoded data removed]",
      "text/plain": [
       "<Figure size 432x288 with 1 Axes>"
      ]
     },
     "metadata": {
      "needs_background": "light"
     },
     "output_type": "display_data"
    },
    {
     "name": "stdout",
     "output_type": "stream",
     "text": [
      "种群信息导出完毕。\n",
      "用时：9387.876168 秒\n",
      "评价次数：140 次\n",
      "最优的目标函数值为：0.9781971288488165\n",
      "最优的控制变量值为：\n",
      "228.87845625402406\n",
      "164.0901037666481\n",
      "MAE指标: 0.24164391636848448\n",
      "MSE指标: 0.11536939369101676\n",
      "RMSE指标 0.33966070377807434\n",
      "r2指标: 0.9859137922971934\n",
      "ev指标: 0.9872240293856445\n"
     ]
    }
   ],
   "source": [
    "\"\"\"===============================实例化问题对象===========================\"\"\"\n",
    "\n",
    "problem = RFIDLSTM(X_train, X_test, y_train, y_test) # 生成问题对象\n",
    "\n",
    "\"\"\"=================================种群设置===============================\"\"\"\n",
    "\n",
    "Encoding = 'RI'       # 编码方式\n",
    "NIND = 10             # 种群规模\n",
    "Field = ea.crtfld(Encoding, problem.varTypes, problem.ranges, problem.borders) # 创建区域描述器\n",
    "population = ea.Population(Encoding, Field, NIND) # 实例化种群对象（此时种群还没被初始化，仅仅是完成种群对象的实例化）\n",
    "\n",
    "\"\"\"===============================算法参数设置=============================\"\"\"\n",
    "\n",
    "myAlgorithm = ea.soea_DE_rand_1_bin_templet(problem, population) # 实例化一个算法模板对象\n",
    "myAlgorithm.MAXGEN = 30 # 最大进化代数\n",
    "myAlgorithm.trappedValue = 1e-6 # “进化停滞”判断阈值\n",
    "myAlgorithm.maxTrappedCount = 10 # 进化停滞计数器最大上限值，如果连续maxTrappedCount代被判定进化陷入停滞，则终止进化\n",
    "myAlgorithm.logTras = 1  # 设置每隔多少代记录日志，若设置成0则表示不记录日志\n",
    "myAlgorithm.verbose = True  # 设置是否打印输出日志信息\n",
    "myAlgorithm.drawing = 1  # 设置绘图方式（0：不绘图；1：绘制结果图；2：绘制目标空间过程动画；3：绘制决策空间过程动画）\n",
    "\n",
    "\"\"\"===========================调用算法模板进行种群进化=======================\"\"\"\n",
    "\n",
    "[BestIndi, population] = myAlgorithm.run()  # 执行算法模板，得到最优个体以及最后一代种群\n",
    "BestIndi.save()  # 把最优个体的信息保存到文件中\n",
    "\n",
    "\"\"\"==================================输出结果=============================\"\"\"\n",
    "\n",
    "print('用时：%f 秒' % myAlgorithm.passTime)\n",
    "print('评价次数：%d 次' % myAlgorithm.evalsNum)\n",
    "if BestIndi.sizes != 0:\n",
    "    print('最优的目标函数值为：%s' % BestIndi.ObjV[0][0])\n",
    "    print('最优的控制变量值为：')\n",
    "    for i in range(BestIndi.Phen.shape[1]):\n",
    "        print(BestIndi.Phen[0, i])\n",
    "else:\n",
    "    print('没找到可行解。')\n",
    "    \n",
    "\"\"\"=================================检验结果===============================\"\"\"\n",
    "\n",
    "problem.test(epochs= int(BestIndi.Phen[0][0]), batch_size= int(BestIndi.Phen[0][1]))\n"
   ]
  },
  {
   "cell_type": "code",
   "execution_count": null,
   "id": "7df8a50e",
   "metadata": {},
   "outputs": [],
   "source": []
  }
 ],
 "metadata": {
  "kernelspec": {
   "display_name": "tensorflow",
   "language": "python",
   "name": "tensorflow"
  },
  "language_info": {
   "codemirror_mode": {
    "name": "ipython",
    "version": 3
   },
   "file_extension": ".py",
   "mimetype": "text/x-python",
   "name": "python",
   "nbconvert_exporter": "python",
   "pygments_lexer": "ipython3",
   "version": "3.7.12"
  },
  "toc": {
   "base_numbering": 1,
   "nav_menu": {},
   "number_sections": true,
   "sideBar": true,
   "skip_h1_title": false,
   "title_cell": "Table of Contents",
   "title_sidebar": "Contents",
   "toc_cell": false,
   "toc_position": {},
   "toc_section_display": true,
   "toc_window_display": true
  }
 },
 "nbformat": 4,
 "nbformat_minor": 5
}
