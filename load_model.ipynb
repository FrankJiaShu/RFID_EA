{
 "cells": [
  {
   "cell_type": "markdown",
   "id": "1fbabddf",
   "metadata": {},
   "source": [
    "# 加载训练模型实验"
   ]
  },
  {
   "cell_type": "markdown",
   "id": "76d3cfe0",
   "metadata": {},
   "source": [
    "## 数据准备与加载"
   ]
  },
  {
   "cell_type": "code",
   "execution_count": 1,
   "id": "d8562b1a",
   "metadata": {},
   "outputs": [],
   "source": [
    "import joblib\n",
    "import math\n",
    "import copy\n",
    "import time\n",
    "import numpy as np\n",
    "import pandas as pd\n",
    "from tensorflow.keras.models import load_model \n",
    "from sklearn.model_selection import train_test_split\n",
    "from sklearn.metrics import mean_absolute_error, explained_variance_score, r2_score, mean_squared_error"
   ]
  },
  {
   "cell_type": "code",
   "execution_count": 2,
   "id": "33feaec8",
   "metadata": {},
   "outputs": [],
   "source": [
    "# 加载训练数据\n",
    "def load_data(path):\n",
    "    df = pd.read_csv(path)\n",
    "    dv = df.values\n",
    "    X = dv[:, 1:-2]\n",
    "    Y = dv[:, -2:]\n",
    "    return X[:, :, np.newaxis], Y\n",
    "\n",
    "# 数据准备\n",
    "X, y = load_data('./dataset/location_data.csv')\n",
    "X_train, X_test, y_train, y_test = train_test_split(X, y, test_size=0.2, random_state=2021)\n",
    "\n",
    "X02, y02 = load_data('./dataset/location_data02.csv')\n",
    "\n",
    "# 针对b_gru处理数据\n",
    "X_train_2 = copy.deepcopy(X_train)\n",
    "X_test_2 = copy.deepcopy(X_test)\n",
    "X02_2 = copy.deepcopy(X02)\n",
    "for i in range(len(X_train_2)):\n",
    "    for j in range(len(X_train_2[i])-1, 0, -1):\n",
    "        X_train_2[i][j] = X_train_2[i][j] - X_train_2[i][j-1]\n",
    "for i in range(len(X_test_2)):\n",
    "    for j in range(len(X_test_2[i]) - 1, 0, -1):\n",
    "        X_test_2[i][j] = X_test_2[i][j] - X_test_2[i][j-1]   \n",
    "for i in range(len(X02_2)):\n",
    "    for j in range(len(X02_2[i])-1, 0, -1):\n",
    "        X02_2[i][j] = X02_2[i][j] - X02_2[i][j-1]"
   ]
  },
  {
   "cell_type": "markdown",
   "id": "86561bba-9d4d-4e00-8245-4d4b871a6789",
   "metadata": {},
   "source": [
    "## 创建展示结果"
   ]
  },
  {
   "cell_type": "code",
   "execution_count": 28,
   "id": "8828d937-0933-4121-9d0e-027084ca01c3",
   "metadata": {},
   "outputs": [
    {
     "data": {
      "text/html": [
       "<div>\n",
       "<style scoped>\n",
       "    .dataframe tbody tr th:only-of-type {\n",
       "        vertical-align: middle;\n",
       "    }\n",
       "\n",
       "    .dataframe tbody tr th {\n",
       "        vertical-align: top;\n",
       "    }\n",
       "\n",
       "    .dataframe thead th {\n",
       "        text-align: right;\n",
       "    }\n",
       "</style>\n",
       "<table border=\"1\" class=\"dataframe\">\n",
       "  <thead>\n",
       "    <tr style=\"text-align: right;\">\n",
       "      <th></th>\n",
       "      <th>MAE</th>\n",
       "      <th>RMSE</th>\n",
       "      <th>R2</th>\n",
       "      <th>TIME</th>\n",
       "    </tr>\n",
       "  </thead>\n",
       "  <tbody>\n",
       "    <tr>\n",
       "      <th>RNN</th>\n",
       "      <td>0</td>\n",
       "      <td>0</td>\n",
       "      <td>0</td>\n",
       "      <td>0</td>\n",
       "    </tr>\n",
       "    <tr>\n",
       "      <th>DNN</th>\n",
       "      <td>0</td>\n",
       "      <td>0</td>\n",
       "      <td>0</td>\n",
       "      <td>0</td>\n",
       "    </tr>\n",
       "    <tr>\n",
       "      <th>SVM</th>\n",
       "      <td>0</td>\n",
       "      <td>0</td>\n",
       "      <td>0</td>\n",
       "      <td>0</td>\n",
       "    </tr>\n",
       "    <tr>\n",
       "      <th>LSTM</th>\n",
       "      <td>0</td>\n",
       "      <td>0</td>\n",
       "      <td>0</td>\n",
       "      <td>0</td>\n",
       "    </tr>\n",
       "    <tr>\n",
       "      <th>GRU</th>\n",
       "      <td>0</td>\n",
       "      <td>0</td>\n",
       "      <td>0</td>\n",
       "      <td>0</td>\n",
       "    </tr>\n",
       "    <tr>\n",
       "      <th>B_GRU</th>\n",
       "      <td>0</td>\n",
       "      <td>0</td>\n",
       "      <td>0</td>\n",
       "      <td>0</td>\n",
       "    </tr>\n",
       "  </tbody>\n",
       "</table>\n",
       "</div>"
      ],
      "text/plain": [
       "       MAE  RMSE  R2  TIME\n",
       "RNN      0     0   0     0\n",
       "DNN      0     0   0     0\n",
       "SVM      0     0   0     0\n",
       "LSTM     0     0   0     0\n",
       "GRU      0     0   0     0\n",
       "B_GRU    0     0   0     0"
      ]
     },
     "execution_count": 28,
     "metadata": {},
     "output_type": "execute_result"
    }
   ],
   "source": [
    "# arr = np.zeros((10, 4), dtype=int)\n",
    "# res = pd.DataFrame(arr, index = ['LSTM','LSTM_loss','SVM','RNN','RNN_loss','DNN','GRU','GRU_loss','B_GRU','B_GRU_loss'], \n",
    "#                    columns = ['MAE', 'RMSE','R2','TIME'])\n",
    "\n",
    "arr = np.zeros((6, 4), dtype=int)\n",
    "res = pd.DataFrame(arr, index = ['RNN', 'DNN', 'SVM', 'LSTM', 'GRU', 'B_GRU'], \n",
    "                   columns = ['MAE', 'RMSE', 'R2', 'TIME'])\n",
    "res"
   ]
  },
  {
   "cell_type": "markdown",
   "id": "6b049d03",
   "metadata": {},
   "source": [
    "## 导入双SVR模型计算指标"
   ]
  },
  {
   "cell_type": "code",
   "execution_count": 29,
   "id": "1c46e0a0",
   "metadata": {},
   "outputs": [
    {
     "name": "stderr",
     "output_type": "stream",
     "text": [
      "/Users/frank/anaconda3/envs/tensorflow/lib/python3.7/site-packages/sklearn/base.py:333: UserWarning: Trying to unpickle estimator SVR from version 0.23.2 when using version 1.0.1. This might lead to breaking code or invalid results. Use at your own risk. For more info please refer to:\n",
      "https://scikit-learn.org/stable/modules/model_persistence.html#security-maintainability-limitations\n",
      "  UserWarning,\n"
     ]
    }
   ],
   "source": [
    "# 加载坐标模型\n",
    "model_x = joblib.load('./models/SVR_x_2021.model')\n",
    "model_y = joblib.load('./models/SVR_y_2021.model')"
   ]
  },
  {
   "cell_type": "code",
   "execution_count": 30,
   "id": "b84485da",
   "metadata": {},
   "outputs": [
    {
     "name": "stdout",
     "output_type": "stream",
     "text": [
      "[[2.019872536804463, 1.1504658854707914], [1.9174415171418377, 4.857493601728745], [2.8777523461834495, 8.218324483304807], [4.3622108033891775, 0.6274118267515414], [4.055571006636194, 6.1590862433955], [5.350674626615138, 2.8127786337651046], [6.42470271360842, 8.819694579139078], [6.980132678366614, 5.587903226497848], [8.356732356614094, 1.3613988644955959], [9.286397538342719, 7.910289796490444]]\n",
      "MAE指标: 0.3727123714581049\n",
      "MSE指标: 0.21134940529974042\n",
      "RMSE指标: 0.45972753376292397\n",
      "r2指标: 0.9740350753248724\n",
      "ev指标: 0.9785745183118661\n",
      "time: 0.01831674575805664\n"
     ]
    }
   ],
   "source": [
    "start = time.time()\n",
    "# 预测结果分析\n",
    "px = model_x.predict(X02.reshape(20, 100))\n",
    "py = model_y.predict(X02.reshape(20, 100))\n",
    "pxy = [[xi, yi] for xi, yi in zip(px, py)]\n",
    "print(pxy[:10])\n",
    "print('MAE指标:', mean_absolute_error(y02, pxy))\n",
    "print('MSE指标:', mean_squared_error(y02, pxy))\n",
    "print('RMSE指标:', math.sqrt(mean_squared_error(y02, pxy)))\n",
    "print('r2指标:', r2_score(y02, pxy))\n",
    "print('ev指标:', explained_variance_score(y02, pxy))\n",
    "end = time.time()\n",
    "print('time:', end-start)"
   ]
  },
  {
   "cell_type": "code",
   "execution_count": 31,
   "id": "0cc14fcc-ac6d-49b9-b243-c7d596d7faaa",
   "metadata": {},
   "outputs": [],
   "source": [
    "res.loc['SVM','MAE'] = mean_absolute_error(y02, pxy)\n",
    "res.loc['SVM','RMSE'] = math.sqrt(mean_squared_error(y02, pxy))\n",
    "res.loc['SVM','R2'] = r2_score(y02, pxy)\n",
    "res.loc['SVM','TIME'] = end-start"
   ]
  },
  {
   "cell_type": "markdown",
   "id": "789114fa",
   "metadata": {},
   "source": [
    "## 导入LSTM模型计算指标"
   ]
  },
  {
   "cell_type": "code",
   "execution_count": 32,
   "id": "bf61bbfa",
   "metadata": {},
   "outputs": [
    {
     "name": "stdout",
     "output_type": "stream",
     "text": [
      "Model: \"sequential_1\"\n",
      "_________________________________________________________________\n",
      "Layer (type)                 Output Shape              Param #   \n",
      "=================================================================\n",
      "lstm_1 (LSTM)                (None, 100)               40800     \n",
      "_________________________________________________________________\n",
      "dense_1 (Dense)              (None, 2)                 202       \n",
      "=================================================================\n",
      "Total params: 41,002\n",
      "Trainable params: 41,002\n",
      "Non-trainable params: 0\n",
      "_________________________________________________________________\n"
     ]
    }
   ],
   "source": [
    "# 加载预训练模型\n",
    "lstm = load_model('./models/LSTM_2021.h5')\n",
    "lstm.summary()"
   ]
  },
  {
   "cell_type": "code",
   "execution_count": 33,
   "id": "82cff5b1",
   "metadata": {},
   "outputs": [
    {
     "name": "stdout",
     "output_type": "stream",
     "text": [
      "MAE指标: 0.3008994502909482\n",
      "MSE指标: 0.1800757818445658\n",
      "RMSE指标: 0.4243533690741312\n",
      "r2指标: 0.9750130417615185\n",
      "ev指标: 0.9780773835064166\n",
      "time: 0.5652210712432861\n"
     ]
    }
   ],
   "source": [
    "start = time.time()\n",
    "# 预测测试集计算指标\n",
    "pxy = lstm.predict(X_test)\n",
    "pxy = np.squeeze(pxy)\n",
    "print('MAE指标:', mean_absolute_error(y_test, pxy))\n",
    "print('MSE指标:', mean_squared_error(y_test, pxy))\n",
    "print('RMSE指标:', math.sqrt(mean_squared_error(y_test, pxy)))\n",
    "print('r2指标:', r2_score(y_test, pxy))\n",
    "print('ev指标:', explained_variance_score(y_test, pxy))\n",
    "end = time.time()\n",
    "print('time:', end-start)"
   ]
  },
  {
   "cell_type": "code",
   "execution_count": 34,
   "id": "48c899d6",
   "metadata": {},
   "outputs": [
    {
     "name": "stdout",
     "output_type": "stream",
     "text": [
      "MAE指标: 0.24164391636848448\n",
      "MSE指标: 0.11536939369101676\n",
      "RMSE指标: 0.33966070377807434\n",
      "r2指标: 0.9859137922971934\n",
      "ev指标: 0.9872240293856445\n",
      "time: 0.06300115585327148\n"
     ]
    }
   ],
   "source": [
    "start = time.time()\n",
    "# 02数据预测计算指标\n",
    "pxy = lstm.predict(X02)\n",
    "pxy = np.squeeze(pxy)\n",
    "print('MAE指标:', mean_absolute_error(y02, pxy))\n",
    "print('MSE指标:', mean_squared_error(y02, pxy))\n",
    "print('RMSE指标:', math.sqrt(mean_squared_error(y02, pxy)))\n",
    "print('r2指标:', r2_score(y02, pxy))\n",
    "print('ev指标:', explained_variance_score(y02, pxy))\n",
    "end = time.time()\n",
    "print('time:', end-start)"
   ]
  },
  {
   "cell_type": "code",
   "execution_count": 35,
   "id": "b0a90bd7-5084-4c93-b7cf-39073b6d92d1",
   "metadata": {},
   "outputs": [],
   "source": [
    "res.loc['LSTM','MAE'] = mean_absolute_error(y02, pxy)\n",
    "res.loc['LSTM','RMSE'] = math.sqrt(mean_squared_error(y02, pxy))\n",
    "res.loc['LSTM','R2'] = r2_score(y02, pxy)\n",
    "res.loc['LSTM','TIME'] = end-start"
   ]
  },
  {
   "cell_type": "markdown",
   "id": "3fe11908-82a5-41af-bb2c-634bcd4a7216",
   "metadata": {},
   "source": [
    "## 导入RNN模型计算指标"
   ]
  },
  {
   "cell_type": "code",
   "execution_count": 36,
   "id": "d3f40bec-9f24-40f9-adb6-51eafeda03e2",
   "metadata": {},
   "outputs": [
    {
     "name": "stdout",
     "output_type": "stream",
     "text": [
      "Model: \"sequential_1\"\n",
      "_________________________________________________________________\n",
      "Layer (type)                 Output Shape              Param #   \n",
      "=================================================================\n",
      "simple_rnn_1 (SimpleRNN)     (None, 100)               10200     \n",
      "_________________________________________________________________\n",
      "dense_1 (Dense)              (None, 2)                 202       \n",
      "=================================================================\n",
      "Total params: 10,402\n",
      "Trainable params: 10,402\n",
      "Non-trainable params: 0\n",
      "_________________________________________________________________\n"
     ]
    }
   ],
   "source": [
    "# 加载预训练模型\n",
    "rnn = load_model('./models/RNN_2021.h5')\n",
    "rnn.summary()"
   ]
  },
  {
   "cell_type": "code",
   "execution_count": 37,
   "id": "9e8b96d9-6ed4-421e-bbf4-9e92c2324b88",
   "metadata": {},
   "outputs": [
    {
     "name": "stdout",
     "output_type": "stream",
     "text": [
      "MAE指标: 1.6656959114372745\n",
      "MSE指标: 4.118840812627927\n",
      "RMSE指标: 2.0294927476164895\n",
      "r2指标: 0.4394924041787337\n",
      "ev指标: 0.45112126522271057\n",
      "time: 0.19918417930603027\n"
     ]
    }
   ],
   "source": [
    "start = time.time()\n",
    "# 预测测试集计算指标\n",
    "pxy = rnn.predict(X_test)\n",
    "pxy = np.squeeze(pxy)\n",
    "print('MAE指标:', mean_absolute_error(y_test, pxy))\n",
    "print('MSE指标:', mean_squared_error(y_test, pxy))\n",
    "print('RMSE指标:', math.sqrt(mean_squared_error(y_test, pxy)))\n",
    "print('r2指标:', r2_score(y_test, pxy))\n",
    "print('ev指标:', explained_variance_score(y_test, pxy))\n",
    "end = time.time()\n",
    "print('time:', end-start)"
   ]
  },
  {
   "cell_type": "code",
   "execution_count": 38,
   "id": "e2a01955-cedb-4c65-9233-788dec53a2af",
   "metadata": {},
   "outputs": [
    {
     "name": "stdout",
     "output_type": "stream",
     "text": [
      "MAE指标: 1.7757722589969636\n",
      "MSE指标: 4.573417597966725\n",
      "RMSE指标: 2.1385550257046755\n",
      "r2指标: 0.43664256207608587\n",
      "ev指标: 0.46001657646560545\n",
      "time: 0.052778005599975586\n"
     ]
    }
   ],
   "source": [
    "start = time.time()\n",
    "# 02数据预测计算指标\n",
    "pxy = rnn.predict(X02)\n",
    "pxy = np.squeeze(pxy)\n",
    "print('MAE指标:', mean_absolute_error(y02, pxy))\n",
    "print('MSE指标:', mean_squared_error(y02, pxy))\n",
    "print('RMSE指标:', math.sqrt(mean_squared_error(y02, pxy)))\n",
    "print('r2指标:', r2_score(y02, pxy))\n",
    "print('ev指标:', explained_variance_score(y02, pxy))\n",
    "end = time.time()\n",
    "print('time:', end-start)"
   ]
  },
  {
   "cell_type": "code",
   "execution_count": 39,
   "id": "4eb9a2c6-bfdc-4369-acb7-eb407ccea0ab",
   "metadata": {},
   "outputs": [],
   "source": [
    "res.loc['RNN','MAE'] = mean_absolute_error(y02, pxy)\n",
    "res.loc['RNN','RMSE'] = math.sqrt(mean_squared_error(y02, pxy))\n",
    "res.loc['RNN','R2'] = r2_score(y02, pxy)\n",
    "res.loc['RNN','TIME'] = end-start"
   ]
  },
  {
   "cell_type": "markdown",
   "id": "3e53e089-5512-4402-a732-fee09a898070",
   "metadata": {},
   "source": [
    "## 导入DNN模型计算指标"
   ]
  },
  {
   "cell_type": "code",
   "execution_count": 40,
   "id": "67b70ad1-6b97-4e26-ae44-a246b73ed297",
   "metadata": {},
   "outputs": [
    {
     "name": "stdout",
     "output_type": "stream",
     "text": [
      "Model: \"sequential_1\"\n",
      "_________________________________________________________________\n",
      "Layer (type)                 Output Shape              Param #   \n",
      "=================================================================\n",
      "dense_3 (Dense)              (None, 100)               10100     \n",
      "_________________________________________________________________\n",
      "dense_4 (Dense)              (None, 10)                1010      \n",
      "_________________________________________________________________\n",
      "dense_5 (Dense)              (None, 2)                 22        \n",
      "=================================================================\n",
      "Total params: 11,132\n",
      "Trainable params: 11,132\n",
      "Non-trainable params: 0\n",
      "_________________________________________________________________\n"
     ]
    }
   ],
   "source": [
    "# 加载预训练模型\n",
    "dnn = load_model('./models/DNN_2021.h5')\n",
    "dnn.summary()"
   ]
  },
  {
   "cell_type": "code",
   "execution_count": 41,
   "id": "587b9077-7bb7-4cbf-920b-fbd3be2d691f",
   "metadata": {},
   "outputs": [
    {
     "name": "stdout",
     "output_type": "stream",
     "text": [
      "MAE指标: 0.5923504185073079\n",
      "MSE指标: 0.5842110479024896\n",
      "RMSE指标: 0.7643369989098326\n",
      "r2指标: 0.9210565716676742\n",
      "ev指标: 0.9299811005363616\n",
      "time: 0.09030818939208984\n"
     ]
    }
   ],
   "source": [
    "start = time.time()\n",
    "# 预测测试集计算指标\n",
    "pxy = dnn.predict(X_test.reshape(400, 100))\n",
    "pxy = np.squeeze(pxy)\n",
    "print('MAE指标:', mean_absolute_error(y_test, pxy))\n",
    "print('MSE指标:', mean_squared_error(y_test, pxy))\n",
    "print('RMSE指标:', math.sqrt(mean_squared_error(y_test, pxy)))\n",
    "print('r2指标:', r2_score(y_test, pxy))\n",
    "print('ev指标:', explained_variance_score(y_test, pxy))\n",
    "end = time.time()\n",
    "print('time:', end-start)"
   ]
  },
  {
   "cell_type": "code",
   "execution_count": 42,
   "id": "5bb13dc0-1656-4d67-aec0-8a32901d7be4",
   "metadata": {},
   "outputs": [
    {
     "name": "stdout",
     "output_type": "stream",
     "text": [
      "MAE指标: 0.4972196419835091\n",
      "MSE指标: 0.4285942016590419\n",
      "RMSE指标: 0.6546710637098924\n",
      "r2指标: 0.9472487192311967\n",
      "ev指标: 0.9538703052119051\n",
      "time: 0.04231882095336914\n"
     ]
    }
   ],
   "source": [
    "start = time.time()\n",
    "# 02数据预测计算指标\n",
    "pxy = dnn.predict(X02.reshape(20, 100))\n",
    "pxy = np.squeeze(pxy)\n",
    "print('MAE指标:', mean_absolute_error(y02, pxy))\n",
    "print('MSE指标:', mean_squared_error(y02, pxy))\n",
    "print('RMSE指标:', math.sqrt(mean_squared_error(y02, pxy)))\n",
    "print('r2指标:', r2_score(y02, pxy))\n",
    "print('ev指标:', explained_variance_score(y02, pxy))\n",
    "end = time.time()\n",
    "print('time:', end-start)"
   ]
  },
  {
   "cell_type": "code",
   "execution_count": 43,
   "id": "4e46a935-0b73-4e07-8d0d-129550d9ee37",
   "metadata": {},
   "outputs": [],
   "source": [
    "res.loc['DNN','MAE'] = mean_absolute_error(y02, pxy)\n",
    "res.loc['DNN','RMSE'] = math.sqrt(mean_squared_error(y02, pxy))\n",
    "res.loc['DNN','R2'] = r2_score(y02, pxy)\n",
    "res.loc['DNN','TIME'] = end-start"
   ]
  },
  {
   "cell_type": "markdown",
   "id": "ad1edabd-f7a0-4dec-83ae-e70d7493187b",
   "metadata": {},
   "source": [
    "## 导入GRU模型计算指标"
   ]
  },
  {
   "cell_type": "code",
   "execution_count": 44,
   "id": "34cd0d2c-c50c-4d78-b1d8-d2ae49f023a9",
   "metadata": {},
   "outputs": [
    {
     "name": "stdout",
     "output_type": "stream",
     "text": [
      "Model: \"sequential\"\n",
      "_________________________________________________________________\n",
      "Layer (type)                 Output Shape              Param #   \n",
      "=================================================================\n",
      "gru (GRU)                    (None, 100)               30900     \n",
      "_________________________________________________________________\n",
      "dense (Dense)                (None, 2)                 202       \n",
      "=================================================================\n",
      "Total params: 31,102\n",
      "Trainable params: 31,102\n",
      "Non-trainable params: 0\n",
      "_________________________________________________________________\n"
     ]
    }
   ],
   "source": [
    "# 加载预训练模型\n",
    "gru = load_model('./models/GRU_2021.h5')\n",
    "gru.summary()"
   ]
  },
  {
   "cell_type": "code",
   "execution_count": 45,
   "id": "89d7311e-1ad1-4442-90bf-3b3470517964",
   "metadata": {},
   "outputs": [
    {
     "name": "stdout",
     "output_type": "stream",
     "text": [
      "MAE指标: 0.2756353968404236\n",
      "MSE指标: 0.15056168751058732\n",
      "RMSE指标: 0.38802279251428945\n",
      "r2指标: 0.9791365168960855\n",
      "ev指标: 0.9791504838038096\n",
      "time: 0.4181098937988281\n"
     ]
    }
   ],
   "source": [
    "start = time.time()\n",
    "# 预测测试集计算指标\n",
    "pxy = gru.predict(X_test.reshape(400, 100, 1))\n",
    "pxy = np.squeeze(pxy)\n",
    "print('MAE指标:', mean_absolute_error(y_test, pxy))\n",
    "print('MSE指标:', mean_squared_error(y_test, pxy))\n",
    "print('RMSE指标:', math.sqrt(mean_squared_error(y_test, pxy)))\n",
    "print('r2指标:', r2_score(y_test, pxy))\n",
    "print('ev指标:', explained_variance_score(y_test, pxy))\n",
    "end = time.time()\n",
    "print('time:', end-start)"
   ]
  },
  {
   "cell_type": "code",
   "execution_count": 46,
   "id": "1b806a27-fc1c-4613-a874-e9d6b87c1b63",
   "metadata": {},
   "outputs": [
    {
     "name": "stdout",
     "output_type": "stream",
     "text": [
      "MAE指标: 0.18800129586458203\n",
      "MSE指标: 0.06782028395047054\n",
      "RMSE指标: 0.2604232784343031\n",
      "r2指标: 0.9917356271220192\n",
      "ev指标: 0.991864596407389\n",
      "time: 0.053143978118896484\n"
     ]
    }
   ],
   "source": [
    "start = time.time()\n",
    "# 02数据预测计算指标\n",
    "pxy = gru.predict(X02.reshape(20, 100, 1))\n",
    "pxy = np.squeeze(pxy)\n",
    "print('MAE指标:', mean_absolute_error(y02, pxy))\n",
    "print('MSE指标:', mean_squared_error(y02, pxy))\n",
    "print('RMSE指标:', math.sqrt(mean_squared_error(y02, pxy)))\n",
    "print('r2指标:', r2_score(y02, pxy))\n",
    "print('ev指标:', explained_variance_score(y02, pxy))\n",
    "end = time.time()\n",
    "print('time:', end-start)"
   ]
  },
  {
   "cell_type": "code",
   "execution_count": 47,
   "id": "79cb2c81-8a71-40d3-a420-e0135b2ef28f",
   "metadata": {},
   "outputs": [],
   "source": [
    "res.loc['GRU','MAE'] = mean_absolute_error(y02, pxy)\n",
    "res.loc['GRU','RMSE'] = math.sqrt(mean_squared_error(y02, pxy))\n",
    "res.loc['GRU','R2'] = r2_score(y02, pxy)\n",
    "res.loc['GRU','TIME'] = end-start"
   ]
  },
  {
   "cell_type": "markdown",
   "id": "df942c73-fdfa-40e7-a871-e18371960c45",
   "metadata": {},
   "source": [
    "## 导入B_GRU模型计算指标"
   ]
  },
  {
   "cell_type": "code",
   "execution_count": 48,
   "id": "055a804e-bf4a-4bb0-b7c3-f35ce3cd8c9c",
   "metadata": {},
   "outputs": [
    {
     "name": "stdout",
     "output_type": "stream",
     "text": [
      "Model: \"Model\"\n",
      "__________________________________________________________________________________________________\n",
      "Layer (type)                    Output Shape         Param #     Connected to                     \n",
      "==================================================================================================\n",
      "input_3 (InputLayer)            [(None, 100, 1)]     0                                            \n",
      "__________________________________________________________________________________________________\n",
      "input_4 (InputLayer)            [(None, 100, 1)]     0                                            \n",
      "__________________________________________________________________________________________________\n",
      "gru_2 (GRU)                     (None, 100)          30900       input_3[0][0]                    \n",
      "__________________________________________________________________________________________________\n",
      "gru_3 (GRU)                     (None, 100)          30900       input_4[0][0]                    \n",
      "__________________________________________________________________________________________________\n",
      "concatenate_1 (Concatenate)     (None, 200)          0           gru_2[0][0]                      \n",
      "                                                                 gru_3[0][0]                      \n",
      "__________________________________________________________________________________________________\n",
      "dense_1 (Dense)                 (None, 2)            402         concatenate_1[0][0]              \n",
      "==================================================================================================\n",
      "Total params: 62,202\n",
      "Trainable params: 62,202\n",
      "Non-trainable params: 0\n",
      "__________________________________________________________________________________________________\n"
     ]
    }
   ],
   "source": [
    "# 加载预训练模型\n",
    "bgru = load_model('./models/B_GRU_2021.h5')\n",
    "bgru.summary()"
   ]
  },
  {
   "cell_type": "code",
   "execution_count": 49,
   "id": "ee1b0816-01c4-4493-bbfc-e2c59098ff00",
   "metadata": {},
   "outputs": [
    {
     "name": "stdout",
     "output_type": "stream",
     "text": [
      "MAE指标: 0.29613184619713584\n",
      "MSE指标: 0.17426436188599503\n",
      "RMSE指标: 0.41744983157979\n",
      "r2指标: 0.9759176550884424\n",
      "ev指标: 0.9769253439527762\n",
      "time: 0.8249709606170654\n"
     ]
    }
   ],
   "source": [
    "start = time.time()\n",
    "# 预测测试集计算指标\n",
    "pxy = bgru.predict([X_test, X_test_2])\n",
    "pxy = np.squeeze(pxy)\n",
    "print('MAE指标:', mean_absolute_error(y_test, pxy))\n",
    "print('MSE指标:', mean_squared_error(y_test, pxy))\n",
    "print('RMSE指标:', math.sqrt(mean_squared_error(y_test, pxy)))\n",
    "print('r2指标:', r2_score(y_test, pxy))\n",
    "print('ev指标:', explained_variance_score(y_test, pxy))\n",
    "end = time.time()\n",
    "print('time:', end-start)"
   ]
  },
  {
   "cell_type": "code",
   "execution_count": 50,
   "id": "1e6e7634-880a-4482-b744-006e2c908b80",
   "metadata": {},
   "outputs": [
    {
     "name": "stdout",
     "output_type": "stream",
     "text": [
      "MAE指标: 0.26058854961395267\n",
      "MSE指标: 0.11675852761181657\n",
      "RMSE指标: 0.3416994697271516\n",
      "r2指标: 0.9857048121084138\n",
      "ev指标: 0.9881319972495695\n",
      "time: 0.05066227912902832\n"
     ]
    }
   ],
   "source": [
    "start = time.time()\n",
    "# 02数据预测计算指标\n",
    "pxy = bgru.predict([X02, X02_2])\n",
    "pxy = np.squeeze(pxy)\n",
    "print('MAE指标:', mean_absolute_error(y02, pxy))\n",
    "print('MSE指标:', mean_squared_error(y02, pxy))\n",
    "print('RMSE指标:', math.sqrt(mean_squared_error(y02, pxy)))\n",
    "print('r2指标:', r2_score(y02, pxy))\n",
    "print('ev指标:', explained_variance_score(y02, pxy))\n",
    "end = time.time()\n",
    "print('time:', end-start)"
   ]
  },
  {
   "cell_type": "code",
   "execution_count": 51,
   "id": "a797647e-7d36-4843-8ca3-ccc61a2d32f1",
   "metadata": {},
   "outputs": [],
   "source": [
    "res.loc['B_GRU','MAE'] = mean_absolute_error(y02, pxy)\n",
    "res.loc['B_GRU','RMSE'] = math.sqrt(mean_squared_error(y02, pxy))\n",
    "res.loc['B_GRU','R2'] = r2_score(y02, pxy)\n",
    "res.loc['B_GRU','TIME'] = end-start"
   ]
  },
  {
   "cell_type": "markdown",
   "id": "6b16e54e-3b29-44be-bdd2-0abc46266cd6",
   "metadata": {},
   "source": [
    "## 查看统计结果并保存"
   ]
  },
  {
   "cell_type": "code",
   "execution_count": 52,
   "id": "dfcb036d-b6c8-4475-b3a1-d942b7927424",
   "metadata": {},
   "outputs": [
    {
     "data": {
      "text/html": [
       "<div>\n",
       "<style scoped>\n",
       "    .dataframe tbody tr th:only-of-type {\n",
       "        vertical-align: middle;\n",
       "    }\n",
       "\n",
       "    .dataframe tbody tr th {\n",
       "        vertical-align: top;\n",
       "    }\n",
       "\n",
       "    .dataframe thead th {\n",
       "        text-align: right;\n",
       "    }\n",
       "</style>\n",
       "<table border=\"1\" class=\"dataframe\">\n",
       "  <thead>\n",
       "    <tr style=\"text-align: right;\">\n",
       "      <th></th>\n",
       "      <th>MAE</th>\n",
       "      <th>RMSE</th>\n",
       "      <th>R2</th>\n",
       "      <th>TIME</th>\n",
       "    </tr>\n",
       "  </thead>\n",
       "  <tbody>\n",
       "    <tr>\n",
       "      <th>RNN</th>\n",
       "      <td>1.775772</td>\n",
       "      <td>2.138555</td>\n",
       "      <td>0.436643</td>\n",
       "      <td>0.052778</td>\n",
       "    </tr>\n",
       "    <tr>\n",
       "      <th>DNN</th>\n",
       "      <td>0.497220</td>\n",
       "      <td>0.654671</td>\n",
       "      <td>0.947249</td>\n",
       "      <td>0.042319</td>\n",
       "    </tr>\n",
       "    <tr>\n",
       "      <th>SVM</th>\n",
       "      <td>0.372712</td>\n",
       "      <td>0.459728</td>\n",
       "      <td>0.974035</td>\n",
       "      <td>0.018317</td>\n",
       "    </tr>\n",
       "    <tr>\n",
       "      <th>LSTM</th>\n",
       "      <td>0.241644</td>\n",
       "      <td>0.339661</td>\n",
       "      <td>0.985914</td>\n",
       "      <td>0.063001</td>\n",
       "    </tr>\n",
       "    <tr>\n",
       "      <th>GRU</th>\n",
       "      <td>0.188001</td>\n",
       "      <td>0.260423</td>\n",
       "      <td>0.991736</td>\n",
       "      <td>0.053144</td>\n",
       "    </tr>\n",
       "    <tr>\n",
       "      <th>B_GRU</th>\n",
       "      <td>0.260589</td>\n",
       "      <td>0.341699</td>\n",
       "      <td>0.985705</td>\n",
       "      <td>0.050662</td>\n",
       "    </tr>\n",
       "  </tbody>\n",
       "</table>\n",
       "</div>"
      ],
      "text/plain": [
       "            MAE      RMSE        R2      TIME\n",
       "RNN    1.775772  2.138555  0.436643  0.052778\n",
       "DNN    0.497220  0.654671  0.947249  0.042319\n",
       "SVM    0.372712  0.459728  0.974035  0.018317\n",
       "LSTM   0.241644  0.339661  0.985914  0.063001\n",
       "GRU    0.188001  0.260423  0.991736  0.053144\n",
       "B_GRU  0.260589  0.341699  0.985705  0.050662"
      ]
     },
     "execution_count": 52,
     "metadata": {},
     "output_type": "execute_result"
    }
   ],
   "source": [
    "res"
   ]
  },
  {
   "cell_type": "code",
   "execution_count": 53,
   "id": "f657c539-ecac-4e37-8ac7-e26f52d5e663",
   "metadata": {},
   "outputs": [],
   "source": [
    "res.to_csv('./doc/indictor.csv')"
   ]
  },
  {
   "cell_type": "code",
   "execution_count": null,
   "id": "46d13577-302c-455c-9e7e-bc6e1593ac43",
   "metadata": {},
   "outputs": [],
   "source": []
  }
 ],
 "metadata": {
  "kernelspec": {
   "display_name": "tensorflow",
   "language": "python",
   "name": "tensorflow"
  },
  "language_info": {
   "codemirror_mode": {
    "name": "ipython",
    "version": 3
   },
   "file_extension": ".py",
   "mimetype": "text/x-python",
   "name": "python",
   "nbconvert_exporter": "python",
   "pygments_lexer": "ipython3",
   "version": "3.7.12"
  }
 },
 "nbformat": 4,
 "nbformat_minor": 5
}
