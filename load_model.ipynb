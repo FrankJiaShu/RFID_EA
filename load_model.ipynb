{
 "cells": [
  {
   "cell_type": "markdown",
   "id": "1fbabddf",
   "metadata": {},
   "source": [
    "# 加载训练模型实验"
   ]
  },
  {
   "cell_type": "markdown",
   "id": "76d3cfe0",
   "metadata": {},
   "source": [
    "## 数据准备与加载"
   ]
  },
  {
   "cell_type": "code",
   "execution_count": 1,
   "id": "d8562b1a",
   "metadata": {},
   "outputs": [],
   "source": [
    "import joblib\n",
    "import math\n",
    "import copy\n",
    "import numpy as np\n",
    "import pandas as pd\n",
    "from tensorflow.keras.models import load_model \n",
    "from sklearn.model_selection import train_test_split\n",
    "from sklearn.metrics import mean_absolute_error, explained_variance_score, r2_score, mean_squared_error"
   ]
  },
  {
   "cell_type": "code",
   "execution_count": 2,
   "id": "33feaec8",
   "metadata": {},
   "outputs": [],
   "source": [
    "# 加载训练数据\n",
    "def load_data(path):\n",
    "    df = pd.read_csv(path)\n",
    "    dv = df.values\n",
    "    X = dv[:, 1:-2]\n",
    "    Y = dv[:, -2:]\n",
    "    return X[:, :, np.newaxis], Y\n",
    "\n",
    "# 数据准备\n",
    "X02, y02 = load_data('./dataset/location_data02.csv')\n",
    "X02 = np.reshape(X02, (20, 100))\n",
    "\n",
    "# 数据再处理\n",
    "X, y = load_data('./dataset/location_data.csv')\n",
    "X_train, X_test, y_train, y_test = train_test_split(X, y, test_size=0.2, random_state=2021)\n",
    "\n",
    "# 针对b2_gru处理数据\n",
    "X_train_2 = copy.deepcopy(X_train)\n",
    "X_test_2 = copy.deepcopy(X_test)\n",
    "for i in range(len(X_train_2)):\n",
    "    for j in range(len(X_train_2[i])-1, 0, -1):\n",
    "        X_train_2[i][j] = X_train_2[i][j] - X_train_2[i][j-1]\n",
    "for i in range(len(X_test_2)):\n",
    "    for j in range(len(X_test_2[i]) - 1, 0, -1):\n",
    "        X_test_2[i][j] = X_test_2[i][j] - X_test_2[i][j-1]"
   ]
  },
  {
   "cell_type": "markdown",
   "id": "6b049d03",
   "metadata": {},
   "source": [
    "## 导入双SVR模型计算指标"
   ]
  },
  {
   "cell_type": "code",
   "execution_count": 3,
   "id": "1c46e0a0",
   "metadata": {},
   "outputs": [
    {
     "name": "stderr",
     "output_type": "stream",
     "text": [
      "/Users/frank/anaconda3/envs/tensorflow/lib/python3.7/site-packages/sklearn/base.py:333: UserWarning: Trying to unpickle estimator SVR from version 0.23.2 when using version 1.0.1. This might lead to breaking code or invalid results. Use at your own risk. For more info please refer to:\n",
      "https://scikit-learn.org/stable/modules/model_persistence.html#security-maintainability-limitations\n",
      "  UserWarning,\n"
     ]
    }
   ],
   "source": [
    "# 加载坐标模型\n",
    "model_x = joblib.load('./models/SVR_x_2021.model')\n",
    "model_y = joblib.load('./models/SVR_y_2021.model')"
   ]
  },
  {
   "cell_type": "code",
   "execution_count": 4,
   "id": "b84485da",
   "metadata": {},
   "outputs": [
    {
     "name": "stdout",
     "output_type": "stream",
     "text": [
      "[[2.019872536804463, 1.1504658854707914], [1.9174415171418377, 4.857493601728745], [2.8777523461834495, 8.218324483304807], [4.3622108033891775, 0.6274118267515414], [4.055571006636194, 6.1590862433955], [5.350674626615138, 2.8127786337651046], [6.42470271360842, 8.819694579139078], [6.980132678366614, 5.587903226497848], [8.356732356614094, 1.3613988644955959], [9.286397538342719, 7.910289796490444]]\n",
      "MAE指标: 0.3727123714581049\n",
      "MSE指标: 0.21134940529974042\n",
      "RMSE指标: 0.45972753376292397\n",
      "r2指标: 0.9740350753248724\n",
      "ev指标: 0.9785745183118661\n",
      "CPU times: user 17.5 ms, sys: 3.22 ms, total: 20.7 ms\n",
      "Wall time: 21 ms\n"
     ]
    }
   ],
   "source": [
    "%%time\n",
    "# 预测结果分析\n",
    "px = model_x.predict(X02)\n",
    "py = model_y.predict(X02)\n",
    "pxy = [[xi, yi] for xi, yi in zip(px, py)]\n",
    "print(pxy[:10])\n",
    "print('MAE指标:', mean_absolute_error(y02, pxy))\n",
    "print('MSE指标:', mean_squared_error(y02, pxy))\n",
    "print('RMSE指标:', math.sqrt(mean_squared_error(y02, pxy)))\n",
    "print('r2指标:', r2_score(y02, pxy))\n",
    "print('ev指标:', explained_variance_score(y02, pxy))"
   ]
  },
  {
   "cell_type": "markdown",
   "id": "789114fa",
   "metadata": {},
   "source": [
    "## 导入LSTM模型计算指标"
   ]
  },
  {
   "cell_type": "code",
   "execution_count": 5,
   "id": "bf61bbfa",
   "metadata": {},
   "outputs": [
    {
     "name": "stderr",
     "output_type": "stream",
     "text": [
      "2021-12-23 15:19:46.161681: I tensorflow/core/platform/cpu_feature_guard.cc:142] This TensorFlow binary is optimized with oneAPI Deep Neural Network Library (oneDNN) to use the following CPU instructions in performance-critical operations:  SSE4.1 SSE4.2 AVX AVX2 FMA\n",
      "To enable them in other operations, rebuild TensorFlow with the appropriate compiler flags.\n"
     ]
    },
    {
     "name": "stdout",
     "output_type": "stream",
     "text": [
      "Model: \"sequential\"\n",
      "_________________________________________________________________\n",
      "Layer (type)                 Output Shape              Param #   \n",
      "=================================================================\n",
      "simple_rnn (SimpleRNN)       (None, 100)               10200     \n",
      "_________________________________________________________________\n",
      "dense (Dense)                (None, 2)                 202       \n",
      "=================================================================\n",
      "Total params: 10,402\n",
      "Trainable params: 10,402\n",
      "Non-trainable params: 0\n",
      "_________________________________________________________________\n"
     ]
    }
   ],
   "source": [
    "# 加载预训练模型\n",
    "lstm = load_model('./models/LSTM_2021.h5')\n",
    "lstm.summary()"
   ]
  },
  {
   "cell_type": "code",
   "execution_count": 6,
   "id": "82cff5b1",
   "metadata": {},
   "outputs": [
    {
     "name": "stderr",
     "output_type": "stream",
     "text": [
      "2021-12-23 15:19:46.644501: I tensorflow/compiler/mlir/mlir_graph_optimization_pass.cc:116] None of the MLIR optimization passes are enabled (registered 2)\n"
     ]
    },
    {
     "name": "stdout",
     "output_type": "stream",
     "text": [
      "MAE指标: 1.7231602009743456\n",
      "MSE指标: 4.335757808308867\n",
      "RMSE指标: 2.0822482580876054\n",
      "r2指标: 0.41324465066506944\n",
      "ev指标: 0.42018764615598747\n",
      "CPU times: user 387 ms, sys: 64.6 ms, total: 451 ms\n",
      "Wall time: 505 ms\n"
     ]
    }
   ],
   "source": [
    "%%time\n",
    "# 预测测试集计算指标\n",
    "pxy = lstm.predict(X_test)\n",
    "pxy = np.squeeze(pxy)\n",
    "print('MAE指标:', mean_absolute_error(y_test, pxy))\n",
    "print('MSE指标:', mean_squared_error(y_test, pxy))\n",
    "print('RMSE指标:', math.sqrt(mean_squared_error(y_test, pxy)))\n",
    "print('r2指标:', r2_score(y_test, pxy))\n",
    "print('ev指标:', explained_variance_score(y_test, pxy))"
   ]
  },
  {
   "cell_type": "code",
   "execution_count": 7,
   "id": "48c899d6",
   "metadata": {},
   "outputs": [
    {
     "name": "stdout",
     "output_type": "stream",
     "text": [
      "MAE指标: 1.81492606818676\n",
      "MSE指标: 4.801732356950433\n",
      "RMSE指标: 2.191285548930224\n",
      "r2指标: 0.4072556089766538\n",
      "ev指标: 0.42161997006911445\n",
      "CPU times: user 48.3 ms, sys: 4.72 ms, total: 53 ms\n",
      "Wall time: 44.2 ms\n"
     ]
    }
   ],
   "source": [
    "%%time\n",
    "# 02数据预测计算指标\n",
    "X02 = np.reshape(X02, (20, 100, 1))\n",
    "pxy = lstm.predict(X02)\n",
    "pxy = np.squeeze(pxy)\n",
    "print('MAE指标:', mean_absolute_error(y02, pxy))\n",
    "print('MSE指标:', mean_squared_error(y02, pxy))\n",
    "print('RMSE指标:', math.sqrt(mean_squared_error(y02, pxy)))\n",
    "print('r2指标:', r2_score(y02, pxy))\n",
    "print('ev指标:', explained_variance_score(y02, pxy))"
   ]
  },
  {
   "cell_type": "markdown",
   "id": "3fe11908-82a5-41af-bb2c-634bcd4a7216",
   "metadata": {},
   "source": [
    "## 导入RNN模型计算指标"
   ]
  },
  {
   "cell_type": "code",
   "execution_count": 8,
   "id": "d3f40bec-9f24-40f9-adb6-51eafeda03e2",
   "metadata": {},
   "outputs": [
    {
     "name": "stdout",
     "output_type": "stream",
     "text": [
      "Model: \"sequential\"\n",
      "_________________________________________________________________\n",
      "Layer (type)                 Output Shape              Param #   \n",
      "=================================================================\n",
      "simple_rnn (SimpleRNN)       (None, 100)               10200     \n",
      "_________________________________________________________________\n",
      "dense (Dense)                (None, 2)                 202       \n",
      "=================================================================\n",
      "Total params: 10,402\n",
      "Trainable params: 10,402\n",
      "Non-trainable params: 0\n",
      "_________________________________________________________________\n"
     ]
    }
   ],
   "source": [
    "# 加载预训练模型\n",
    "rnn = load_model('./models/RNN_2021.h5')\n",
    "rnn.summary()"
   ]
  },
  {
   "cell_type": "code",
   "execution_count": 9,
   "id": "9e8b96d9-6ed4-421e-bbf4-9e92c2324b88",
   "metadata": {},
   "outputs": [
    {
     "name": "stdout",
     "output_type": "stream",
     "text": [
      "MAE指标: 1.1781973842971025\n",
      "MSE指标: 2.403211107677642\n",
      "RMSE指标: 1.5502293726018876\n",
      "r2指标: 0.6717305639104325\n",
      "ev指标: 0.6726321851389807\n",
      "CPU times: user 324 ms, sys: 31.9 ms, total: 356 ms\n",
      "Wall time: 237 ms\n"
     ]
    }
   ],
   "source": [
    "%%time\n",
    "# 预测测试集计算指标\n",
    "pxy = rnn.predict(X_test)\n",
    "pxy = np.squeeze(pxy)\n",
    "print('MAE指标:', mean_absolute_error(y_test, pxy))\n",
    "print('MSE指标:', mean_squared_error(y_test, pxy))\n",
    "print('RMSE指标:', math.sqrt(mean_squared_error(y_test, pxy)))\n",
    "print('r2指标:', r2_score(y_test, pxy))\n",
    "print('ev指标:', explained_variance_score(y_test, pxy))"
   ]
  },
  {
   "cell_type": "code",
   "execution_count": 10,
   "id": "e2a01955-cedb-4c65-9233-788dec53a2af",
   "metadata": {},
   "outputs": [
    {
     "name": "stdout",
     "output_type": "stream",
     "text": [
      "MAE指标: 1.2487183418869972\n",
      "MSE指标: 2.6452814794807122\n",
      "RMSE指标: 1.6264321318397248\n",
      "r2指标: 0.6743408010910564\n",
      "ev指标: 0.676285087741481\n",
      "CPU times: user 49.1 ms, sys: 4.23 ms, total: 53.3 ms\n",
      "Wall time: 47.1 ms\n"
     ]
    }
   ],
   "source": [
    "%%time\n",
    "# 02数据预测计算指标\n",
    "X02 = np.reshape(X02, (20, 100, 1))\n",
    "pxy = rnn.predict(X02)\n",
    "pxy = np.squeeze(pxy)\n",
    "print('MAE指标:', mean_absolute_error(y02, pxy))\n",
    "print('MSE指标:', mean_squared_error(y02, pxy))\n",
    "print('RMSE指标:', math.sqrt(mean_squared_error(y02, pxy)))\n",
    "print('r2指标:', r2_score(y02, pxy))\n",
    "print('ev指标:', explained_variance_score(y02, pxy))"
   ]
  },
  {
   "cell_type": "markdown",
   "id": "3e53e089-5512-4402-a732-fee09a898070",
   "metadata": {},
   "source": [
    "## 导入DNN模型计算指标"
   ]
  },
  {
   "cell_type": "code",
   "execution_count": 11,
   "id": "67b70ad1-6b97-4e26-ae44-a246b73ed297",
   "metadata": {},
   "outputs": [
    {
     "name": "stdout",
     "output_type": "stream",
     "text": [
      "Model: \"sequential_1\"\n",
      "_________________________________________________________________\n",
      "Layer (type)                 Output Shape              Param #   \n",
      "=================================================================\n",
      "dense_3 (Dense)              (None, 100)               10100     \n",
      "_________________________________________________________________\n",
      "dense_4 (Dense)              (None, 10)                1010      \n",
      "_________________________________________________________________\n",
      "dense_5 (Dense)              (None, 2)                 22        \n",
      "=================================================================\n",
      "Total params: 11,132\n",
      "Trainable params: 11,132\n",
      "Non-trainable params: 0\n",
      "_________________________________________________________________\n"
     ]
    }
   ],
   "source": [
    "# 加载预训练模型\n",
    "dnn = load_model('./models/DNN_2021.h5')\n",
    "dnn.summary()"
   ]
  },
  {
   "cell_type": "code",
   "execution_count": 12,
   "id": "587b9077-7bb7-4cbf-920b-fbd3be2d691f",
   "metadata": {},
   "outputs": [
    {
     "name": "stdout",
     "output_type": "stream",
     "text": [
      "MAE指标: 0.5923504185073079\n",
      "MSE指标: 0.5842110479024896\n",
      "RMSE指标: 0.7643369989098326\n",
      "r2指标: 0.9210565716676742\n",
      "ev指标: 0.9299811005363616\n",
      "CPU times: user 81.7 ms, sys: 5.13 ms, total: 86.8 ms\n",
      "Wall time: 92.4 ms\n"
     ]
    }
   ],
   "source": [
    "%%time\n",
    "# 预测测试集计算指标\n",
    "X_test = np.reshape(X_test, newshape=(400, 100))\n",
    "pxy = dnn.predict(X_test)\n",
    "pxy = np.squeeze(pxy)\n",
    "print('MAE指标:', mean_absolute_error(y_test, pxy))\n",
    "print('MSE指标:', mean_squared_error(y_test, pxy))\n",
    "print('RMSE指标:', math.sqrt(mean_squared_error(y_test, pxy)))\n",
    "print('r2指标:', r2_score(y_test, pxy))\n",
    "print('ev指标:', explained_variance_score(y_test, pxy))"
   ]
  },
  {
   "cell_type": "code",
   "execution_count": 13,
   "id": "5bb13dc0-1656-4d67-aec0-8a32901d7be4",
   "metadata": {},
   "outputs": [
    {
     "name": "stdout",
     "output_type": "stream",
     "text": [
      "MAE指标: 0.4972196419835091\n",
      "MSE指标: 0.4285942016590419\n",
      "RMSE指标: 0.6546710637098924\n",
      "r2指标: 0.9472487192311967\n",
      "ev指标: 0.9538703052119051\n",
      "CPU times: user 42.6 ms, sys: 2.78 ms, total: 45.4 ms\n",
      "Wall time: 49 ms\n"
     ]
    }
   ],
   "source": [
    "%%time\n",
    "# 02数据预测计算指标\n",
    "X02 = np.reshape(X02, (20, 100))\n",
    "pxy = dnn.predict(X02)\n",
    "pxy = np.squeeze(pxy)\n",
    "print('MAE指标:', mean_absolute_error(y02, pxy))\n",
    "print('MSE指标:', mean_squared_error(y02, pxy))\n",
    "print('RMSE指标:', math.sqrt(mean_squared_error(y02, pxy)))\n",
    "print('r2指标:', r2_score(y02, pxy))\n",
    "print('ev指标:', explained_variance_score(y02, pxy))"
   ]
  },
  {
   "cell_type": "code",
   "execution_count": null,
   "id": "26cc6384-5ad8-4e12-a830-379ba8e975e3",
   "metadata": {},
   "outputs": [],
   "source": []
  },
  {
   "cell_type": "code",
   "execution_count": null,
   "id": "43b414cb-b6c6-45b1-ae89-958861977414",
   "metadata": {},
   "outputs": [],
   "source": []
  }
 ],
 "metadata": {
  "kernelspec": {
   "display_name": "tensorflow",
   "language": "python",
   "name": "tensorflow"
  },
  "language_info": {
   "codemirror_mode": {
    "name": "ipython",
    "version": 3
   },
   "file_extension": ".py",
   "mimetype": "text/x-python",
   "name": "python",
   "nbconvert_exporter": "python",
   "pygments_lexer": "ipython3",
   "version": "3.7.12"
  }
 },
 "nbformat": 4,
 "nbformat_minor": 5
}
